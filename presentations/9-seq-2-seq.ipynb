{
 "cells": [
  {
   "cell_type": "markdown",
   "id": "b1c2bec3-2bdc-4ff6-8d04-c42c9e31aaba",
   "metadata": {
    "cell_style": "center",
    "slideshow": {
     "slide_type": "slide"
    }
   },
   "source": [
    "# Modele generatywne"
   ]
  },
  {
   "cell_type": "markdown",
   "id": "cabc2949-0ff7-4915-9504-18ef967d6d22",
   "metadata": {
    "slideshow": {
     "slide_type": "subslide"
    }
   },
   "source": [
    "# Dlaczego text-to-text?\n",
    "\n",
    "* tłumaczenie maszynowe\n",
    "* abstraktywne generowanie streszczeń\n",
    "* abstraktywne odpowiadanie na pytania\n",
    "* uniwersalna architektura - dowolne (?) zadanie NLP może być przekształcone w t2t"
   ]
  },
  {
   "cell_type": "markdown",
   "id": "3c7bbd5e-47dc-4ca4-acc8-d5b251107c87",
   "metadata": {
    "slideshow": {
     "slide_type": "slide"
    }
   },
   "source": [
    "# Model T5 - Text-to-text transformer\n",
    "\n",
    "* model typu text-to-text - pełny encoder i decoder\n",
    "* występuje w wielu rozmiarach - największy 11 milardów parametrów (t5-11B)\n",
    "* artykuł C. Raffel et al. *Exploring the Limits of Transfer Learning with a Unified Text-to-Text Transformer* zawiera szereg ciekawych obserwacji dot. treningu modeli językowych"
   ]
  },
  {
   "cell_type": "markdown",
   "id": "8f93c2e8-8621-4817-9b38-7ffda240adc9",
   "metadata": {
    "slideshow": {
     "slide_type": "subslide"
    }
   },
   "source": [
    "# T5 - sposób treningu\n",
    "\n",
    "&nbsp;\n",
    "\n",
    "<center>\n",
    "    <img src=\"img/t5-pretrain.png\" />\n",
    "    </center>"
   ]
  },
  {
   "cell_type": "markdown",
   "id": "734a3611-5af2-4632-8e0a-01749cce2e1b",
   "metadata": {
    "slideshow": {
     "slide_type": "subslide"
    }
   },
   "source": [
    "# T5 - uniwersalność modelu\n",
    "\n",
    "&nbsp;\n",
    "\n",
    "<center>\n",
    "    <img src=\"img/t5-universal.png\" />\n",
    "    </center>"
   ]
  },
  {
   "cell_type": "markdown",
   "id": "aa6bc68a-2cfe-4707-aca9-f1f0f88afa33",
   "metadata": {
    "slideshow": {
     "slide_type": "subslide"
    }
   },
   "source": [
    "# T5 - czy pretrening jest **zawsze** potrzebny?\n",
    "\n",
    "&nbsp;\n",
    "\n",
    "<center>\n",
    "    <img src=\"img/t5-table-1.png\" />\n",
    "    </center>"
   ]
  },
  {
   "cell_type": "markdown",
   "id": "9e893574-23b2-4695-869e-9857429a8141",
   "metadata": {
    "slideshow": {
     "slide_type": "subslide"
    }
   },
   "source": [
    "# T5 - pełny enkoder i dekoder, a model kauzalny\n",
    "\n",
    "&nbsp;\n",
    "\n",
    "<center>\n",
    "    <img src=\"img/t5-enc-dec-vs-causal.png\" />\n",
    "    </center>"
   ]
  },
  {
   "cell_type": "markdown",
   "id": "ea4e0e91-6cb6-4e09-85ca-ca1bd4bb4f5b",
   "metadata": {
    "slideshow": {
     "slide_type": "notes"
    }
   },
   "source": [
    "*With fully causal masking, the\n",
    "model’s representation of a prefix state can only depend on prior entries of the prefix. So,\n",
    "when predicting an entry of the output, the model will attend to a representation of the\n",
    "prefix that is unnecessarily limited.*"
   ]
  },
  {
   "cell_type": "markdown",
   "id": "6d2d3e1c-f3ef-4274-b20f-35ace2e8aa97",
   "metadata": {
    "slideshow": {
     "slide_type": "subslide"
    }
   },
   "source": [
    "# T5 - enkoder i dekoder, czy model kauzalny?\n",
    "\n",
    "&nbsp;\n",
    "\n",
    "<center>\n",
    "    <img src=\"img/t5-enc-dec-results.png\" />\n",
    "    </center>"
   ]
  },
  {
   "cell_type": "markdown",
   "id": "10936604-baa6-4107-b6ab-bafe1697ed08",
   "metadata": {
    "slideshow": {
     "slide_type": "subslide"
    }
   },
   "source": [
    "# T5 - cel pretreningu\n",
    "\n",
    "&nbsp;\n",
    "\n",
    "<center>\n",
    "    <img src=\"img/t5-target.png\" />\n",
    "    </center>"
   ]
  },
  {
   "cell_type": "markdown",
   "id": "5d6d808b-bcb4-4188-8b58-002d5c46d22d",
   "metadata": {
    "slideshow": {
     "slide_type": "subslide"
    }
   },
   "source": [
    "# T5 - cel pretreningu\n",
    "\n",
    "&nbsp;\n",
    "\n",
    "<center>\n",
    "    <img src=\"img/t5-target-1.png\" />\n",
    "    </center>"
   ]
  },
  {
   "cell_type": "markdown",
   "id": "2711c354-3c6b-4c4d-a28c-3b587b24f668",
   "metadata": {
    "slideshow": {
     "slide_type": "fragment"
    }
   },
   "source": [
    "<center>\n",
    "    <img src=\"img/t5-target-2.png\" />\n",
    "    </center>"
   ]
  },
  {
   "cell_type": "markdown",
   "id": "adda2ad1-e60f-48be-95a2-4d68edbead43",
   "metadata": {
    "slideshow": {
     "slide_type": "subslide"
    }
   },
   "source": [
    "# T5 - możliwe strategie uczenia\n",
    "&nbsp;\n",
    "\n",
    "<center>\n",
    "    <img src=\"img/t5-flowchart.png\" />\n",
    "    </center>"
   ]
  },
  {
   "cell_type": "markdown",
   "id": "918d6e62-0d27-466c-80f1-e2d7c016fd1b",
   "metadata": {
    "slideshow": {
     "slide_type": "fragment"
    }
   },
   "source": [
    "Wybrano: 15% oraz długość 3, ale różnice są minimalne dla większości konfiguracji. Jednakże większa dłogść spanu i mniejsza liczba spanów prowadzą do krótszego czasu uczenia."
   ]
  },
  {
   "cell_type": "markdown",
   "id": "edf2d8bb-ef33-4441-b2dc-dc1dc43b1377",
   "metadata": {
    "slideshow": {
     "slide_type": "subslide"
    }
   },
   "source": [
    "# Jakich danych użyć do uczenia modelu?\n",
    "\n",
    "* C4 - collosal common crawl (filtrowanie: deduplikacja, usuwanie przekleństw, tylko zdania, itp.)\n",
    "* C4 unfiltered - jw. ale niefiltrowany (ale tylko tekst w j. angielskim)\n",
    "* realnews like - C4 ale tylko domeny \"newsowe\"\n",
    "* webtext like - C4 ale tylko domeny z >=3 plusami na Reddicie\n",
    "* Wikipedia\n",
    "* Wikipedia + Toronto Book Corpus"
   ]
  },
  {
   "cell_type": "markdown",
   "id": "8413eda9-47c8-4525-a999-a067b8703fb0",
   "metadata": {
    "slideshow": {
     "slide_type": "subslide"
    }
   },
   "source": [
    "# C4 - rodzaj danych treningowych\n",
    "&nbsp;\n",
    "\n",
    "<center>\n",
    "    <img src=\"img/c4.png\" />\n",
    "    </center>"
   ]
  },
  {
   "cell_type": "markdown",
   "id": "6f4fcf84-dfdc-44b0-9494-41980c673719",
   "metadata": {
    "slideshow": {
     "slide_type": "fragment"
    }
   },
   "source": [
    "*The main lesson behind these findings is that pre-training on in-domain unlabeled data can improve performance on downstream tasks.*"
   ]
  },
  {
   "cell_type": "markdown",
   "id": "16d723da-e3ee-483d-bd47-fbf9aeeecda2",
   "metadata": {
    "slideshow": {
     "slide_type": "subslide"
    }
   },
   "source": [
    "# C4 - rozmiar\n",
    "\n",
    "<center>\n",
    "    <img src=\"img/c4-size.png\" />\n",
    "    </center>"
   ]
  },
  {
   "cell_type": "markdown",
   "id": "edcac656-93c2-40be-8150-db60b005780d",
   "metadata": {
    "slideshow": {
     "slide_type": "fragment"
    }
   },
   "source": [
    "<center>\n",
    "    <img src=\"img/c4-loss.png\" />\n",
    "    </center>"
   ]
  },
  {
   "cell_type": "markdown",
   "id": "ac327a1f-f7d5-49e4-8756-fbe4d5289914",
   "metadata": {
    "slideshow": {
     "slide_type": "subslide"
    }
   },
   "source": [
    "# T5 - multitask\n",
    "\n",
    "<center>\n",
    "    <img src=\"img/t5-multitask.png\" />\n",
    "    </center>"
   ]
  },
  {
   "cell_type": "markdown",
   "id": "3dd80291-874e-4ace-b62c-d0d1476a115e",
   "metadata": {
    "slideshow": {
     "slide_type": "subslide"
    }
   },
   "source": [
    "# T5 - size\n",
    "\n",
    "<center>\n",
    "    <img src=\"img/t5-size.png\" />\n",
    "    </center>"
   ]
  },
  {
   "cell_type": "markdown",
   "id": "f301409b-6d22-4417-b6ae-b304b8b304a2",
   "metadata": {
    "slideshow": {
     "slide_type": "subslide"
    }
   },
   "source": [
    "# Warianty T5\n",
    "\n",
    "* mT5 - wielojęzyczny (100 języków) model uczony w ten sam sposób co T5 (bez multitask learning), osiągnął najlepsze wyniki w kilku zadaniach w na PolEval\n",
    "* plT5 - polska wersja T5, wytrenowana przez Allegro"
   ]
  }
 ],
 "metadata": {
  "celltoolbar": "Slideshow",
  "kernelspec": {
   "display_name": "Python 3 (ipykernel)",
   "language": "python",
   "name": "python3"
  },
  "language_info": {
   "codemirror_mode": {
    "name": "ipython",
    "version": 3
   },
   "file_extension": ".py",
   "mimetype": "text/x-python",
   "name": "python",
   "nbconvert_exporter": "python",
   "pygments_lexer": "ipython3",
   "version": "3.10.6"
  },
  "toc": {
   "base_numbering": 1,
   "nav_menu": {},
   "number_sections": false,
   "sideBar": false,
   "skip_h1_title": false,
   "title_cell": "Table of Contents",
   "title_sidebar": "Contents",
   "toc_cell": false,
   "toc_position": {},
   "toc_section_display": true,
   "toc_window_display": false
  }
 },
 "nbformat": 4,
 "nbformat_minor": 5
}
