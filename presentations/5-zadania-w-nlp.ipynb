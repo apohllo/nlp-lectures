{
 "cells": [
  {
   "cell_type": "markdown",
   "metadata": {
    "slideshow": {
     "slide_type": "slide"
    }
   },
   "source": [
    "# Praktyczne problemy przetwarzania języków naturlanych\n",
    "\n",
    "<br/>\n",
    "\n",
    "## dr inż. Aleksander Smywiński-Pohl\n",
    "\n",
    "## apohllo@agh.edu.pl\n",
    "\n",
    "## http://apohllo.pl/dydaktyka/nlp\n",
    "\n",
    "## konsultacje: czw. 16:30-17:30"
   ]
  },
  {
   "cell_type": "markdown",
   "metadata": {
    "slideshow": {
     "slide_type": "slide"
    }
   },
   "source": [
    "# Klasyfikacja tekstu"
   ]
  },
  {
   "cell_type": "markdown",
   "metadata": {
    "slideshow": {
     "slide_type": "subslide"
    }
   },
   "source": [
    "## Segmentacja obrazu\n",
    "\n",
    "<center><img src=\"img/segmentation.jpeg\"/></center>"
   ]
  },
  {
   "cell_type": "markdown",
   "metadata": {
    "slideshow": {
     "slide_type": "subslide"
    }
   },
   "source": [
    "## Klasyfikacja tekstu\n",
    "\n",
    "<center><img src=\"img/sentiment-prediction.png\"/></center>"
   ]
  },
  {
   "cell_type": "markdown",
   "metadata": {
    "slideshow": {
     "slide_type": "subslide"
    }
   },
   "source": [
    "## Klasyfikacja binarna\n",
    "\n",
    "&nbsp;\n",
    "\n",
    "<center><img src=\"img/black-white.jpg\"/></center>"
   ]
  },
  {
   "cell_type": "markdown",
   "metadata": {
    "slideshow": {
     "slide_type": "notes"
    }
   },
   "source": [
    "* dwie klasy, np. 0 i 1\n",
    "* obiekt należy zawsze albo do 0 albo do 1\n",
    "* przykład: spam"
   ]
  },
  {
   "cell_type": "markdown",
   "metadata": {
    "slideshow": {
     "slide_type": "subslide"
    }
   },
   "source": [
    "## Przykład klasyfikacji binarnej tekstu\n",
    "\n",
    "### Cyberbullying Detection (Klej benchmark)\n",
    "\n",
    "<span style=\"color: red\">Sekta, cha, cha, cha, obudź się z hipnozy, jesteś bolszewikiem</span>\n",
    "\n",
    "<span style=\"color: green\">Jak powiem, że pierwsze słysze, to będzie kompromitacja czy nie? 😄</span>\n",
    "\n",
    "https://github.com/ptaszynski/cyberbullying-Polish"
   ]
  },
  {
   "cell_type": "markdown",
   "metadata": {
    "slideshow": {
     "slide_type": "notes"
    }
   },
   "source": [
    "Należy wziąć pod uwagę fakt, że w wielu przypadkach klasy nie będą równoliczne, co istotnie w pływa na proces \n",
    "uczenia klasyfikatorów."
   ]
  },
  {
   "cell_type": "markdown",
   "metadata": {
    "slideshow": {
     "slide_type": "subslide"
    }
   },
   "source": [
    "## Klasyfikacja wieloklasowa\n",
    "\n",
    "\n",
    "&nbsp;\n",
    "\n",
    "<center><img src=\"img/animal-groups.png\" width=\"900px\"/></center>"
   ]
  },
  {
   "cell_type": "markdown",
   "metadata": {
    "slideshow": {
     "slide_type": "notes"
    }
   },
   "source": [
    "* wiele klas, np. ssaki, płazy, gady, ptaki, ryby, bezkręgowce (w rzeczywistości podział ten jest dużo bardziej skomplikowany)\n",
    "* obiekt należy zawsze tylko do 1 klasy"
   ]
  },
  {
   "cell_type": "markdown",
   "metadata": {
    "slideshow": {
     "slide_type": "subslide"
    }
   },
   "source": [
    "## Dziobak\n",
    "\n",
    "<center><img src=\"img/dziobak.jpeg\"/></center>"
   ]
  },
  {
   "cell_type": "markdown",
   "metadata": {
    "slideshow": {
     "slide_type": "subslide"
    }
   },
   "source": [
    "## Przykład klasyfikacji wieloklasowej\n",
    "\n",
    "### Zbiór zdań anotowanych ze względu na relację wynikania\n",
    "\n",
    "\n",
    "`s1`: Zawodnik na boisku ze skórzaną rękawicą robi wykrok w przód na piasku.\t\n",
    "\n",
    "`s2`: Wykrok w przód jest robiony na piasku na boisku przez zawodnika ze skórzaną rękawicą.\n",
    "\n",
    "`s1` względem `s2` $\\rightarrow$ <span style=\"color: green\">entailment</span>\n",
    "\n",
    "\n"
   ]
  },
  {
   "cell_type": "markdown",
   "metadata": {
    "slideshow": {
     "slide_type": "fragment"
    }
   },
   "source": [
    "`s1`: Zawodnik na boisku ze skórzaną rękawicą robi wykrok w przód na piasku.\n",
    "\n",
    "`s2`: Mężczyzna w sportowym stroju stoi na ugiętej nodze na boisku, drugą nogę wystawiając do tyłu.\n",
    "\n",
    "`s1` względem `s2` $\\rightarrow$ <span style=\"color: blue\">neutral</span>"
   ]
  },
  {
   "cell_type": "markdown",
   "metadata": {
    "slideshow": {
     "slide_type": "fragment"
    }
   },
   "source": [
    "`s1`: Żaden człowiek nie biegnie na boisku w kierunku lecącej piłki.\n",
    "\n",
    "`s2`: Człowiek w sportowym stroju i kasku biegnie na boisku w kierunku lecącej piłki.\n",
    "\n",
    "`s1` względem `s2` $\\rightarrow$ <span style=\"color: red\">contradiction</span>\n",
    "\n",
    "http://zil.ipipan.waw.pl/Scwad/CDSCorpus"
   ]
  },
  {
   "cell_type": "markdown",
   "metadata": {
    "slideshow": {
     "slide_type": "subslide"
    }
   },
   "source": [
    "## Klasyfikacja wieloetykietowa\n",
    "\n",
    "&nbsp;\n",
    "\n",
    "<center><img src=\"img/ticket-labels.png\"/></center>"
   ]
  },
  {
   "cell_type": "markdown",
   "metadata": {
    "slideshow": {
     "slide_type": "subslide"
    }
   },
   "source": [
    "## Przykład klasyfikacji wieloetykietowej tekstu\n",
    "\n",
    "### Kategorie DBpedii\n",
    "\n",
    "*Liu Chao-shiuan (Chinese: 劉兆玄; pinyin: Liú Zhàoxuán; born May 10, 1943) is a Taiwanese educator and politician. He is a former president of the National Tsing Hua University (1987–1993) and Soochow University (2004–2008) and a former Premier of the Republic of China (2008–2009).*\n",
    "\n",
    "\n",
    "**Klasy**: Agent, Politician, PrimeMinister\n",
    "\n",
    "Źródło: https://www.kaggle.com/danofer/dbpedia-classes"
   ]
  },
  {
   "cell_type": "markdown",
   "metadata": {
    "slideshow": {
     "slide_type": "notes"
    }
   },
   "source": [
    "* dwie lub więcej klas\n",
    "* obiekt może należeć do wielu klas\n",
    "* przykład gatunki filmowe: film science-fiction może być jednocześnie thrillerem (*vide* Obcy, 8 pasażer Nostromo)"
   ]
  },
  {
   "cell_type": "markdown",
   "metadata": {
    "slideshow": {
     "slide_type": "subslide"
    }
   },
   "source": [
    "# Miary poprawności klasyfikacji binarnej\n",
    "\n",
    "&nbsp;\n",
    "\n",
    "<center><img src=\"img/tp-fp.png\" width=\"500px\"/></center>"
   ]
  },
  {
   "cell_type": "markdown",
   "metadata": {
    "slideshow": {
     "slide_type": "fragment"
    }
   },
   "source": [
    "* dokładność (accurracy) \n",
    "$$\n",
    "Acc = \\frac{TP + TN}{TP + TN + FP + FN}\n",
    "$$"
   ]
  },
  {
   "cell_type": "markdown",
   "metadata": {
    "slideshow": {
     "slide_type": "fragment"
    }
   },
   "source": [
    "* czułość (recall)  \n",
    "$$Rc = \\frac{TP}{TP + FN}$$"
   ]
  },
  {
   "cell_type": "markdown",
   "metadata": {
    "slideshow": {
     "slide_type": "fragment"
    }
   },
   "source": [
    "* wartość predykcyjna dodatnia (precision) $$Pr = \\frac{TP}{TP + FP}$$"
   ]
  },
  {
   "cell_type": "markdown",
   "metadata": {
    "slideshow": {
     "slide_type": "fragment"
    }
   },
   "source": [
    "* miara F1 = $$\\frac{2 * Rc * Pr}{Rc + Pr}$$"
   ]
  },
  {
   "cell_type": "markdown",
   "metadata": {
    "slideshow": {
     "slide_type": "fragment"
    }
   },
   "source": [
    "* współczynnik korelacji Matthews'a $$MCC = \\frac{TP * TN - FP * FN}{\\sqrt{(TP+FP)(TP+FN)(TN+FP)(TN+FN)}}$$"
   ]
  },
  {
   "cell_type": "markdown",
   "metadata": {
    "slideshow": {
     "slide_type": "subslide"
    }
   },
   "source": [
    "# Miary poprawności klasyfikacji wieloklasowej i wieloetykietowej\n",
    "\n",
    "\n",
    "\n",
    "&nbsp;\n",
    "\n",
    "<center><img src=\"img/multi-tp.png\" width=\"500px\"/></center>"
   ]
  },
  {
   "cell_type": "markdown",
   "metadata": {
    "slideshow": {
     "slide_type": "fragment"
    }
   },
   "source": [
    "* macro $$Pr = \\frac{\\sum_{c \\in C} Pr_{c}}{|C|}$$"
   ]
  },
  {
   "cell_type": "markdown",
   "metadata": {
    "slideshow": {
     "slide_type": "fragment"
    }
   },
   "source": [
    "* macro $$Rc = \\frac{\\sum_{c \\in C} Rc_{c}}{|C|}$$"
   ]
  },
  {
   "cell_type": "markdown",
   "metadata": {
    "slideshow": {
     "slide_type": "fragment"
    }
   },
   "source": [
    "* weighted $$Pr = \\frac{\\sum_{c \\in C} |c| * Pr_{c}}{\\sum |c|}$$"
   ]
  },
  {
   "cell_type": "markdown",
   "metadata": {
    "slideshow": {
     "slide_type": "fragment"
    }
   },
   "source": [
    "* weighted $$Rc = \\frac{\\sum_{c \\in C} |c| * Rc_{c}}{\\sum |c|}$$"
   ]
  },
  {
   "cell_type": "markdown",
   "metadata": {
    "slideshow": {
     "slide_type": "fragment"
    }
   },
   "source": [
    "* micro-F1 = Acc"
   ]
  },
  {
   "cell_type": "markdown",
   "metadata": {
    "slideshow": {
     "slide_type": "subslide"
    }
   },
   "source": [
    "# Algorytm klasyfikacji oparty o regułę Bayesa\n",
    "\n",
    "Reguła Bayesa:\n",
    "\n",
    "$$P(A\\land B) = P(A|B) * P(B) = P(B|A) * P(A)$$\n",
    "\n",
    "z czego:"
   ]
  },
  {
   "cell_type": "markdown",
   "metadata": {
    "slideshow": {
     "slide_type": "fragment"
    }
   },
   "source": [
    "<center><img src=\"img/bayes.jpg\" width=\"800px\" /></center>"
   ]
  },
  {
   "cell_type": "markdown",
   "metadata": {
    "slideshow": {
     "slide_type": "subslide"
    }
   },
   "source": [
    "## Reguła Bayesa\n",
    "\n",
    "$$P(A|B) = \\frac{P(B|A) * P(A)}{P(B)}$$"
   ]
  },
  {
   "cell_type": "markdown",
   "metadata": {
    "slideshow": {
     "slide_type": "fragment"
    }
   },
   "source": [
    "* $A$ - Dokument jest spamem $S$\n",
    "* $B$ - Dokument zawiera wyraz milion $M$"
   ]
  },
  {
   "cell_type": "markdown",
   "metadata": {
    "slideshow": {
     "slide_type": "fragment"
    }
   },
   "source": [
    "$$P(S|M) = \\frac{P(M|S)*P(S)}{P(M)}$$"
   ]
  },
  {
   "cell_type": "markdown",
   "metadata": {
    "slideshow": {
     "slide_type": "fragment"
    }
   },
   "source": [
    "$$P(S|M) \\propto P(M|S)*P(S)$$\n",
    "\n",
    "$$P(S|\\lnot M) \\propto P(\\lnot M|S)*P(S)$$"
   ]
  },
  {
   "cell_type": "markdown",
   "metadata": {
    "slideshow": {
     "slide_type": "fragment"
    }
   },
   "source": [
    "$$P(M|S) \\cong \\frac{c(M \\land S)}{c(S)}$$"
   ]
  },
  {
   "cell_type": "markdown",
   "metadata": {
    "slideshow": {
     "slide_type": "subslide"
    }
   },
   "source": [
    "$D$ - dokument zawierający słowa $w_i \\in D$.\n",
    "\n",
    "$$P(S|D) \\cong \\Pi_{w_i \\in D} P(S|w_i) \\propto P(S) * \\Pi_{w_i \\in D} P(w_i|S)$$"
   ]
  },
  {
   "cell_type": "markdown",
   "metadata": {
    "slideshow": {
     "slide_type": "fragment"
    }
   },
   "source": [
    "$$log P(S|D) \\propto logP(S) + \\sum_{w_i \\in D} logP(w_i|S)$$"
   ]
  },
  {
   "cell_type": "markdown",
   "metadata": {
    "ExecuteTime": {
     "end_time": "2020-12-10T09:39:11.381732Z",
     "start_time": "2020-12-10T09:39:11.378211Z"
    },
    "slideshow": {
     "slide_type": "notes"
    }
   },
   "source": [
    "Przydałoby się tutaj również pokazać word embeddingi - to się później przyda przy klasyfikacji tokenów!"
   ]
  },
  {
   "cell_type": "markdown",
   "metadata": {
    "slideshow": {
     "slide_type": "subslide"
    }
   },
   "source": [
    "# Regresja\n",
    "\n",
    "&nbsp;\n",
    "\n",
    "<center><img src=\"img/linear_regression.svg.png\" width=\"500px\"/></center>"
   ]
  },
  {
   "cell_type": "markdown",
   "metadata": {
    "slideshow": {
     "slide_type": "subslide"
    }
   },
   "source": [
    "\n",
    "# Przykłady regresji tekstowej\n",
    "\n",
    "\n",
    "Według mnie statyw na początku był bardzo fajny miał dużo możliwości, ale po drugim dniu chciałem zrobić dobre ujęcie lecz noga od statywu odłamała się a po tygodniu, w podróży odłamała się kolejna. Pózniej okazało się ,że statyw nie jest taki wytrzymały i w konsekwencji straciłem trzecią nogę od statywu. Niestety statyw był bardzo złej jakości. <img src=\"img/Star_rating_1_of_5.png\" width=\"100px\"/>\n",
    "\n",
    "Wykonanie przeciętne . Krajalnicy nie używamy co 10 min. w ciągu dnia więc denerwujące jest rozkładanie krajalnicy i nakładanie wózka krajalnicy bo bez wózka nie można ukroić nawet kromki chleba. Płyta regulacji grubości krojenia niestabilna co powoduje że wędlina jest krojona nierówno. Przyssawki tak mocne że zostają przyssane do blatu i trzeba je odrywać i nakładać na krajalnicę. Urządzenie niczym się nie wyróżnia. Nie polecam ale wybór należy do kupującego. <img src=\"img/Star_rating_3_of_5.png\" width=\"100px\"/>\n",
    "\n",
    "\n",
    "Brak odpowiedniej instrukcji montażu - spasowanie prawie ok - czarna ramka zasłania ok 1 mm ekranu przy idealnym spasowaniu otworów aparatu przedniego. Poza tym patent z czarną ramką jest rewelacyjny - ekran ma zaokrąglane rogi i naklejone szkło zawsze w tym miejscu odstaje i wygląda nieestetycznie -tu tego problemu nie ma bo ramka to zakrywa i wygląda to idealnie.  <img src=\"img/Star_rating_5_of_5.png\" width=\"100px\"/>\n",
    "\n",
    "https://github.com/allegro/klejbenchmark-allegroreviews"
   ]
  },
  {
   "cell_type": "markdown",
   "metadata": {
    "slideshow": {
     "slide_type": "subslide"
    }
   },
   "source": [
    "# Miary poprawności regresji"
   ]
  },
  {
   "cell_type": "markdown",
   "metadata": {
    "slideshow": {
     "slide_type": "fragment"
    }
   },
   "source": [
    "* Współczynnik korelacji Pearson'a $PCC(X,Y) = \\frac{COV(X, Y)}{\\sigma_X\\sigma_Y}$\n",
    "\n",
    "$$\n",
    "COV(X,Y) = \\frac{1}{n} \\sum_{i=1}^{n}\\left((X_i - \\bar{X})(Y_i - \\bar{Y})\\right)\n",
    "$$"
   ]
  },
  {
   "cell_type": "markdown",
   "metadata": {
    "cell_style": "center",
    "slideshow": {
     "slide_type": "fragment"
    }
   },
   "source": [
    "* Współczynnik korelacji Spearmana $SRCC = PCC(rank(X), rank(Y)$"
   ]
  },
  {
   "cell_type": "markdown",
   "metadata": {
    "slideshow": {
     "slide_type": "slide"
    }
   },
   "source": [
    "# Wyszukiwania pełnotekstowe\n",
    "\n",
    "&nbsp;\n",
    "\n",
    "<center><img src=\"img/google.png\"/></center>"
   ]
  },
  {
   "cell_type": "markdown",
   "metadata": {
    "slideshow": {
     "slide_type": "subslide"
    }
   },
   "source": [
    "# Miary poprawności wyszukiwania pełnotekstowego"
   ]
  },
  {
   "cell_type": "markdown",
   "metadata": {
    "slideshow": {
     "slide_type": "fragment"
    }
   },
   "source": [
    "## Pr@n\n",
    "\n",
    "Miara wartości predykcyjnej dodatniej liczona dla $n$-pierwszych wyników"
   ]
  },
  {
   "cell_type": "markdown",
   "metadata": {
    "slideshow": {
     "slide_type": "fragment"
    }
   },
   "source": [
    "# Mean Reciprocal Rank\n",
    "\n",
    "$$\n",
    "\\textrm{MRR} = \\frac{1}{|Q|} \\sum_{i=1}^{|Q|} \\frac{1}{\\text{rank}_i}\n",
    "$$"
   ]
  },
  {
   "cell_type": "markdown",
   "metadata": {
    "slideshow": {
     "slide_type": "fragment"
    }
   },
   "source": [
    "## Mean Average Precision\n",
    "\n",
    "$$\n",
    "\\textrm{AveP} = \\frac{\\sum_{k=1}^{n}Pr@k \\cdot rel(k)}{n_{\\textrm{relevant}}}\n",
    "$$\n",
    "\n",
    "$$\n",
    "\\textrm{MAP} = \\frac{\\sum_{q=1}^{Q} \\textrm{AveP}(q)}{Q}\n",
    "$$"
   ]
  },
  {
   "cell_type": "markdown",
   "metadata": {
    "slideshow": {
     "slide_type": "subslide"
    }
   },
   "source": [
    "## Normalized Discounted Cumulative Gain\n",
    "\n",
    "$$\n",
    "\\textrm{CG@k} = \\sum_{i=1}^{k} rel_{i}\n",
    "$$"
   ]
  },
  {
   "cell_type": "markdown",
   "metadata": {
    "ExecuteTime": {
     "end_time": "2020-12-03T09:34:44.436748Z",
     "start_time": "2020-12-03T09:34:44.429235Z"
    },
    "slideshow": {
     "slide_type": "fragment"
    }
   },
   "source": [
    "$$\n",
    "\\mathrm{DCG@k} = \\sum_{i=1}^{k} \\frac{2^{rel_{i}}-1}{\\log_{2}(i+1)}\n",
    "$$"
   ]
  },
  {
   "cell_type": "markdown",
   "metadata": {
    "ExecuteTime": {
     "end_time": "2020-12-03T09:35:14.724220Z",
     "start_time": "2020-12-03T09:35:14.718287Z"
    },
    "slideshow": {
     "slide_type": "fragment"
    }
   },
   "source": [
    "$$\n",
    "\\mathrm{nDCG@k} = \\frac{\\textrm{DCG@k}}{\\textrm{IDCG@k}}\n",
    "$$"
   ]
  },
  {
   "cell_type": "markdown",
   "metadata": {
    "slideshow": {
     "slide_type": "fragment"
    }
   },
   "source": [
    "$$\n",
    "\\mathrm{IDCG@k} = \\sum_{i=1}^{|{REL}_k|} \\frac{ 2^{rel_{i}} - 1 }{ \\log_{2}(i+1)}\n",
    "$$"
   ]
  },
  {
   "cell_type": "markdown",
   "metadata": {
    "slideshow": {
     "slide_type": "subslide"
    }
   },
   "source": [
    "# Odwrócony indeks\n",
    "\n",
    "&nbsp;\n",
    "\n",
    "<center><img src=\"img/inverted.png\" width=\"800px\"/></center>"
   ]
  },
  {
   "cell_type": "markdown",
   "metadata": {
    "slideshow": {
     "slide_type": "subslide"
    }
   },
   "source": [
    "# Wyszukiwanie Boolowskie\n",
    "\n",
    "* $A \\land B \\land C$\n",
    "* $A \\lor B \\lor C$"
   ]
  },
  {
   "cell_type": "markdown",
   "metadata": {
    "slideshow": {
     "slide_type": "subslide"
    }
   },
   "source": [
    "# Wagowanie TF*IDF\n",
    "\n"
   ]
  },
  {
   "cell_type": "markdown",
   "metadata": {
    "slideshow": {
     "slide_type": "fragment"
    }
   },
   "source": [
    "$$\\textrm{TF}(w_i,D) = \\frac{f(w_i,D)}{max\\{f(w_i',D):w_i' \\in D\\}}$$"
   ]
  },
  {
   "cell_type": "markdown",
   "metadata": {
    "slideshow": {
     "slide_type": "fragment"
    }
   },
   "source": [
    "$$\\textrm{IDF}(w_i,C) = \\textrm{ln}\\frac{|C|}{|\\{D \\in C: w_i \\in D\\}|}$$"
   ]
  },
  {
   "cell_type": "markdown",
   "metadata": {
    "slideshow": {
     "slide_type": "subslide"
    }
   },
   "source": [
    "# Okapi BM25 (best matching)"
   ]
  },
  {
   "cell_type": "markdown",
   "metadata": {
    "ExecuteTime": {
     "end_time": "2020-12-02T16:41:09.331130Z",
     "start_time": "2020-12-02T16:41:09.321955Z"
    },
    "slideshow": {
     "slide_type": "fragment"
    }
   },
   "source": [
    "$$\\textrm{BM25}(Q,D) = \\sum_{i=1}^{n} \\textrm{IDF}(w_i) \\cdot \\frac{f(w_i, D) \\cdot (k_1 + 1)}{f(w_i, D) + k_1 \\cdot \\left(1 + b \\cdot \\left(\\frac{|D|}{\\text{avgdl}} - 1 \\right)\\right)}$$"
   ]
  },
  {
   "cell_type": "markdown",
   "metadata": {
    "slideshow": {
     "slide_type": "fragment"
    }
   },
   "source": [
    "$$\\textrm{IDF}(w_i) = \\ln \\left(\\frac{N - n(w_i) + 0.5}{n(w_i) + 0.5}+1\\right)$$"
   ]
  },
  {
   "cell_type": "markdown",
   "metadata": {
    "slideshow": {
     "slide_type": "fragment"
    }
   },
   "source": [
    "$$k_1 \\in [1.2, 2.0]\\; b = 0.75$$"
   ]
  },
  {
   "cell_type": "markdown",
   "metadata": {
    "slideshow": {
     "slide_type": "subslide"
    }
   },
   "source": [
    "# PageRank\n",
    "\n",
    "&nbsp;\n",
    "\n",
    "<center><img src=\"img/pagerank.png\"/></center>"
   ]
  },
  {
   "cell_type": "markdown",
   "metadata": {
    "slideshow": {
     "slide_type": "notes"
    }
   },
   "source": [
    "PR określa prawdopodobieństwo, że osoba przypadkowo klikająca na odnośniki (staratując z dowolnej strony internetowej) trafi na stronę internetową, dla której prawdopodobieństwo chcemy określić."
   ]
  },
  {
   "cell_type": "markdown",
   "metadata": {
    "slideshow": {
     "slide_type": "subslide"
    }
   },
   "source": [
    "$$\n",
    "\\textrm{PR}^{n+1}(u) = \\frac{1-d}{N} + d \\sum_{v \\in B_u} \\frac{\\textrm{PR}^n(v)}{L(v)}\n",
    "$$"
   ]
  },
  {
   "cell_type": "markdown",
   "metadata": {
    "slideshow": {
     "slide_type": "notes"
    }
   },
   "source": [
    "d - damping factor, ustawiony na 0.85"
   ]
  },
  {
   "cell_type": "markdown",
   "metadata": {
    "slideshow": {
     "slide_type": "fragment"
    }
   },
   "source": [
    "$$\n",
    "\\mathbf{R}(t+1) = d \\mathcal{M}\\mathbf{R}(t) + \\frac{1-d}{N} \\mathbf{1}\n",
    "$$"
   ]
  },
  {
   "cell_type": "markdown",
   "metadata": {
    "slideshow": {
     "slide_type": "fragment"
    }
   },
   "source": [
    "$$\n",
    "\\mathcal{M}_{ij} = \\begin{cases} 1 /L(p_j) , & \\mbox{jeśli }j\\mbox{ linkuje do }i\\ \\\\ 0, & \\mbox{w przeciwnym razie} \\end{cases}\n",
    "$$"
   ]
  },
  {
   "cell_type": "markdown",
   "metadata": {
    "slideshow": {
     "slide_type": "slide"
    }
   },
   "source": [
    "# Klasyfikacja tokenów, na przykładzie wykrywania jednostek nazewniczych (NER) \n",
    "\n",
    "<img src=\"img/ner.png\" width=\"1000px\" />\n",
    "\n",
    "Źródło: https://demo.allennlp.org/named-entity-recognition"
   ]
  },
  {
   "cell_type": "markdown",
   "metadata": {
    "slideshow": {
     "slide_type": "notes"
    }
   },
   "source": [
    "* Jest to problem podobny klasyfikacji tekstu, ale tutaj elementem podlegającym \n",
    "  klasyfikacji jest pojedynczy token.\n",
    "* Wiele problemów NLP może być reprezentowanych jako klasyfikacja tokenów, np. tagowanie morfosyntaktyczne.\n",
    "* NER może ma zastosowanie w wielu problemach praktycznych, np. \n",
    "  * utworzenie indeksu osób w książce może być bardzo ułatwione, \n",
    "    jeśli mamy zaindksowane wystąpienia poszczególnych nazw\n",
    "  * wykrywanie danych osobwych do anonimizacji\n",
    "  * rozpoznawanie kluczowych informacji w systemie dialogowym"
   ]
  },
  {
   "cell_type": "markdown",
   "metadata": {
    "slideshow": {
     "slide_type": "subslide"
    }
   },
   "source": [
    "# Schematy klasyfikacji tokenów na przykładzie IOB2\n",
    "\n",
    "|token             | klasa   |\n",
    "|:-----------------|:--------|\n",
    "| Wczoraj          | O       |\n",
    "| Andrzej          | B-PER   |\n",
    "| Duda             | I-PER   |\n",
    "| przemawiał       | O       |\n",
    "| w                | O       |\n",
    "| Sejmie           | B-INST  |\n",
    "| Rzeczpostpolitej | I-INST  |\n",
    "| Polskiej         | I-INST  |\n"
   ]
  },
  {
   "cell_type": "markdown",
   "metadata": {
    "slideshow": {
     "slide_type": "subslide"
    }
   },
   "source": [
    "# Ewaluacja klasyfikacji tokenów\n",
    "\n",
    "* przypadki proste\n",
    "  * system i anotacja są identyczne - TP (dla każdego tokenu vs. dla całej nazwy)\n",
    "  * system rozpoznał nazwę, tam gdzie jej nie ma - FP (j.w.)\n",
    "  * system nie rozpoznał nazwy, choć powinien - FN (j.w.)\n",
    "* przypadki skomplikowane\n",
    "  * system rozpoznał poprawnie granice nazwy, ale przypisał błędny typ\n",
    "  * system rozpoznał typ, ale granice nie są poprawnie rozpoznane\n",
    "  * system wskazał błędny typ i błędne granice nazwy (ale coś rozpoznał...)"
   ]
  },
  {
   "cell_type": "markdown",
   "metadata": {
    "ExecuteTime": {
     "end_time": "2020-12-09T17:21:14.654401Z",
     "start_time": "2020-12-09T17:21:14.647549Z"
    },
    "slideshow": {
     "slide_type": "fragment"
    }
   },
   "source": [
    "W ramach konferencji CoNLL opracowano [skrypt](https://www.clips.uantwerpen.be/conll2002/ner/bin/conlleval.txt), który uwzględnia te kwestie..."
   ]
  },
  {
   "cell_type": "markdown",
   "metadata": {
    "slideshow": {
     "slide_type": "subslide"
    }
   },
   "source": [
    "# Rozwiązanie praktyczne\n",
    "\n",
    "Użycie biblioteki `seqeval`, która domyślnie jest kompatybilna z sposobem ewaluacji wykorzystywanym na konferencji CoNLL"
   ]
  },
  {
   "cell_type": "code",
   "execution_count": 11,
   "metadata": {
    "ExecuteTime": {
     "end_time": "2020-12-10T11:35:49.826517Z",
     "start_time": "2020-12-10T11:35:49.747065Z"
    },
    "slideshow": {
     "slide_type": "fragment"
    }
   },
   "outputs": [
    {
     "data": {
      "text/plain": [
       "0.5"
      ]
     },
     "execution_count": 11,
     "metadata": {},
     "output_type": "execute_result"
    }
   ],
   "source": [
    "from seqeval.metrics import accuracy_score\n",
    "from seqeval.metrics import classification_report\n",
    "from seqeval.metrics import f1_score\n",
    "y_true = [['O', 'O', 'O', 'B-MISC', 'I-MISC', 'I-MISC', 'O'], ['B-PER', 'I-PER', 'O']]\n",
    "y_pred = [['O', 'O', 'B-MISC', 'I-MISC', 'I-MISC', 'I-MISC', 'O'], ['B-PER', 'I-PER', 'O']]\n",
    "f1_score(y_true, y_pred)"
   ]
  },
  {
   "cell_type": "code",
   "execution_count": 3,
   "metadata": {
    "ExecuteTime": {
     "end_time": "2020-12-09T17:19:17.700973Z",
     "start_time": "2020-12-09T17:19:17.694462Z"
    },
    "slideshow": {
     "slide_type": "fragment"
    }
   },
   "outputs": [
    {
     "name": "stdout",
     "output_type": "stream",
     "text": [
      "              precision    recall  f1-score   support\n",
      "\n",
      "        MISC       0.00      0.00      0.00         1\n",
      "         PER       1.00      1.00      1.00         1\n",
      "\n",
      "   micro avg       0.50      0.50      0.50         2\n",
      "   macro avg       0.50      0.50      0.50         2\n",
      "weighted avg       0.50      0.50      0.50         2\n",
      "\n"
     ]
    }
   ],
   "source": [
    "print(classification_report(y_true, y_pred))"
   ]
  },
  {
   "cell_type": "markdown",
   "metadata": {
    "cell_style": "split",
    "slideshow": {
     "slide_type": "subslide"
    }
   },
   "source": [
    "# Sztuczne sieci neuronowe (artificial neural networks - ANN)\n",
    "\n",
    "&nbsp;\n",
    "\n",
    "<center><img src=\"img/ann.png\" /></center>\n",
    "\n",
    "&nbsp; <br/>\n",
    "\n",
    "&nbsp; <br/>"
   ]
  },
  {
   "cell_type": "markdown",
   "metadata": {
    "cell_style": "split",
    "slideshow": {
     "slide_type": "-"
    }
   },
   "source": [
    "&nbsp;"
   ]
  },
  {
   "cell_type": "markdown",
   "metadata": {
    "cell_style": "split",
    "slideshow": {
     "slide_type": "fragment"
    }
   },
   "source": [
    "$$\n",
    "z = w \\cdot x + b\n",
    "$$"
   ]
  },
  {
   "cell_type": "markdown",
   "metadata": {
    "cell_style": "split",
    "slideshow": {
     "slide_type": "fragment"
    }
   },
   "source": [
    "$$\n",
    "y = a = f(z)\n",
    "$$"
   ]
  },
  {
   "cell_type": "markdown",
   "metadata": {
    "cell_style": "split",
    "slideshow": {
     "slide_type": "fragment"
    }
   },
   "source": [
    "$$\n",
    "\\sigma(z) = \\frac{1}{1 + e^{-z}}\n",
    "$$"
   ]
  },
  {
   "cell_type": "markdown",
   "metadata": {
    "cell_style": "split",
    "slideshow": {
     "slide_type": "fragment"
    }
   },
   "source": [
    "$$\n",
    "tanh(z) = \\frac{e^z - e^{-z}}{e^z+e^{-z}}\n",
    "$$"
   ]
  },
  {
   "cell_type": "markdown",
   "metadata": {
    "cell_style": "split",
    "slideshow": {
     "slide_type": "fragment"
    }
   },
   "source": [
    "$$\n",
    "ReLU(z) = max(x, 0)\n",
    "$$"
   ]
  },
  {
   "cell_type": "markdown",
   "metadata": {
    "ExecuteTime": {
     "end_time": "2020-12-16T14:32:08.566532Z",
     "start_time": "2020-12-16T14:32:08.560937Z"
    },
    "cell_style": "split",
    "slideshow": {
     "slide_type": "subslide"
    }
   },
   "source": [
    "# Sigmoida\n",
    "\n",
    "&nbsp;\n",
    "\n",
    "<center><img src=\"img/sigmoid.png\" /></center>"
   ]
  },
  {
   "cell_type": "markdown",
   "metadata": {
    "cell_style": "split",
    "slideshow": {
     "slide_type": "fragment"
    }
   },
   "source": [
    "# Tangens hiperboliczny\n",
    "\n",
    "&nbsp;\n",
    "\n",
    "<center><img src=\"img/tanh.png\" /></center>"
   ]
  },
  {
   "cell_type": "markdown",
   "metadata": {
    "cell_style": "center",
    "slideshow": {
     "slide_type": "subslide"
    }
   },
   "source": [
    "# ReLU\n",
    "\n",
    "&nbsp;\n",
    "\n",
    "<center><img src=\"img/relu.png\" /></center>"
   ]
  },
  {
   "cell_type": "code",
   "execution_count": null,
   "metadata": {
    "slideshow": {
     "slide_type": "skip"
    }
   },
   "outputs": [],
   "source": []
  },
  {
   "cell_type": "markdown",
   "metadata": {
    "cell_style": "split",
    "slideshow": {
     "slide_type": "subslide"
    }
   },
   "source": [
    "# Sieć w pełni połączona <br/> (feed-forward NN)\n",
    "\n",
    "&nbsp;\n",
    "\n",
    "<center><img src=\"img/fnn.png\" /></center>"
   ]
  },
  {
   "cell_type": "markdown",
   "metadata": {
    "cell_style": "split",
    "slideshow": {
     "slide_type": "-"
    }
   },
   "source": [
    "&nbsp;"
   ]
  },
  {
   "cell_type": "markdown",
   "metadata": {
    "cell_style": "split",
    "slideshow": {
     "slide_type": "fragment"
    }
   },
   "source": [
    "$$\n",
    "h = f(Wx + b)\n",
    "$$"
   ]
  },
  {
   "cell_type": "markdown",
   "metadata": {
    "cell_style": "split",
    "slideshow": {
     "slide_type": "fragment"
    }
   },
   "source": [
    "$$\n",
    "x \\in R^{n_0} \n",
    "$$\n",
    "$$\n",
    "h \\in R^{n_1}\n",
    "$$\n",
    "$$\n",
    "b \\in R^{n_1}\n",
    "$$\n",
    "$$\n",
    "W \\in R^{n_0 \\times n_1} \n",
    "$$"
   ]
  },
  {
   "cell_type": "markdown",
   "metadata": {
    "cell_style": "split",
    "slideshow": {
     "slide_type": "fragment"
    }
   },
   "source": [
    "$$\n",
    "z = Uh\n",
    "$$"
   ]
  },
  {
   "cell_type": "markdown",
   "metadata": {
    "cell_style": "split",
    "slideshow": {
     "slide_type": "fragment"
    }
   },
   "source": [
    "$$\n",
    "\\text{softmax}(z_i) = \\frac{e^{z_i}}{\\sum_{j=1}^d e^{z_j}}\n",
    "$$"
   ]
  },
  {
   "cell_type": "markdown",
   "metadata": {
    "slideshow": {
     "slide_type": "subslide"
    }
   },
   "source": [
    "# Uogólniona notacja\n",
    "\n",
    "$$\n",
    "\\begin{split}\n",
    "a^{[0]} & = x\\\\\n",
    "z^{[1]} & = W^{[1]}a^{[0]} + b^{[1]}\\\\ \n",
    "a^{[1]} & = g^{[1]}\\left(z^{[1]}\\right)\\\\\n",
    "\\end{split}\n",
    "$$"
   ]
  },
  {
   "cell_type": "markdown",
   "metadata": {
    "slideshow": {
     "slide_type": "fragment"
    }
   },
   "source": [
    "$$\n",
    "\\begin{split}\n",
    "z^{[2]} & = W^{[2]}a^{[1]}+b^{[2]}\\\\\n",
    "a^{[2]} & = g^{[2]}\\left(z^{[2]}\\right)\\\\\n",
    "\\hat y & = a^{[2]}\n",
    "\\end{split}\n",
    "$$"
   ]
  },
  {
   "cell_type": "markdown",
   "metadata": {
    "slideshow": {
     "slide_type": "fragment"
    }
   },
   "source": [
    "$$\n",
    "\\begin{split}\n",
    "z^{[i]} & = W^{[i]}a^{[i-1]} + b^{[i]}\\\\\n",
    "a^{[i]} & = g^{[i]}\\left(z^{[i]}\\right)\n",
    "\\end{split}\n",
    "$$"
   ]
  },
  {
   "cell_type": "markdown",
   "metadata": {
    "slideshow": {
     "slide_type": "subslide"
    }
   },
   "source": [
    "# Funkcja straty (loss function)"
   ]
  },
  {
   "cell_type": "markdown",
   "metadata": {
    "slideshow": {
     "slide_type": "fragment"
    }
   },
   "source": [
    "$$\n",
    "L_{CE}(\\hat y,y) =  - \\sum_{i=1}^{C} y_i log\\hat y_i\n",
    "$$"
   ]
  },
  {
   "cell_type": "markdown",
   "metadata": {
    "slideshow": {
     "slide_type": "fragment"
    }
   },
   "source": [
    "$$\n",
    "L_{CE}(\\hat y,y) = - log \\hat y_i\n",
    "$$"
   ]
  },
  {
   "cell_type": "markdown",
   "metadata": {
    "slideshow": {
     "slide_type": "fragment"
    }
   },
   "source": [
    "$$\n",
    "L_{CE}(\\hat y,y) = \\frac{e^{z_i}}{\\sum_{j=1}^{C} e^{z_j}}\n",
    "$$"
   ]
  },
  {
   "cell_type": "markdown",
   "metadata": {
    "cell_style": "split",
    "slideshow": {
     "slide_type": "subslide"
    }
   },
   "source": [
    "# Graf obliczeń\n",
    "\n",
    "&nbsp;\n",
    "\n",
    "<center><img src=\"img/forward.png\" /></center>"
   ]
  },
  {
   "cell_type": "markdown",
   "metadata": {
    "cell_style": "split"
   },
   "source": [
    "&nbsp;"
   ]
  },
  {
   "cell_type": "markdown",
   "metadata": {
    "cell_style": "split",
    "slideshow": {
     "slide_type": "fragment"
    }
   },
   "source": [
    "$$\n",
    "\\begin{split}\n",
    "d & = 2 * b\\\\\n",
    "e & = a + d\\\\\n",
    "L & = c * e\n",
    "\\end{split}\n",
    "$$"
   ]
  },
  {
   "cell_type": "markdown",
   "metadata": {
    "slideshow": {
     "slide_type": "subslide"
    }
   },
   "source": [
    "# Wsteczna propagacja błędu (error backpropagation, backprop)"
   ]
  },
  {
   "cell_type": "markdown",
   "metadata": {
    "cell_style": "center",
    "slideshow": {
     "slide_type": "fragment"
    }
   },
   "source": [
    "$$\n",
    "f(x) = u(v(x))\n",
    "$$"
   ]
  },
  {
   "cell_type": "markdown",
   "metadata": {
    "cell_style": "center",
    "slideshow": {
     "slide_type": "fragment"
    }
   },
   "source": [
    "$$\n",
    "\\frac{df}{dx} = \\frac{du}{dv}\\cdot\\frac{dv}{dx}\n",
    "$$"
   ]
  },
  {
   "cell_type": "markdown",
   "metadata": {
    "slideshow": {
     "slide_type": "fragment"
    }
   },
   "source": [
    "$$\n",
    "\\frac{\\partial L}{\\partial a}, \\frac{\\partial L}{\\partial b}, \\frac{\\partial L}{\\partial c}\n",
    "$$"
   ]
  },
  {
   "cell_type": "markdown",
   "metadata": {
    "slideshow": {
     "slide_type": "subslide"
    }
   },
   "source": [
    "$$\n",
    "\\frac{\\partial L}{\\partial c} = e\n",
    "$$"
   ]
  },
  {
   "cell_type": "markdown",
   "metadata": {
    "slideshow": {
     "slide_type": "fragment"
    }
   },
   "source": [
    "$$\n",
    "\\begin{split}\n",
    "\\frac{\\partial L}{\\partial a} & = \\frac{\\partial L}{\\partial e}\\frac{\\partial e}{\\partial a}\\\\\n",
    "\\frac{\\partial L}{\\partial b} & = \\frac{\\partial L}{\\partial e}\\frac{\\partial e}{\\partial d}\\frac{\\partial d}{\\partial a}\n",
    "\\end{split}\n",
    "$$"
   ]
  },
  {
   "cell_type": "markdown",
   "metadata": {
    "slideshow": {
     "slide_type": "fragment"
    }
   },
   "source": [
    "$$\n",
    "\\begin{split}\n",
    "L = ce & : \\frac{\\partial L}{\\partial c}=e,\\frac{\\partial L}{\\partial e}=c\\\\\n",
    "e = a+d & : \\frac{\\partial e}{\\partial a} =1,\\frac{\\partial e}{\\partial d}=1\\\\\n",
    "d = 2b & : \\frac{\\partial d}{\\partial b}=2\n",
    "\\end{split}\n",
    "$$"
   ]
  },
  {
   "cell_type": "markdown",
   "metadata": {
    "cell_style": "split",
    "slideshow": {
     "slide_type": "subslide"
    }
   },
   "source": [
    "#  Przejście w tył w grafie obliczeń\n",
    "\n",
    "&nbsp;\n",
    "\n",
    "<center><img src=\"img/backward-pass.png\" /></center>"
   ]
  },
  {
   "cell_type": "markdown",
   "metadata": {
    "ExecuteTime": {
     "end_time": "2020-12-17T10:06:57.069187Z",
     "start_time": "2020-12-17T10:06:57.058613Z"
    },
    "slideshow": {
     "slide_type": "subslide"
    }
   },
   "source": [
    "&nbsp;\n",
    "\n",
    "<center><img src=\"img/backprop-2.png\" /></center>"
   ]
  },
  {
   "cell_type": "markdown",
   "metadata": {
    "slideshow": {
     "slide_type": "subslide"
    }
   },
   "source": [
    "# Proces uczenia\n",
    "\n",
    "* stała ucząca/współczynnik uczenia się (learning rate)\n",
    "* inicjalizacja wag\n",
    "* mini-batch\n",
    "* epoki\n",
    "* wczesne zatrzymanie (early stopping)\n",
    "* dropout\n",
    "* algorytm optymalizacji\n",
    "* optymalizacja hiperparametrów\n",
    "* rola zbioru walidacyjnego\n",
    "* środowiska do obliczeń: PyTorch, TensorFlow, Jax"
   ]
  },
  {
   "cell_type": "markdown",
   "metadata": {
    "slideshow": {
     "slide_type": "subslide"
    }
   },
   "source": [
    "# Kluczowy problem - sekwencyjna natura tekstu\n",
    "\n",
    "* Proste modele, jak *bag-of-words* nie nadają się do klasyfikacji tokenów\n",
    "* Modele takie jak HMM, MEMM są ograniczone jeśli chodzi o reprezentację kontekstu:\n",
    "  * kontekst jest niewielki: 2-3 tokeny\n",
    "  * cechy są określane manualnie\n",
    "* Zależności w tekście mogą być długodystansowe\n",
    "  * Gdybym **wiedział** wtedy to co wiem dzisiaj, to bym się nie ...\n",
    "  * Gdybym **wiedziała** wtedy to co wiem dzisiaj, to bym się nie ..."
   ]
  },
  {
   "cell_type": "markdown",
   "metadata": {
    "ExecuteTime": {
     "end_time": "2020-12-16T15:17:05.482592Z",
     "start_time": "2020-12-16T15:17:05.474321Z"
    },
    "slideshow": {
     "slide_type": "subslide"
    }
   },
   "source": [
    "# Sieci rekurencyjne (RNN)\n",
    "\n",
    "&nbsp;\n",
    "\n",
    "<center><img src=\"img/rnn.png\" /></center>"
   ]
  },
  {
   "cell_type": "markdown",
   "metadata": {
    "ExecuteTime": {
     "end_time": "2020-12-16T15:17:33.702494Z",
     "start_time": "2020-12-16T15:17:33.694823Z"
    },
    "slideshow": {
     "slide_type": "notes"
    }
   },
   "source": [
    "Połącznie rekurencyjne wykorzystuje aktywację danej komórki **z poprzedniego kroku czasowego**. \n",
    "\n",
    "Dzięki temu - potencjalnie - może wykorzystac informację istotnie odległą w treści od tokenu podlegającego\n",
    "właśnie analizie. Taka zależność potencjalnie może mieć dowolną długość."
   ]
  },
  {
   "cell_type": "markdown",
   "metadata": {
    "cell_style": "split",
    "slideshow": {
     "slide_type": "subslide"
    }
   },
   "source": [
    "# Inferencja w sieci rekurencyjnej\n",
    "\n",
    "&nbsp;\n",
    "\n",
    "<center><img src=\"img/rnn-unfold.png\" /></center>"
   ]
  },
  {
   "cell_type": "markdown",
   "metadata": {
    "ExecuteTime": {
     "end_time": "2020-12-10T09:31:45.697324Z",
     "start_time": "2020-12-10T09:31:45.691973Z"
    },
    "cell_style": "split",
    "slideshow": {
     "slide_type": "-"
    }
   },
   "source": [
    "&nbsp;"
   ]
  },
  {
   "cell_type": "markdown",
   "metadata": {
    "cell_style": "split",
    "slideshow": {
     "slide_type": "fragment"
    }
   },
   "source": [
    "$$\n",
    "h_t = g(U h_{t-1} + W x_t)\n",
    "$$\n"
   ]
  },
  {
   "cell_type": "markdown",
   "metadata": {
    "cell_style": "split",
    "slideshow": {
     "slide_type": "fragment"
    }
   },
   "source": [
    "$$\n",
    "y_t = f(V h_t)\n",
    "$$"
   ]
  },
  {
   "cell_type": "markdown",
   "metadata": {
    "cell_style": "split",
    "slideshow": {
     "slide_type": "fragment"
    }
   },
   "source": [
    "Najczęściej *f* to funkcja *softmax*:\n",
    "\n",
    "$$\n",
    "\\text{softmax}(\\mathbf{y})_{i,t} = \\frac{e^{y_{i,t}}}{\\sum_{j=1}^K e^{y_{j,t}}}\n",
    "$$"
   ]
  },
  {
   "cell_type": "markdown",
   "metadata": {
    "slideshow": {
     "slide_type": "subslide"
    }
   },
   "source": [
    "# Algorytm inferencji\n",
    "\n",
    "&nbsp;\n",
    "\n",
    "<center><img src=\"img/rnn-algo.png\" /></center>\n",
    "\n"
   ]
  },
  {
   "cell_type": "markdown",
   "metadata": {
    "slideshow": {
     "slide_type": "notes"
    }
   },
   "source": [
    "Wynik obliczania wartości dla pojedynczego kroku to rozkład prawdopodobieństwo przypisania określonego\n",
    "tagu do aktualnie przetwarzanego tokenu. Warto zwrócić uwagę, że dla 1 tokenu wcześniejszy stan ma wartość 0."
   ]
  },
  {
   "cell_type": "markdown",
   "metadata": {
    "ExecuteTime": {
     "end_time": "2020-12-09T17:57:04.947617Z",
     "start_time": "2020-12-09T17:57:04.942295Z"
    },
    "cell_style": "split",
    "slideshow": {
     "slide_type": "subslide"
    }
   },
   "source": [
    "# Wsteczna propagacja błędu w sieci rekurencyjnej (BPTT)\n",
    "\n",
    "&nbsp;\n",
    "\n",
    "<center><img src=\"img/bptt.png\" /></center>"
   ]
  },
  {
   "cell_type": "markdown",
   "metadata": {
    "cell_style": "split",
    "slideshow": {
     "slide_type": "-"
    }
   },
   "source": [
    "&nbsp;"
   ]
  },
  {
   "cell_type": "markdown",
   "metadata": {
    "cell_style": "split",
    "slideshow": {
     "slide_type": "fragment"
    }
   },
   "source": [
    "$$\n",
    "\\frac{\\partial L}{\\partial V} = \\frac{\\partial L}{\\partial a}\\frac{\\partial a}{\\partial z}\\frac{\\partial z}{\\partial V} = \\delta_{out}h_t\n",
    "$$"
   ]
  },
  {
   "cell_type": "markdown",
   "metadata": {
    "cell_style": "split",
    "slideshow": {
     "slide_type": "fragment"
    }
   },
   "source": [
    "$$\n",
    "\\delta_h = g'(z)V\\delta_{out} + \\delta_{next}\n",
    "$$"
   ]
  },
  {
   "cell_type": "markdown",
   "metadata": {
    "cell_style": "split",
    "slideshow": {
     "slide_type": "fragment"
    }
   },
   "source": [
    "$$\n",
    "\\frac{\\partial L}{\\partial W} = \\delta_h x_t\n",
    "$$"
   ]
  },
  {
   "cell_type": "markdown",
   "metadata": {
    "cell_style": "split",
    "slideshow": {
     "slide_type": "fragment"
    }
   },
   "source": [
    "$$\n",
    "\\frac{\\partial L}{\\partial U} = \\delta_h h_{t-1}\n",
    "$$"
   ]
  },
  {
   "cell_type": "markdown",
   "metadata": {
    "slideshow": {
     "slide_type": "subslide"
    }
   },
   "source": [
    "# Klasyfikacja tokenów przy użyciu RNN\n",
    "\n",
    "&nbsp;\n",
    "\n",
    "<center><img src=\"img/token-classification.png\" /></center>"
   ]
  },
  {
   "cell_type": "markdown",
   "metadata": {
    "slideshow": {
     "slide_type": "notes"
    }
   },
   "source": [
    "1. Trzeba wskazać, że nie opowiedziałem jak słowa zamieniane są na reprezentacje wektorowe!\n",
    "1. RNN nie biorą pod uwagę tego co było wcześniej (tzn. predykcji), więc można np. otrzymać po B-ORG I-PERS\n",
    "1. Często dodaje się warstwę CRF na końcu, żeby rozwiązać ten problem.\n",
    "1. Innym rozwiązaniem jest użycie algorytmu Viterbiego (np. z jakimś beamem większym niż 1)."
   ]
  },
  {
   "cell_type": "markdown",
   "metadata": {
    "slideshow": {
     "slide_type": "subslide"
    }
   },
   "source": [
    "# Głębokie sieci rekurencyjne\n",
    "\n",
    "&nbsp;\n",
    "\n",
    "<center><img src=\"img/deep-rnn.png\" /></center>"
   ]
  },
  {
   "cell_type": "markdown",
   "metadata": {
    "ExecuteTime": {
     "end_time": "2020-12-10T09:46:08.633494Z",
     "start_time": "2020-12-10T09:46:08.630391Z"
    },
    "cell_style": "split",
    "slideshow": {
     "slide_type": "subslide"
    }
   },
   "source": [
    "# Sieci dwukierunkowe (BiRNN)\n",
    "\n",
    "&nbsp;\n",
    "\n",
    "<center><img src=\"img/birnn.png\" /></center>"
   ]
  },
  {
   "cell_type": "markdown",
   "metadata": {
    "cell_style": "split",
    "slideshow": {
     "slide_type": "-"
    }
   },
   "source": [
    "&nbsp;"
   ]
  },
  {
   "cell_type": "markdown",
   "metadata": {
    "cell_style": "split",
    "slideshow": {
     "slide_type": "fragment"
    }
   },
   "source": [
    "$$\n",
    "h_t^f = RNN_{forward}(x_1^t)\n",
    "$$"
   ]
  },
  {
   "cell_type": "markdown",
   "metadata": {
    "cell_style": "split",
    "slideshow": {
     "slide_type": "fragment"
    }
   },
   "source": [
    "$$\n",
    "h_t^b = RNN_{backward}(x_t^n)\n",
    "$$"
   ]
  },
  {
   "cell_type": "markdown",
   "metadata": {
    "cell_style": "split",
    "slideshow": {
     "slide_type": "fragment"
    }
   },
   "source": [
    "$$\n",
    "h_t = h_t^f \\oplus h_t^b\n",
    "$$"
   ]
  },
  {
   "cell_type": "markdown",
   "metadata": {
    "slideshow": {
     "slide_type": "notes"
    }
   },
   "source": [
    "Funkcja łącząca oba wektory nie musi być kontaktenacją, może to być dodawanie, monożenie lub uśrednianie wartości."
   ]
  },
  {
   "cell_type": "markdown",
   "metadata": {
    "slideshow": {
     "slide_type": "subslide"
    }
   },
   "source": [
    "# Sieć z długą pamięcią krótkoterminową (LSTM)\n",
    "\n",
    "\n",
    "<center><img src=\"img/lstm.png\" /></center>"
   ]
  },
  {
   "cell_type": "markdown",
   "metadata": {
    "slideshow": {
     "slide_type": "skip"
    }
   },
   "source": [
    "# Wykrywanie koreferencji"
   ]
  },
  {
   "cell_type": "markdown",
   "metadata": {
    "slideshow": {
     "slide_type": "slide"
    }
   },
   "source": [
    "# Odpowiadanie na pytania"
   ]
  },
  {
   "cell_type": "markdown",
   "metadata": {
    "slideshow": {
     "slide_type": "slide"
    }
   },
   "source": [
    "# Tłumaczenie maszynowe"
   ]
  },
  {
   "cell_type": "markdown",
   "metadata": {
    "slideshow": {
     "slide_type": "slide"
    }
   },
   "source": [
    "# Systemy dialogowe"
   ]
  },
  {
   "cell_type": "markdown",
   "metadata": {
    "slideshow": {
     "slide_type": "slide"
    }
   },
   "source": [
    "# Literatura\n",
    "\n",
    "* https://web.stanford.edu/class/cs124/lec/naivebayes.pdf\n",
    "* https://en.wikipedia.org/wiki/Evaluation_measures_(information_retrieval)#Mean_average_precision"
   ]
  }
 ],
 "metadata": {
  "celltoolbar": "Slideshow",
  "kernelspec": {
   "display_name": "Python 3 (ipykernel)",
   "language": "python",
   "name": "python3"
  },
  "language_info": {
   "codemirror_mode": {
    "name": "ipython",
    "version": 3
   },
   "file_extension": ".py",
   "mimetype": "text/x-python",
   "name": "python",
   "nbconvert_exporter": "python",
   "pygments_lexer": "ipython3",
   "version": "3.10.6"
  },
  "toc": {
   "base_numbering": 1,
   "nav_menu": {},
   "number_sections": false,
   "sideBar": true,
   "skip_h1_title": false,
   "title_cell": "Table of Contents",
   "title_sidebar": "Contents",
   "toc_cell": false,
   "toc_position": {},
   "toc_section_display": true,
   "toc_window_display": false
  }
 },
 "nbformat": 4,
 "nbformat_minor": 4
}
