{
 "cells": [
  {
   "cell_type": "markdown",
   "metadata": {
    "editable": true,
    "slideshow": {
     "slide_type": "slide"
    },
    "tags": []
   },
   "source": [
    "# Tekst jako łańcuch znaków\n",
    "\n",
    "<br/>\n",
    "\n",
    "## dr inż. Aleksander Smywiński-Pohl\n",
    "\n",
    "## apohllo@agh.edu.pl\n",
    "\n",
    "## http://apohllo.pl/dydaktyka/nlp"
   ]
  },
  {
   "cell_type": "markdown",
   "metadata": {
    "slideshow": {
     "slide_type": "subslide"
    }
   },
   "source": [
    "# Plan wykładów\n",
    "\n",
    "* tekst jako łańcuch znaków\n",
    "* tekst jako zbiór zjawisk językowych\n",
    "* modele analizy tekstu\n",
    "* zastosowania metod przetwarzaniu tekstu"
   ]
  },
  {
   "cell_type": "markdown",
   "metadata": {
    "slideshow": {
     "slide_type": "subslide"
    }
   },
   "source": [
    "<center><img src=\"img/letters.jpg\" width=\"800px\"/><br/>\n",
    "\n",
    "<small>https://www.independent.co.uk/voices/i-m-through-writing-letters-and-it-seems-i-m-not-only-one-a6716496.html</small>\n",
    "</center>"
   ]
  },
  {
   "cell_type": "markdown",
   "metadata": {
    "slideshow": {
     "slide_type": "slide"
    }
   },
   "source": [
    "## Problem: wyszukiwanie dokumentu z określonym wyrazem"
   ]
  },
  {
   "cell_type": "markdown",
   "metadata": {
    "slideshow": {
     "slide_type": "fragment"
    }
   },
   "source": [
    "Znalezienie w bazie danych wierszy dla których w kolumna `value` ma wartość `wirus`."
   ]
  },
  {
   "cell_type": "markdown",
   "metadata": {
    "slideshow": {
     "slide_type": "fragment"
    }
   },
   "source": [
    "Znalezienie tekstów w których występuje wyraz `wirus`."
   ]
  },
  {
   "cell_type": "code",
   "execution_count": null,
   "metadata": {
    "slideshow": {
     "slide_type": "fragment"
    }
   },
   "outputs": [],
   "source": [
    "a = 1.00001\n",
    "\n",
    "if(a == 1):\n",
    "    print(\"Zmienna ma wartość 1\")\n",
    "    \n",
    "if(abs(a - 1) < 1e-3):\n",
    "    print(\"Zmienna ma wartość zbliżoną do 1\")"
   ]
  },
  {
   "cell_type": "markdown",
   "metadata": {
    "slideshow": {
     "slide_type": "subslide"
    }
   },
   "source": [
    "* **czy uwzględniamy pisownię wielką i małą literą?**"
   ]
  },
  {
   "cell_type": "markdown",
   "metadata": {
    "slideshow": {
     "slide_type": "fragment"
    }
   },
   "source": [
    "* czasami języka programowania może nie wspierać zamiany na małe litery w przypadku występowania znaków diakrytycznych"
   ]
  },
  {
   "cell_type": "markdown",
   "metadata": {
    "slideshow": {
     "slide_type": "fragment"
    }
   },
   "source": [
    "np. Ruby v. 1.9.3 (i wiele późniejszych wersji)\n",
    "\n",
    "```\n",
    "1.9.3-p551 :001 > \"Ł\".downcase\n",
    " => \"Ł\" \n",
    "1.9.3-p551 :002 > \n",
    "```"
   ]
  },
  {
   "cell_type": "markdown",
   "metadata": {
    "slideshow": {
     "slide_type": "fragment"
    }
   },
   "source": [
    "Ruby 2.7.0\n",
    "```\n",
    "2.7.0 :001 > \"Ł\".downcase\n",
    " => \"ł\" \n",
    "2.7.0 :002 > \n",
    "```"
   ]
  },
  {
   "cell_type": "markdown",
   "metadata": {
    "slideshow": {
     "slide_type": "notes"
    }
   },
   "source": [
    "Działanie programu może zależeć od wersji języka, z której korzystamy. Jeśli inna jest wersja na komputerze \n",
    "programisty i na produkcji, to bardzo łato mogą pojawić się błędy."
   ]
  },
  {
   "cell_type": "markdown",
   "metadata": {
    "slideshow": {
     "slide_type": "subslide"
    }
   },
   "source": [
    "* **czy uwzględniamy fleksję? - wirus, wirusa, wirusowi, wirusem**"
   ]
  },
  {
   "cell_type": "markdown",
   "metadata": {
    "slideshow": {
     "slide_type": "fragment"
    }
   },
   "source": [
    "http://morfeusz.sgjp.pl/demo/"
   ]
  },
  {
   "cell_type": "markdown",
   "metadata": {
    "slideshow": {
     "slide_type": "fragment"
    }
   },
   "source": [
    "Przykłady wieloznaczności morfologicznej\n",
    "\n",
    "* przyglądam się *wirusowi*\n",
    "* pacjenci *wirusowi*"
   ]
  },
  {
   "cell_type": "code",
   "execution_count": 2,
   "metadata": {
    "ExecuteTime": {
     "end_time": "2023-10-03T15:21:43.200385Z",
     "start_time": "2023-10-03T15:21:42.423396Z"
    },
    "editable": true,
    "execution": {
     "iopub.execute_input": "2024-10-09T09:33:34.725376Z",
     "iopub.status.busy": "2024-10-09T09:33:34.724610Z",
     "iopub.status.idle": "2024-10-09T09:33:34.943013Z",
     "shell.execute_reply": "2024-10-09T09:33:34.942656Z",
     "shell.execute_reply.started": "2024-10-09T09:33:34.725327Z"
    },
    "slideshow": {
     "slide_type": "subslide"
    },
    "tags": []
   },
   "outputs": [],
   "source": [
    "from morfeusz2 import Morfeusz\n",
    "import pandas as pd\n",
    "\n",
    "morf = Morfeusz()\n",
    "forms = morf.generate(\"Paryż\")\n"
   ]
  },
  {
   "cell_type": "code",
   "execution_count": 5,
   "metadata": {
    "editable": true,
    "execution": {
     "iopub.execute_input": "2024-10-09T09:35:35.008178Z",
     "iopub.status.busy": "2024-10-09T09:35:35.006950Z",
     "iopub.status.idle": "2024-10-09T09:35:35.020116Z",
     "shell.execute_reply": "2024-10-09T09:35:35.019794Z",
     "shell.execute_reply.started": "2024-10-09T09:35:35.008129Z"
    },
    "slideshow": {
     "slide_type": "subslide"
    },
    "tags": []
   },
   "outputs": [
    {
     "data": {
      "text/html": [
       "<div>\n",
       "<style scoped>\n",
       "    .dataframe tbody tr th:only-of-type {\n",
       "        vertical-align: middle;\n",
       "    }\n",
       "\n",
       "    .dataframe tbody tr th {\n",
       "        vertical-align: top;\n",
       "    }\n",
       "\n",
       "    .dataframe thead th {\n",
       "        text-align: right;\n",
       "    }\n",
       "</style>\n",
       "<table border=\"1\" class=\"dataframe\">\n",
       "  <thead>\n",
       "    <tr style=\"text-align: right;\">\n",
       "      <th></th>\n",
       "      <th>inflected form</th>\n",
       "      <th>base form</th>\n",
       "      <th>tags</th>\n",
       "      <th>categories</th>\n",
       "      <th>misc</th>\n",
       "    </tr>\n",
       "  </thead>\n",
       "  <tbody>\n",
       "    <tr>\n",
       "      <th>0</th>\n",
       "      <td>Paryż</td>\n",
       "      <td>Paryż:Sf</td>\n",
       "      <td>subst:sg.pl:nom.gen.dat.acc.inst.loc.voc:f</td>\n",
       "      <td>[nazwisko]</td>\n",
       "      <td>[]</td>\n",
       "    </tr>\n",
       "    <tr>\n",
       "      <th>1</th>\n",
       "      <td>Paryż</td>\n",
       "      <td>Paryż:Sm1</td>\n",
       "      <td>subst:sg:nom:m1</td>\n",
       "      <td>[nazwisko]</td>\n",
       "      <td>[]</td>\n",
       "    </tr>\n",
       "    <tr>\n",
       "      <th>2</th>\n",
       "      <td>Paryża</td>\n",
       "      <td>Paryż:Sm1</td>\n",
       "      <td>subst:sg:gen.acc:m1</td>\n",
       "      <td>[nazwisko]</td>\n",
       "      <td>[]</td>\n",
       "    </tr>\n",
       "    <tr>\n",
       "      <th>3</th>\n",
       "      <td>Paryżowi</td>\n",
       "      <td>Paryż:Sm1</td>\n",
       "      <td>subst:sg:dat:m1</td>\n",
       "      <td>[nazwisko]</td>\n",
       "      <td>[]</td>\n",
       "    </tr>\n",
       "    <tr>\n",
       "      <th>4</th>\n",
       "      <td>Paryżem</td>\n",
       "      <td>Paryż:Sm1</td>\n",
       "      <td>subst:sg:inst:m1</td>\n",
       "      <td>[nazwisko]</td>\n",
       "      <td>[]</td>\n",
       "    </tr>\n",
       "    <tr>\n",
       "      <th>5</th>\n",
       "      <td>Paryżu</td>\n",
       "      <td>Paryż:Sm1</td>\n",
       "      <td>subst:sg:loc:m1</td>\n",
       "      <td>[nazwisko]</td>\n",
       "      <td>[]</td>\n",
       "    </tr>\n",
       "    <tr>\n",
       "      <th>6</th>\n",
       "      <td>Paryżu</td>\n",
       "      <td>Paryż:Sm1</td>\n",
       "      <td>subst:sg:voc:m1</td>\n",
       "      <td>[nazwisko]</td>\n",
       "      <td>[]</td>\n",
       "    </tr>\n",
       "    <tr>\n",
       "      <th>7</th>\n",
       "      <td>Paryżowie</td>\n",
       "      <td>Paryż:Sm1</td>\n",
       "      <td>subst:pl:nom.voc:m1</td>\n",
       "      <td>[nazwisko]</td>\n",
       "      <td>[]</td>\n",
       "    </tr>\n",
       "    <tr>\n",
       "      <th>8</th>\n",
       "      <td>Paryżów</td>\n",
       "      <td>Paryż:Sm1</td>\n",
       "      <td>subst:pl:gen.acc:m1</td>\n",
       "      <td>[nazwisko]</td>\n",
       "      <td>[]</td>\n",
       "    </tr>\n",
       "    <tr>\n",
       "      <th>9</th>\n",
       "      <td>Paryżom</td>\n",
       "      <td>Paryż:Sm1</td>\n",
       "      <td>subst:pl:dat:m1</td>\n",
       "      <td>[nazwisko]</td>\n",
       "      <td>[]</td>\n",
       "    </tr>\n",
       "    <tr>\n",
       "      <th>10</th>\n",
       "      <td>Paryżami</td>\n",
       "      <td>Paryż:Sm1</td>\n",
       "      <td>subst:pl:inst:m1</td>\n",
       "      <td>[nazwisko]</td>\n",
       "      <td>[]</td>\n",
       "    </tr>\n",
       "    <tr>\n",
       "      <th>11</th>\n",
       "      <td>Paryżach</td>\n",
       "      <td>Paryż:Sm1</td>\n",
       "      <td>subst:pl:loc:m1</td>\n",
       "      <td>[nazwisko]</td>\n",
       "      <td>[]</td>\n",
       "    </tr>\n",
       "    <tr>\n",
       "      <th>12</th>\n",
       "      <td>Paryż</td>\n",
       "      <td>Paryż:Sm3</td>\n",
       "      <td>subst:sg:nom.acc:m3</td>\n",
       "      <td>[nazwa_geograficzna]</td>\n",
       "      <td>[]</td>\n",
       "    </tr>\n",
       "    <tr>\n",
       "      <th>13</th>\n",
       "      <td>Paryża</td>\n",
       "      <td>Paryż:Sm3</td>\n",
       "      <td>subst:sg:gen:m3</td>\n",
       "      <td>[nazwa_geograficzna]</td>\n",
       "      <td>[]</td>\n",
       "    </tr>\n",
       "    <tr>\n",
       "      <th>14</th>\n",
       "      <td>Paryżowi</td>\n",
       "      <td>Paryż:Sm3</td>\n",
       "      <td>subst:sg:dat:m3</td>\n",
       "      <td>[nazwa_geograficzna]</td>\n",
       "      <td>[]</td>\n",
       "    </tr>\n",
       "    <tr>\n",
       "      <th>15</th>\n",
       "      <td>Paryżem</td>\n",
       "      <td>Paryż:Sm3</td>\n",
       "      <td>subst:sg:inst:m3</td>\n",
       "      <td>[nazwa_geograficzna]</td>\n",
       "      <td>[]</td>\n",
       "    </tr>\n",
       "    <tr>\n",
       "      <th>16</th>\n",
       "      <td>Paryżu</td>\n",
       "      <td>Paryż:Sm3</td>\n",
       "      <td>subst:sg:loc:m3</td>\n",
       "      <td>[nazwa_geograficzna]</td>\n",
       "      <td>[]</td>\n",
       "    </tr>\n",
       "    <tr>\n",
       "      <th>17</th>\n",
       "      <td>Paryżu</td>\n",
       "      <td>Paryż:Sm3</td>\n",
       "      <td>subst:sg:voc:m3</td>\n",
       "      <td>[nazwa_geograficzna]</td>\n",
       "      <td>[]</td>\n",
       "    </tr>\n",
       "    <tr>\n",
       "      <th>18</th>\n",
       "      <td>Paryże</td>\n",
       "      <td>Paryż:Sm3</td>\n",
       "      <td>subst:pl:nom.acc.voc:m3</td>\n",
       "      <td>[nazwa_geograficzna]</td>\n",
       "      <td>[]</td>\n",
       "    </tr>\n",
       "    <tr>\n",
       "      <th>19</th>\n",
       "      <td>Paryżów</td>\n",
       "      <td>Paryż:Sm3</td>\n",
       "      <td>subst:pl:gen:m3</td>\n",
       "      <td>[nazwa_geograficzna]</td>\n",
       "      <td>[]</td>\n",
       "    </tr>\n",
       "    <tr>\n",
       "      <th>20</th>\n",
       "      <td>Paryżom</td>\n",
       "      <td>Paryż:Sm3</td>\n",
       "      <td>subst:pl:dat:m3</td>\n",
       "      <td>[nazwa_geograficzna]</td>\n",
       "      <td>[]</td>\n",
       "    </tr>\n",
       "    <tr>\n",
       "      <th>21</th>\n",
       "      <td>Paryżami</td>\n",
       "      <td>Paryż:Sm3</td>\n",
       "      <td>subst:pl:inst:m3</td>\n",
       "      <td>[nazwa_geograficzna]</td>\n",
       "      <td>[]</td>\n",
       "    </tr>\n",
       "    <tr>\n",
       "      <th>22</th>\n",
       "      <td>Paryżach</td>\n",
       "      <td>Paryż:Sm3</td>\n",
       "      <td>subst:pl:loc:m3</td>\n",
       "      <td>[nazwa_geograficzna]</td>\n",
       "      <td>[]</td>\n",
       "    </tr>\n",
       "    <tr>\n",
       "      <th>23</th>\n",
       "      <td>Paryże</td>\n",
       "      <td>Paryż:Sm1</td>\n",
       "      <td>depr:pl:nom.acc.voc:m2</td>\n",
       "      <td>[nazwisko]</td>\n",
       "      <td>[]</td>\n",
       "    </tr>\n",
       "  </tbody>\n",
       "</table>\n",
       "</div>"
      ],
      "text/plain": [
       "   inflected form  base form                                        tags  \\\n",
       "0           Paryż   Paryż:Sf  subst:sg.pl:nom.gen.dat.acc.inst.loc.voc:f   \n",
       "1           Paryż  Paryż:Sm1                             subst:sg:nom:m1   \n",
       "2          Paryża  Paryż:Sm1                         subst:sg:gen.acc:m1   \n",
       "3        Paryżowi  Paryż:Sm1                             subst:sg:dat:m1   \n",
       "4         Paryżem  Paryż:Sm1                            subst:sg:inst:m1   \n",
       "5          Paryżu  Paryż:Sm1                             subst:sg:loc:m1   \n",
       "6          Paryżu  Paryż:Sm1                             subst:sg:voc:m1   \n",
       "7       Paryżowie  Paryż:Sm1                         subst:pl:nom.voc:m1   \n",
       "8         Paryżów  Paryż:Sm1                         subst:pl:gen.acc:m1   \n",
       "9         Paryżom  Paryż:Sm1                             subst:pl:dat:m1   \n",
       "10       Paryżami  Paryż:Sm1                            subst:pl:inst:m1   \n",
       "11       Paryżach  Paryż:Sm1                             subst:pl:loc:m1   \n",
       "12          Paryż  Paryż:Sm3                         subst:sg:nom.acc:m3   \n",
       "13         Paryża  Paryż:Sm3                             subst:sg:gen:m3   \n",
       "14       Paryżowi  Paryż:Sm3                             subst:sg:dat:m3   \n",
       "15        Paryżem  Paryż:Sm3                            subst:sg:inst:m3   \n",
       "16         Paryżu  Paryż:Sm3                             subst:sg:loc:m3   \n",
       "17         Paryżu  Paryż:Sm3                             subst:sg:voc:m3   \n",
       "18         Paryże  Paryż:Sm3                     subst:pl:nom.acc.voc:m3   \n",
       "19        Paryżów  Paryż:Sm3                             subst:pl:gen:m3   \n",
       "20        Paryżom  Paryż:Sm3                             subst:pl:dat:m3   \n",
       "21       Paryżami  Paryż:Sm3                            subst:pl:inst:m3   \n",
       "22       Paryżach  Paryż:Sm3                             subst:pl:loc:m3   \n",
       "23         Paryże  Paryż:Sm1                      depr:pl:nom.acc.voc:m2   \n",
       "\n",
       "              categories misc  \n",
       "0             [nazwisko]   []  \n",
       "1             [nazwisko]   []  \n",
       "2             [nazwisko]   []  \n",
       "3             [nazwisko]   []  \n",
       "4             [nazwisko]   []  \n",
       "5             [nazwisko]   []  \n",
       "6             [nazwisko]   []  \n",
       "7             [nazwisko]   []  \n",
       "8             [nazwisko]   []  \n",
       "9             [nazwisko]   []  \n",
       "10            [nazwisko]   []  \n",
       "11            [nazwisko]   []  \n",
       "12  [nazwa_geograficzna]   []  \n",
       "13  [nazwa_geograficzna]   []  \n",
       "14  [nazwa_geograficzna]   []  \n",
       "15  [nazwa_geograficzna]   []  \n",
       "16  [nazwa_geograficzna]   []  \n",
       "17  [nazwa_geograficzna]   []  \n",
       "18  [nazwa_geograficzna]   []  \n",
       "19  [nazwa_geograficzna]   []  \n",
       "20  [nazwa_geograficzna]   []  \n",
       "21  [nazwa_geograficzna]   []  \n",
       "22  [nazwa_geograficzna]   []  \n",
       "23            [nazwisko]   []  "
      ]
     },
     "execution_count": 5,
     "metadata": {},
     "output_type": "execute_result"
    }
   ],
   "source": [
    "pd.DataFrame(forms, columns=['inflected form', 'base form', 'tags', 'categories', 'misc'])"
   ]
  },
  {
   "cell_type": "markdown",
   "metadata": {
    "editable": true,
    "slideshow": {
     "slide_type": ""
    },
    "tags": []
   },
   "source": [
    "* większość dostępnych narzędzi posiada ograniczone wsparcie dla obsługi fleksji języka polskiego"
   ]
  },
  {
   "cell_type": "markdown",
   "metadata": {
    "slideshow": {
     "slide_type": "subslide"
    }
   },
   "source": [
    "* **czy uwzględniamy słowotwórstwo i relacje morfologiczne? - wirus/wirusowe, lekarz/leczenie**"
   ]
  },
  {
   "cell_type": "markdown",
   "metadata": {
    "slideshow": {
     "slide_type": "fragment"
    }
   },
   "source": [
    "<center><img src=\"img/wirus-wn.png\" width=\"800px\"/></center>"
   ]
  },
  {
   "cell_type": "markdown",
   "metadata": {
    "editable": true,
    "slideshow": {
     "slide_type": "subslide"
    },
    "tags": []
   },
   "source": [
    "<center><img src=\"img/wirus-derywacja.png\" width=\"400px\"/></center>"
   ]
  },
  {
   "cell_type": "markdown",
   "metadata": {
    "editable": true,
    "slideshow": {
     "slide_type": "notes"
    },
    "tags": []
   },
   "source": [
    "* zasadniczo brak jest słowników, które zawierałyby kompletny opis dla języka polskiego\n",
    "* wykorzystanie Wordnetu wymaga uprzedniego powiązania formy ze znaczeniem, co jest nietrywialne"
   ]
  },
  {
   "cell_type": "markdown",
   "metadata": {
    "editable": true,
    "slideshow": {
     "slide_type": "subslide"
    },
    "tags": []
   },
   "source": [
    "* **skąd pochodzą teksty?**\n",
    "\n",
    "* A­a\n",
    "* A a"
   ]
  },
  {
   "cell_type": "markdown",
   "metadata": {
    "editable": true,
    "slideshow": {
     "slide_type": "subslide"
    },
    "tags": []
   },
   "source": [
    "* **jak szybko można to policzyć?**"
   ]
  },
  {
   "cell_type": "markdown",
   "metadata": {
    "editable": true,
    "slideshow": {
     "slide_type": "fragment"
    },
    "tags": []
   },
   "source": [
    "* chcemy przeszukać zbiór danych zawierającym terabajty tekstu\n",
    "* chcemy znaleźć konkretne dokumenty zawierające dane słowo"
   ]
  },
  {
   "cell_type": "code",
   "execution_count": 4,
   "metadata": {
    "ExecuteTime": {
     "end_time": "2023-10-03T15:44:56.915593Z",
     "start_time": "2023-10-03T15:44:56.911177Z"
    },
    "slideshow": {
     "slide_type": "fragment"
    }
   },
   "outputs": [
    {
     "name": "stdout",
     "output_type": "stream",
     "text": [
      "3\n",
      "False\n"
     ]
    }
   ],
   "source": [
    "s1 = \"A­a\"\n",
    "s2 = \"A a\"\n",
    "print(len(s1))\n",
    "print(s2 == \"A a\")"
   ]
  },
  {
   "cell_type": "markdown",
   "metadata": {
    "slideshow": {
     "slide_type": "notes"
    }
   },
   "source": [
    "* teksty z internetu będą miały bardzo dużą liczbę wyrażeń, które nie są wyrazami\n",
    "* teksty pochodzące z edytorów mogą zawierać artefakty takie jak niełamliwe spacje oraz miejsca podziału słów"
   ]
  },
  {
   "cell_type": "markdown",
   "metadata": {
    "slideshow": {
     "slide_type": "subslide"
    }
   },
   "source": [
    "## Zliczanie wystąpień wyrażenia w tekście"
   ]
  },
  {
   "cell_type": "markdown",
   "metadata": {
    "editable": true,
    "slideshow": {
     "slide_type": "fragment"
    },
    "tags": []
   },
   "source": [
    "W których dokumentach występuje wyrażenie `wirusowe zapalenie wątroby`?"
   ]
  },
  {
   "cell_type": "markdown",
   "metadata": {
    "slideshow": {
     "slide_type": "fragment"
    }
   },
   "source": [
    "* **czy wszystkie wyrazy są odmienne?**"
   ]
  },
  {
   "cell_type": "markdown",
   "metadata": {
    "slideshow": {
     "slide_type": "fragment"
    }
   },
   "source": [
    "* **czy pomiędzy wyrazami mogą występować inne wyraz nie należące do wyrażenia?**"
   ]
  },
  {
   "cell_type": "markdown",
   "metadata": {
    "slideshow": {
     "slide_type": "fragment"
    }
   },
   "source": [
    "* **czy spacja jest zawsze tym czym nam się wydaje, że jest?**"
   ]
  },
  {
   "cell_type": "markdown",
   "metadata": {
    "slideshow": {
     "slide_type": "fragment"
    }
   },
   "source": [
    "* **czy uwzględniamy skróty?** (WZW)"
   ]
  },
  {
   "cell_type": "markdown",
   "metadata": {
    "slideshow": {
     "slide_type": "fragment"
    }
   },
   "source": [
    "* **czy uwzględniamy synonimy?** (żółtaczka)"
   ]
  },
  {
   "cell_type": "markdown",
   "metadata": {
    "editable": true,
    "slideshow": {
     "slide_type": "subslide"
    },
    "tags": []
   },
   "source": [
    "# Trójkąt semantyczny Ogdena-Richardsa\n",
    "\n",
    "&nbsp;\n",
    "\n",
    "<center><img src=\"img/semiotic-triangle.png\" width=\"700px\"/></center>"
   ]
  },
  {
   "cell_type": "markdown",
   "metadata": {
    "slideshow": {
     "slide_type": "slide"
    }
   },
   "source": [
    "## Problem kodowania znaków"
   ]
  },
  {
   "cell_type": "markdown",
   "metadata": {
    "slideshow": {
     "slide_type": "fragment"
    }
   },
   "source": [
    "Popularne rodzaje kodowania znaków (z uwzględnieniem języka polskiego):\n",
    "* ASCII\n",
    "* iso-8859-2 (Unix)\n",
    "* code page 1250 (Windows)\n",
    "* Unicode: UTF-8, UTF-16 (Windows, Unix, Web)"
   ]
  },
  {
   "cell_type": "markdown",
   "metadata": {
    "slideshow": {
     "slide_type": "subslide"
    }
   },
   "source": [
    "## ASCII\n",
    "\n",
    "*American Standard Code for Information Interchange*\n",
    "\n",
    "<center><img src=\"img/ascii_table_pragimtech.png\"/></center>"
   ]
  },
  {
   "cell_type": "markdown",
   "metadata": {
    "slideshow": {
     "slide_type": "subslide"
    }
   },
   "source": [
    "## ISO-8859-2 vs. CP1250 (1 bajtowe kodowanie)"
   ]
  },
  {
   "cell_type": "markdown",
   "metadata": {
    "slideshow": {
     "slide_type": "fragment"
    }
   },
   "source": [
    "### ISO-8859-2\n",
    "* Albanian, Bosnian, Croatian, Czech, , German, Hungarian, Polish, Serbian, Slovak, Slovene, Upper Sorbian, Lower  Sorbian, Turkmen"
   ]
  },
  {
   "cell_type": "markdown",
   "metadata": {
    "slideshow": {
     "slide_type": "fragment"
    }
   },
   "source": [
    "### CP1250\n",
    "* Albanian, Bosnian, Croatian, Czech, German, Hungarian, Polish, Serbian, Slovak, Slovene, Romanian"
   ]
  },
  {
   "cell_type": "markdown",
   "metadata": {
    "slideshow": {
     "slide_type": "subslide"
    }
   },
   "source": [
    "<center><img src=\"img/iso-vs-cp.png\" width=\"1400px\"/></center>"
   ]
  },
  {
   "cell_type": "code",
   "execution_count": 1,
   "metadata": {
    "ExecuteTime": {
     "end_time": "2023-10-10T15:09:23.821303Z",
     "start_time": "2023-10-10T15:09:23.699267Z"
    },
    "slideshow": {
     "slide_type": "subslide"
    }
   },
   "outputs": [
    {
     "name": "stdout",
     "output_type": "stream",
     "text": [
      "Za��� g�l� ja��\n",
      "Zażółć gęślą jaźń\n",
      "\n"
     ]
    }
   ],
   "source": [
    "!cat iso-8859-2.txt\n",
    "\n",
    "import codecs\n",
    "with codecs.open(\"iso-8859-2.txt\", 'r', 'iso-8859-2') as f:\n",
    "    for line in f:\n",
    "        print(line)"
   ]
  },
  {
   "cell_type": "markdown",
   "metadata": {
    "slideshow": {
     "slide_type": "subslide"
    }
   },
   "source": [
    "## Unicode + UTF-8, UTF-16, UTF-32"
   ]
  },
  {
   "cell_type": "markdown",
   "metadata": {
    "slideshow": {
     "slide_type": "fragment"
    }
   },
   "source": [
    "**Unikod (ang. Unicode)** – komputerowy zestaw znaków mający w zamierzeniu obejmować wszystkie alfabety używane na świecie."
   ]
  },
  {
   "cell_type": "markdown",
   "metadata": {
    "slideshow": {
     "slide_type": "fragment"
    }
   },
   "source": [
    "**UTF-8 (ang. 8-bit Unicode Transformation Format)** – system kodowania Unicode, wykorzystujący od 1 do 4 bajtów do zakodowania pojedynczego znaku, w pełni kompatybilny z ASCII."
   ]
  },
  {
   "cell_type": "markdown",
   "metadata": {
    "slideshow": {
     "slide_type": "fragment"
    }
   },
   "source": [
    "**UTF-16 (ang. 16-bit Unicode Transformation Format)** – jeden ze sposobów kodowania znaków standardu Unicode (2 lub 4 bajty,  <= U+10000 kodowane na 2 bajtach)."
   ]
  },
  {
   "cell_type": "markdown",
   "metadata": {
    "slideshow": {
     "slide_type": "fragment"
    }
   },
   "source": [
    "**UTF-32 (ang. 32-bit unicode transformation format)** – jeden ze sposobów kodowania znaków standardu Unicode (zawsze 4 bajty). \n",
    "\n",
    "(Źródło: Wikipedia)"
   ]
  },
  {
   "cell_type": "markdown",
   "metadata": {
    "slideshow": {
     "slide_type": "subslide"
    }
   },
   "source": [
    "## Unicode\n",
    "\n",
    "| Wersja | Data | Publikacja | Oznaczenie | Liczba zestawów znaków | Liczba znaków | Liczba nowych znaków |\n",
    "|--------|------|------------|------------|------------------------|---------------|----------------------|\n",
    "| 13.0\t | March 2020 | ISBN 978-1-936213-26-9 | ISO/IEC 10646:2020[51] | 154 | 143,859 | 5,930 added) |\n",
    "\n",
    "<center><img src=\"img/unicode-table.png\" width=\"1200px\"/></center>"
   ]
  },
  {
   "cell_type": "markdown",
   "metadata": {
    "slideshow": {
     "slide_type": "subslide"
    }
   },
   "source": [
    "## Latin Extended-A\n",
    "\n",
    "<center><img src=\"img/unicode-a-c.png\" width=\"900px\"/></center>"
   ]
  },
  {
   "cell_type": "code",
   "execution_count": 2,
   "metadata": {
    "ExecuteTime": {
     "end_time": "2023-10-10T15:13:52.851724Z",
     "start_time": "2023-10-10T15:13:42.710478Z"
    },
    "slideshow": {
     "slide_type": "subslide"
    }
   },
   "outputs": [
    {
     "name": "stdout",
     "output_type": "stream",
     "text": [
      "Requirement already satisfied: unidecode in /home/apohllo/miniconda3/envs/jupyter/lib/python3.10/site-packages (1.3.6)\n",
      "Collecting demoji\n",
      "  Using cached demoji-1.1.0-py3-none-any.whl (42 kB)\n",
      "Installing collected packages: demoji\n",
      "Successfully installed demoji-1.1.0\n"
     ]
    }
   ],
   "source": [
    "!pip install unidecode\n",
    "!pip install demoji"
   ]
  },
  {
   "cell_type": "code",
   "execution_count": 3,
   "metadata": {
    "ExecuteTime": {
     "end_time": "2023-10-10T15:15:03.779358Z",
     "start_time": "2023-10-10T15:15:03.766945Z"
    },
    "slideshow": {
     "slide_type": "fragment"
    }
   },
   "outputs": [
    {
     "name": "stdout",
     "output_type": "stream",
     "text": [
      "Kaplica Sykstynska\n",
      "Sikstinskaia kapella\n",
      "Kapela Sistina\n",
      "Xi Si Ting Xiao Tang \n",
      "Sik`stinyan kapella\n"
     ]
    }
   ],
   "source": [
    "from unidecode import unidecode\n",
    "\n",
    "print(unidecode(\"Kaplica Sykstyńska\"))\n",
    "print(unidecode(\"Сикстинская капелла\")) # cyrylica\n",
    "print(unidecode(\"Καπέλα Σιστίνα\")) # grecki \n",
    "print(unidecode(\"西斯汀小堂\")) # chiński\n",
    "print(unidecode(\"Սիքստինյան կապելլա\")) # ormiański"
   ]
  },
  {
   "cell_type": "code",
   "execution_count": 4,
   "metadata": {
    "ExecuteTime": {
     "end_time": "2023-10-10T15:16:26.407965Z",
     "start_time": "2023-10-10T15:16:26.214575Z"
    },
    "slideshow": {
     "slide_type": "subslide"
    }
   },
   "outputs": [
    {
     "data": {
      "text/plain": [
       "{'🎅🏾': 'Santa Claus: medium-dark skin tone',\n",
       " '🇳🇮': 'flag: Nicaragua',\n",
       " '🤡': 'clown face',\n",
       " '👹': 'ogre',\n",
       " '🚣🏼': 'person rowing boat: medium-light skin tone',\n",
       " '🐂': 'ox',\n",
       " '🌋': 'volcano',\n",
       " '🇲🇽': 'flag: Mexico',\n",
       " '👨🏽\\u200d⚖️': 'man judge: medium skin tone',\n",
       " '🔥': 'fire'}"
      ]
     },
     "execution_count": 4,
     "metadata": {},
     "output_type": "execute_result"
    }
   ],
   "source": [
    "import demoji\n",
    "#demoji.download_codes()\n",
    "\n",
    "demoji.findall(\"\"\"\n",
    "#startspreadingthenews yankees win great start by 🎅🏾 going 5strong innings with 5k’s🔥 🐂 solo homerun 🌋🌋 \n",
    "with 2 solo homeruns and👹 3run homerun… 🤡 🚣🏼 👨🏽‍⚖️ with rbi’s … 🔥🔥\n",
    "🇲🇽 and 🇳🇮 to close the game🔥🔥!!!….\n",
    "WHAT A GAME!!..\n",
    "\"\"\")"
   ]
  },
  {
   "cell_type": "markdown",
   "metadata": {
    "slideshow": {
     "slide_type": "subslide"
    }
   },
   "source": [
    "## UTF-8\n",
    "\n",
    "### Zalety\n",
    "* Każdy tekst w ASCII jest tekstem w UTF-8.\n",
    "* Żaden znak spoza ASCII nie zawiera bajtu z ASCII.\n",
    "* Zachowuje porządek sortowania UCS-4.\n",
    "* Typowy tekst ISO-Latin-X rozrasta się w bardzo niewielkim stopniu po przekonwertowaniu do UTF-8.\n",
    "* Nie zawiera bajtów 0xFF i 0xFE, więc łatwo można go odróżnić od tekstu UTF-16.\n",
    "* Znaki o kodzie różnym od 0 nie zawierają bajtu 0, co pozwala stosować UTF-8 w ciągach zakończonych zerem.\n",
    "* O każdym bajcie wiadomo, czy jest początkiem znaku, czy też leży w jego środku, co nie jest dostępne np. w kodowaniu EUC.\n",
    "* Nie ma problemów z little endian vs big endian.\n",
    "* Jest domyślnym kodowaniem w XML (również w jego aplikacjach: XHTML, SVG, XSL, CML, MathML)."
   ]
  },
  {
   "cell_type": "markdown",
   "metadata": {
    "editable": true,
    "slideshow": {
     "slide_type": "subslide"
    },
    "tags": []
   },
   "source": [
    "## UTF-8 \n",
    "\n",
    "### Wady\n",
    "* Znaki CJK zajmują po 3 bajty zamiast 2 w kodowaniach narodowych.\n",
    "* Znaki alfabetów niełacińskich zajmują po 2 bajty zamiast jednego w kodowaniach narodowych.\n",
    "* UTF-8 nie używa przesunięć zasięgów, co stanowi dodatkowe utrudnienie dla implementacji UTF-8\n",
    "\n",
    "(Źródło: Wikipedia)"
   ]
  },
  {
   "cell_type": "markdown",
   "metadata": {
    "editable": true,
    "slideshow": {
     "slide_type": "subslide"
    },
    "tags": []
   },
   "source": [
    "# Unicode i łańcuchy w Pythonie"
   ]
  },
  {
   "cell_type": "code",
   "execution_count": 1,
   "metadata": {
    "editable": true,
    "execution": {
     "iopub.execute_input": "2024-04-20T20:27:46.916417Z",
     "iopub.status.busy": "2024-04-20T20:27:46.915821Z",
     "iopub.status.idle": "2024-04-20T20:27:46.929833Z",
     "shell.execute_reply": "2024-04-20T20:27:46.929318Z",
     "shell.execute_reply.started": "2024-04-20T20:27:46.916377Z"
    },
    "slideshow": {
     "slide_type": "fragment"
    },
    "tags": []
   },
   "outputs": [
    {
     "data": {
      "text/plain": [
       "(97, 288, 129440)"
      ]
     },
     "execution_count": 1,
     "metadata": {},
     "output_type": "execute_result"
    }
   ],
   "source": [
    "ord('a'), ord('Ġ'), ord('🦠')"
   ]
  },
  {
   "cell_type": "markdown",
   "metadata": {
    "editable": true,
    "slideshow": {
     "slide_type": "fragment"
    },
    "tags": []
   },
   "source": [
    "`ord` zwraca identyfikator symbolu w Unicode"
   ]
  },
  {
   "cell_type": "code",
   "execution_count": 2,
   "metadata": {
    "editable": true,
    "execution": {
     "iopub.execute_input": "2024-04-20T20:27:46.930635Z",
     "iopub.status.busy": "2024-04-20T20:27:46.930455Z",
     "iopub.status.idle": "2024-04-20T20:27:46.947582Z",
     "shell.execute_reply": "2024-04-20T20:27:46.946755Z",
     "shell.execute_reply.started": "2024-04-20T20:27:46.930618Z"
    },
    "slideshow": {
     "slide_type": "fragment"
    },
    "tags": []
   },
   "outputs": [
    {
     "data": {
      "text/plain": [
       "('🦠', '🦡', '絻')"
      ]
     },
     "execution_count": 2,
     "metadata": {},
     "output_type": "execute_result"
    }
   ],
   "source": [
    "chr(129440), chr(129441), chr(32123)"
   ]
  },
  {
   "cell_type": "markdown",
   "metadata": {
    "editable": true,
    "slideshow": {
     "slide_type": "fragment"
    },
    "tags": []
   },
   "source": [
    "`chr` zamienia identyfikator na łańcuch znaków"
   ]
  },
  {
   "cell_type": "markdown",
   "metadata": {
    "editable": true,
    "slideshow": {
     "slide_type": "subslide"
    },
    "tags": []
   },
   "source": [
    "# Znaki i bajty"
   ]
  },
  {
   "cell_type": "code",
   "execution_count": 3,
   "metadata": {
    "editable": true,
    "execution": {
     "iopub.execute_input": "2024-04-20T20:27:46.949032Z",
     "iopub.status.busy": "2024-04-20T20:27:46.948594Z",
     "iopub.status.idle": "2024-04-20T20:27:46.965861Z",
     "shell.execute_reply": "2024-04-20T20:27:46.964885Z",
     "shell.execute_reply.started": "2024-04-20T20:27:46.948989Z"
    },
    "slideshow": {
     "slide_type": "fragment"
    },
    "tags": []
   },
   "outputs": [
    {
     "name": "stdout",
     "output_type": "stream",
     "text": [
      "bytes literal (hex):\n",
      "b'Alice'\n",
      "---\n",
      "bytes list (decimal):\n",
      "[65, 108, 105, 99, 101]\n",
      "---\n",
      "Length: 5\n"
     ]
    }
   ],
   "source": [
    "text_sample = \"Alice\"\n",
    "utf8_bytes = text_sample.encode('utf-8')\n",
    "print(f'bytes literal (hex):\\n{utf8_bytes}', end='\\n---\\n')\n",
    "print(f'bytes list (decimal):\\n{list(utf8_bytes)}', end='\\n---\\n')\n",
    "print(f'Length: {len(utf8_bytes)}')"
   ]
  },
  {
   "cell_type": "code",
   "execution_count": 4,
   "metadata": {
    "editable": true,
    "execution": {
     "iopub.execute_input": "2024-04-20T20:27:46.967028Z",
     "iopub.status.busy": "2024-04-20T20:27:46.966767Z",
     "iopub.status.idle": "2024-04-20T20:27:46.988240Z",
     "shell.execute_reply": "2024-04-20T20:27:46.984637Z",
     "shell.execute_reply.started": "2024-04-20T20:27:46.967002Z"
    },
    "slideshow": {
     "slide_type": "fragment"
    },
    "tags": []
   },
   "outputs": [
    {
     "data": {
      "text/plain": [
       "bytes"
      ]
     },
     "execution_count": 4,
     "metadata": {},
     "output_type": "execute_result"
    }
   ],
   "source": [
    "type(utf8_bytes)"
   ]
  },
  {
   "cell_type": "code",
   "execution_count": 7,
   "metadata": {
    "editable": true,
    "execution": {
     "iopub.execute_input": "2024-10-08T16:17:11.148718Z",
     "iopub.status.busy": "2024-10-08T16:17:11.148541Z",
     "iopub.status.idle": "2024-10-08T16:17:11.155864Z",
     "shell.execute_reply": "2024-10-08T16:17:11.154766Z",
     "shell.execute_reply.started": "2024-10-08T16:17:11.148708Z"
    },
    "slideshow": {
     "slide_type": "subslide"
    },
    "tags": []
   },
   "outputs": [
    {
     "name": "stdout",
     "output_type": "stream",
     "text": [
      "bytes literal (hex):\n",
      "b'\\xe0\\xb8\\xad\\xe0\\xb8\\xa5\\xe0\\xb8\\xb4\\xe0\\xb8\\x8b'\n",
      "---\n",
      "bytes list (decimal):\n",
      "[224, 184, 173, 224, 184, 165, 224, 184, 180, 224, 184, 139]\n",
      "---\n",
      "Length: 12\n"
     ]
    }
   ],
   "source": [
    "# The second symbol is a connection of two symbols ล and ิ\n",
    "text_sample = \"อลิซ\"\n",
    "utf8_bytes = text_sample.encode('utf-8')\n",
    "print(f'bytes literal (hex):\\n{utf8_bytes}', end='\\n---\\n')\n",
    "print(f'bytes list (decimal):\\n{list(utf8_bytes)}', end='\\n---\\n')\n",
    "print(f'Length: {len(utf8_bytes)}')"
   ]
  },
  {
   "cell_type": "markdown",
   "metadata": {
    "editable": true,
    "slideshow": {
     "slide_type": "slide"
    },
    "tags": []
   },
   "source": [
    "# Odległość edycyjna łańcuchów znaków\n",
    "\n",
    "Minimalna liczba operacji:\n",
    "* usunięcia\n",
    "* dodania\n",
    "* zamiany\n",
    "\n",
    "pojedynczego znaku, dzięki którym łańcych `S1` może zostać przekształcony w łańcuch `S2`.\n",
    "\n"
   ]
  },
  {
   "cell_type": "markdown",
   "metadata": {
    "editable": true,
    "slideshow": {
     "slide_type": "subslide"
    },
    "tags": []
   },
   "source": [
    "<table class=\"multicol\" role=\"presentation\" style=\"border-collapse: collapse; padding: 0; border: 0; background:transparent; width:auto;\"><tbody><tr>\n",
    "<td style=\"text-align: left; vertical-align: top;\">\n",
    "<table class=\"wikitable\">\n",
    "<tbody><tr>\n",
    "<td>\n",
    "</td>\n",
    "<td>\n",
    "</td>\n",
    "<th>k\n",
    "</th>\n",
    "<th>i\n",
    "</th>\n",
    "<th>t\n",
    "</th>\n",
    "<th>t\n",
    "</th>\n",
    "<th>e\n",
    "</th>\n",
    "<th>n\n",
    "</th></tr>\n",
    "<tr>\n",
    "<td></td>\n",
    "<td>0</td>\n",
    "<td>1</td>\n",
    "<td>2</td>\n",
    "<td>3</td>\n",
    "<td>4</td>\n",
    "<td>5</td>\n",
    "<td>6\n",
    "</td></tr>\n",
    "<tr>\n",
    "<th>s\n",
    "</th>\n",
    "<td>1</td>\n",
    "<td><span title=\"substitution of &#39;s&#39; for &#39;k&#39;\" style=\"border-bottom:1px dotted\">1</span></td>\n",
    "<td>2</td>\n",
    "<td>3</td>\n",
    "<td>4</td>\n",
    "<td>5</td>\n",
    "<td>6\n",
    "</td></tr>\n",
    "<tr>\n",
    "<th>i\n",
    "</th>\n",
    "<td>2</td>\n",
    "<td>2</td>\n",
    "<td><span title=\"&#39;i&#39; equals &#39;i&#39;\" style=\"border-bottom:1px dotted\">1</span></td>\n",
    "<td>2</td>\n",
    "<td>3</td>\n",
    "<td>4</td>\n",
    "<td>5\n",
    "</td></tr>\n",
    "<tr>\n",
    "<th>t\n",
    "</th>\n",
    "<td>3</td>\n",
    "<td>3</td>\n",
    "<td>2</td>\n",
    "<td><span title=\"&#39;t&#39; equals &#39;t&#39;\" style=\"border-bottom:1px dotted\">1</span></td>\n",
    "<td>2</td>\n",
    "<td>3</td>\n",
    "<td>4\n",
    "</td></tr>\n",
    "<tr>\n",
    "<th>t\n",
    "</th>\n",
    "<td>4</td>\n",
    "<td>4</td>\n",
    "<td>3</td>\n",
    "<td>2</td>\n",
    "<td><span title=\"&#39;t&#39; equals &#39;t&#39;\" style=\"border-bottom:1px dotted\">1</span></td>\n",
    "<td>2</td>\n",
    "<td>3\n",
    "</td></tr>\n",
    "<tr>\n",
    "<th>i\n",
    "</th>\n",
    "<td>5</td>\n",
    "<td>5</td>\n",
    "<td>4</td>\n",
    "<td>3</td>\n",
    "<td>2</td>\n",
    "<td><span title=\"substitution of &#39;i&#39; for &#39;e&#39;\" style=\"border-bottom:1px dotted\">2</span></td>\n",
    "<td>3\n",
    "</td></tr>\n",
    "<tr>\n",
    "<th>n\n",
    "</th>\n",
    "<td>6</td>\n",
    "<td>6</td>\n",
    "<td>5</td>\n",
    "<td>4</td>\n",
    "<td>3</td>\n",
    "<td>3</td>\n",
    "<td><span title=\"&#39;n&#39; equals &#39;n&#39;\" style=\"border-bottom:1px dotted\">2</span>\n",
    "</td></tr>\n",
    "<tr>\n",
    "<th>g\n",
    "</th>\n",
    "<td>7</td>\n",
    "<td>7</td>\n",
    "<td>6</td>\n",
    "<td>5</td>\n",
    "<td>4</td>\n",
    "<td>4</td>\n",
    "<td><span title=\"insert &#39;g&#39;\" style=\"border-bottom:1px dotted\">3</span>\n",
    "</td></tr></tbody></table>\n",
    "<p>&#32;\n",
    "</p>\n",
    "</td>\n",
    "<td style=\"text-align: left; vertical-align: top; padding-left: 1em;\">\n",
    "<table class=\"wikitable\">\n",
    "<tbody><tr>\n",
    "<td>\n",
    "</td>\n",
    "<td>\n",
    "</td>\n",
    "<th>S\n",
    "</th>\n",
    "<th>a\n",
    "</th>\n",
    "<th>t\n",
    "</th>\n",
    "<th>u\n",
    "</th>\n",
    "<th>r\n",
    "</th>\n",
    "<th>d\n",
    "</th>\n",
    "<th>a\n",
    "</th>\n",
    "<th>y\n",
    "</th></tr>\n",
    "<tr>\n",
    "<td>\n",
    "</td>\n",
    "<td>0</td>\n",
    "<td>1</td>\n",
    "<td>2</td>\n",
    "<td>3</td>\n",
    "<td>4</td>\n",
    "<td>5</td>\n",
    "<td>6</td>\n",
    "<td>7</td>\n",
    "<td>8\n",
    "</td></tr>\n",
    "<tr>\n",
    "<th>S\n",
    "</th>\n",
    "<td>1</td>\n",
    "<td><span title=\"&#39;S&#39; equals &#39;S&#39;\" style=\"border-bottom:1px dotted\">0</span></td>\n",
    "<td><span title=\"delete &#39;a&#39;\" style=\"border-bottom:1px dotted\">1</span></td>\n",
    "<td><span title=\"delete &#39;t&#39;\" style=\"border-bottom:1px dotted\">2</span></td>\n",
    "<td>3</td>\n",
    "<td>4</td>\n",
    "<td>5</td>\n",
    "<td>6</td>\n",
    "<td>7\n",
    "</td></tr>\n",
    "<tr>\n",
    "<th>u\n",
    "</th>\n",
    "<td>2</td>\n",
    "<td>1</td>\n",
    "<td>1</td>\n",
    "<td>2</td>\n",
    "<td><span title=\"&#39;u&#39; equals &#39;u&#39;\" style=\"border-bottom:1px dotted\">2</span></td>\n",
    "<td>3</td>\n",
    "<td>4</td>\n",
    "<td>5</td>\n",
    "<td>6\n",
    "</td></tr>\n",
    "<tr>\n",
    "<th>n\n",
    "</th>\n",
    "<td>3</td>\n",
    "<td>2</td>\n",
    "<td>2</td>\n",
    "<td>2</td>\n",
    "<td>3</td>\n",
    "<td><span title=\"substitution of &#39;n&#39; for &#39;r&#39;\" style=\"border-bottom:1px dotted\">3</span></td>\n",
    "<td>4</td>\n",
    "<td>5</td>\n",
    "<td>6\n",
    "</td></tr>\n",
    "<tr>\n",
    "<th>d\n",
    "</th>\n",
    "<td>4</td>\n",
    "<td>3</td>\n",
    "<td>3</td>\n",
    "<td>3</td>\n",
    "<td>3</td>\n",
    "<td>4</td>\n",
    "<td><span title=\"&#39;d&#39; equals &#39;d&#39;\" style=\"border-bottom:1px dotted\">3</span></td>\n",
    "<td>4</td>\n",
    "<td>5\n",
    "</td></tr>\n",
    "<tr>\n",
    "<th>a\n",
    "</th>\n",
    "<td>5</td>\n",
    "<td>4</td>\n",
    "<td>3</td>\n",
    "<td>4</td>\n",
    "<td>4</td>\n",
    "<td>4</td>\n",
    "<td>4</td>\n",
    "<td><span title=\"&#39;a&#39; equals &#39;a&#39;\" style=\"border-bottom:1px dotted\">3</span></td>\n",
    "<td>4\n",
    "</td></tr>\n",
    "<tr>\n",
    "<th>y\n",
    "</th>\n",
    "<td>6</td>\n",
    "<td>5</td>\n",
    "<td>4</td>\n",
    "<td>4</td>\n",
    "<td>5</td>\n",
    "<td>5</td>\n",
    "<td>5</td>\n",
    "<td>4</td>\n",
    "<td><span title=\"&#39;y&#39; equals &#39;y&#39;\" style=\"border-bottom:1px dotted\">3</span>\n",
    "</td></tr></tbody></table>\n",
    "<p>&#32;\n",
    "</p>\n",
    "</td></tr></tbody></table>\n",
    "\n",
    "źródło: https://en.wikipedia.org/wiki/Levenshtein_distance"
   ]
  },
  {
   "cell_type": "markdown",
   "metadata": {
    "editable": true,
    "slideshow": {
     "slide_type": "notes"
    },
    "tags": []
   },
   "source": [
    "Odległość może być wykorzystywana do zgrubnego wyszukiwania \"podobnych\" łańcuchów znaków."
   ]
  },
  {
   "cell_type": "markdown",
   "metadata": {
    "editable": true,
    "slideshow": {
     "slide_type": "subslide"
    },
    "tags": []
   },
   "source": [
    "# Did you mean?"
   ]
  },
  {
   "attachments": {
    "211ca865-c49b-4500-9d22-3819524a9e81.png": {
     "image/png": "[encoded data removed]"
    }
   },
   "cell_type": "markdown",
   "metadata": {
    "editable": true,
    "slideshow": {
     "slide_type": ""
    },
    "tags": []
   },
   "source": [
    "![image.png](attachment:211ca865-c49b-4500-9d22-3819524a9e81.png)"
   ]
  },
  {
   "cell_type": "markdown",
   "metadata": {
    "editable": true,
    "slideshow": {
     "slide_type": "subslide"
    },
    "tags": []
   },
   "source": [
    "## Implementacje \n",
    "\n",
    "* algorytm dynamiczny - do porównywania pojedynczych łańcuchów znaków\n",
    "* algorytm korekty tekstu Norviga - odwrócenie problemu\n",
    "  https://norvig.com/spell-correct.html\n",
    "* Levenshtein automaton - znacznie szybszy niż algorytm Norviga, zaimplementowany np. w ElasticSearch"
   ]
  },
  {
   "cell_type": "markdown",
   "metadata": {
    "slideshow": {
     "slide_type": "subslide"
    }
   },
   "source": [
    "## Przykładowe zastosowania miary edycyjnej\n",
    "\n",
    "* wyszukiwanie przybliżone (fuzzy search - did you mean?)\n",
    "* automatyczna korekta tekstu\n",
    "* interpretacja komend głosowych"
   ]
  },
  {
   "cell_type": "markdown",
   "metadata": {
    "slideshow": {
     "slide_type": "subslide"
    }
   },
   "source": [
    "## Narzędzia\n",
    "\n",
    "* Fuzzywuzzy - https://github.com/seatgeek/fuzzywuzzy\n",
    "* ElasticSearch - fuzzy match \n",
    "  https://www.elastic.co/guide/en/elasticsearch/reference/current/query-dsl-fuzzy-query.html\n",
    "* Algorytm Norviga - https://norvig.com/spell-correct.html\n",
    "* Language tool - https://www.languagetool.org/\n",
    "* biblioteka regex - https://pypi.org/project/regex/"
   ]
  },
  {
   "cell_type": "code",
   "execution_count": 5,
   "metadata": {
    "ExecuteTime": {
     "end_time": "2023-10-10T15:29:42.166204Z",
     "start_time": "2023-10-10T15:29:42.160799Z"
    },
    "slideshow": {
     "slide_type": "subslide"
    }
   },
   "outputs": [],
   "source": [
    "import re\n",
    "\n",
    "pattern = re.compile('wirus')\n",
    "texts = [\"wrius\", \"wirrus\", \"wirs\"]\n",
    "for text in texts:\n",
    "    match_data = pattern.search(text)\n",
    "    if(match_data):\n",
    "        print(match_data[0])"
   ]
  },
  {
   "cell_type": "code",
   "execution_count": 6,
   "metadata": {
    "ExecuteTime": {
     "end_time": "2023-10-10T15:30:27.444832Z",
     "start_time": "2023-10-10T15:30:27.410150Z"
    },
    "slideshow": {
     "slide_type": "subslide"
    }
   },
   "outputs": [
    {
     "name": "stdout",
     "output_type": "stream",
     "text": [
      "virus\n",
      "wirrus\n",
      "wirusa\n"
     ]
    }
   ],
   "source": [
    "import regex\n",
    "\n",
    "pattern = regex.compile(r'(wirus\\b){e<=1}')\n",
    "texts = [\"virus\", \"wirrus\", \"wirusa\"]\n",
    "for text in texts:\n",
    "    match_data = pattern.search(text)\n",
    "    if(match_data):\n",
    "        print(match_data[0])"
   ]
  },
  {
   "cell_type": "markdown",
   "metadata": {
    "slideshow": {
     "slide_type": "slide"
    }
   },
   "source": [
    "# Wyrażenia regularne"
   ]
  },
  {
   "cell_type": "markdown",
   "metadata": {
    "slideshow": {
     "slide_type": "fragment"
    }
   },
   "source": [
    "* pozwalają na konstrukcję wzorców dopasowujących się do tekstu\n",
    "* pozwalają na uwzględnienie wariantów w pisowni\n",
    "* w ograniczonym stopniu pozwalają na uwzględnienie błędów w pisowni\n",
    "* w ograniczonym stopniu pozwalają na uwzględnienie fleksji\n",
    "* wiele realnie działających systemów przetwarzających tekst opiera się w dużej mierze na wyrażeniach regularnych\n",
    "* przygotowywanie danych np. do treningu w zasadzie zawsze wymaga użycia wyrażeń regularnych"
   ]
  },
  {
   "cell_type": "markdown",
   "metadata": {
    "slideshow": {
     "slide_type": "subslide"
    }
   },
   "source": [
    "# Jakie metaznaki występują w wyrażeniach regularnych?"
   ]
  },
  {
   "cell_type": "code",
   "execution_count": 1,
   "metadata": {
    "ExecuteTime": {
     "end_time": "2023-10-10T15:36:31.485041Z",
     "start_time": "2023-10-10T15:36:31.480314Z"
    },
    "execution": {
     "iopub.execute_input": "2024-10-08T15:56:59.567357Z",
     "iopub.status.busy": "2024-10-08T15:56:59.567047Z",
     "iopub.status.idle": "2024-10-08T15:56:59.573510Z",
     "shell.execute_reply": "2024-10-08T15:56:59.573052Z",
     "shell.execute_reply.started": "2024-10-08T15:56:59.567333Z"
    },
    "slideshow": {
     "slide_type": "fragment"
    }
   },
   "outputs": [
    {
     "name": "stdout",
     "output_type": "stream",
     "text": [
      "Wyrażenie zostało dopasowane\n"
     ]
    }
   ],
   "source": [
    "import re\n",
    "\n",
    "pattern = re.compile('łódź', re.I)\n",
    "text = \"Łódź to stolica województwa łódzkiego\"\n",
    "if(pattern.search(text)):\n",
    "    print(\"Wyrażenie zostało dopasowane\")"
   ]
  },
  {
   "cell_type": "code",
   "execution_count": 2,
   "metadata": {
    "ExecuteTime": {
     "end_time": "2023-10-10T15:37:16.620804Z",
     "start_time": "2023-10-10T15:37:16.614761Z"
    },
    "execution": {
     "iopub.execute_input": "2024-10-08T15:57:01.409010Z",
     "iopub.status.busy": "2024-10-08T15:57:01.408791Z",
     "iopub.status.idle": "2024-10-08T15:57:01.414767Z",
     "shell.execute_reply": "2024-10-08T15:57:01.414355Z",
     "shell.execute_reply.started": "2024-10-08T15:57:01.408989Z"
    },
    "slideshow": {
     "slide_type": "fragment"
    }
   },
   "outputs": [
    {
     "data": {
      "text/plain": [
       "['Andrychów', 'Poznań', 'Łódź']"
      ]
     },
     "execution_count": 2,
     "metadata": {},
     "output_type": "execute_result"
    }
   ],
   "source": [
    "tab = [\"Poznań\", \"Łódź\", \"Andrychów\"]\n",
    "sorted(tab)"
   ]
  },
  {
   "cell_type": "code",
   "execution_count": 3,
   "metadata": {
    "ExecuteTime": {
     "end_time": "2023-10-10T15:39:28.398509Z",
     "start_time": "2023-10-10T15:39:28.392665Z"
    },
    "execution": {
     "iopub.execute_input": "2024-10-08T15:57:15.862737Z",
     "iopub.status.busy": "2024-10-08T15:57:15.861717Z",
     "iopub.status.idle": "2024-10-08T15:57:15.872413Z",
     "shell.execute_reply": "2024-10-08T15:57:15.871498Z",
     "shell.execute_reply.started": "2024-10-08T15:57:15.862660Z"
    },
    "slideshow": {
     "slide_type": "subslide"
    }
   },
   "outputs": [
    {
     "name": "stdout",
     "output_type": "stream",
     "text": [
      "wirusowe\n",
      "wirusy\n",
      "wirusów\n"
     ]
    }
   ],
   "source": [
    "pattern = re.compile(r'\\bwirus(\\w*)',)\n",
    "texts = [\"a _wirusów\", \"wirusowe zapalenie wątroby\", \"wirusy są groźne\", \"koronawirus\", \"1wirus\", \"wirusów\"]\n",
    "for text in texts:\n",
    "    match_data = pattern.search(text)\n",
    "    if(match_data):\n",
    "        print(match_data[0])"
   ]
  },
  {
   "cell_type": "markdown",
   "metadata": {
    "editable": true,
    "slideshow": {
     "slide_type": "subslide"
    },
    "tags": []
   },
   "source": [
    "# Wyrażenia regularne \n",
    "\n",
    "* Podstawowe metaznaki:\n",
    "  * `*` – (kwantyfikator) zero lub więcej wystąpień\n",
    "  * `()` – grupowanie wyrażeń dla kwantyfikatorów, alternatywy, dopasowań wstecznych\n",
    "  * `|` – alternatywa – jedna opcja spośród wielu\n",
    "* Kwantyfikatory (określają ile razy ma być dopasowane wyrażenie, które stoi przed nimi):\n",
    "  * `*` – zero lub więcej wystąpień (to samo co wyżej)\n",
    "  * `+` – jedno lub więcej wystąpień\n",
    "  * `?` – zero lub jedno wystąpienie"
   ]
  },
  {
   "cell_type": "markdown",
   "metadata": {
    "editable": true,
    "slideshow": {
     "slide_type": "subslide"
    },
    "tags": []
   },
   "source": [
    "* Kotwice (dopasowują się do pozycji w łańcuchu, a nie konkretnych znaków):\n",
    "  * `^` – początek linii\n",
    "  * `$` – koniec linii\n",
    "  * `\\b` – granica słowa\n",
    "  * `\\<` – początek słowa\n",
    "  * `\\>` – koniec słowa\n",
    "* Klasy znaków:\n",
    "  * `[]` – jeden ze znaków znajdujących się wewnątrz nawiasów\n",
    "  * `^` – pojawiając się na początku w kontekście klasy znaków powoduje jej zanegowanie\n",
    "  * `a-z` – zakres znaków (tylko wew. nawiasów kwadratowych)\n",
    "  * `\\w` – znak będący literą, cyfrą lub podkreśleniem\n",
    "  * `\\s` – znak będący białą spacją (spacja, tabulator, koniec linii, etc.)\n",
    "  * `\\d` – cyfra\n",
    "  * `.` – dowolny znak (zazwyczaj – niebędący końcem linii)"
   ]
  },
  {
   "cell_type": "markdown",
   "metadata": {
    "slideshow": {
     "slide_type": "subslide"
    }
   },
   "source": [
    "https://regex101.com/r/pTEWml/2"
   ]
  },
  {
   "cell_type": "markdown",
   "metadata": {
    "editable": true,
    "slideshow": {
     "slide_type": "subslide"
    },
    "tags": []
   },
   "source": [
    "## Zaawansowane własności wyrażeń regularnych\n",
    "\n",
    "* Wsparcie dla Unicode:\n",
    "  * https://www.regular-expressions.info/unicode.html\n",
    "  * `\\p{L}` - litery z dowolnego alfabetu (np. a, ą, ć, ü, カ)\n",
    "  * `\\p{Ll}` - mała litera z dowolnego alfabetu\n",
    "  * `\\p{Lu}` - wielka litera z dowolnego alfabetu\n",
    "  * `\\X` - dowonly znak Unicode (jak `.` ale automatycznie uwzględnia znaki przejścia do nowej linii)\n",
    "* *positive lookahead* \n",
    "  * wyrażenie `(\\w+)(?= ma kota)` dopasuje się do łańcucha Ala ma kota, ale dopasowanie obejmie tylko słowo Ala.\n",
    "* *negative lookbehind* \n",
    "  * wyrażenie `(?<!starych )(zł)` dopasuje się do łańcucha 10 złotych ale nie do łańcucha 10 starych złotych."
   ]
  },
  {
   "cell_type": "code",
   "execution_count": 10,
   "metadata": {
    "ExecuteTime": {
     "end_time": "2023-10-10T15:50:19.081303Z",
     "start_time": "2023-10-10T15:50:19.074952Z"
    },
    "editable": true,
    "slideshow": {
     "slide_type": "subslide"
    },
    "tags": []
   },
   "outputs": [
    {
     "name": "stdout",
     "output_type": "stream",
     "text": [
      "['aa']\n",
      "['a', 'a']\n"
     ]
    }
   ],
   "source": [
    "import re\n",
    "\n",
    "text = \"aaa\"\n",
    "print(re.findall(\"aa\", text))\n",
    "print(re.findall(\"a(?=a)\", text))"
   ]
  },
  {
   "cell_type": "code",
   "execution_count": 11,
   "metadata": {
    "ExecuteTime": {
     "end_time": "2023-10-10T15:53:37.992637Z",
     "start_time": "2023-10-10T15:53:37.987888Z"
    },
    "editable": true,
    "slideshow": {
     "slide_type": "subslide"
    },
    "tags": []
   },
   "outputs": [
    {
     "name": "stdout",
     "output_type": "stream",
     "text": [
      "[]\n",
      "['York']\n"
     ]
    }
   ],
   "source": [
    "text1 = \"New York\"\n",
    "text2 = \"Yorkshire\"\n",
    "\n",
    "print(re.findall(\"(?<!New )York\", text1))\n",
    "print(re.findall(\"(?<!New )York\", text2))"
   ]
  },
  {
   "cell_type": "markdown",
   "metadata": {
    "editable": true,
    "slideshow": {
     "slide_type": "subslide"
    },
    "tags": []
   },
   "source": [
    "## Narzędzia\n",
    "\n",
    "* Python\n",
    "  * `re` - standardowa biblioteka - https://docs.python.org/3/library/re.html\n",
    "  * `pip install regex` - biblioteka instalowana osobno - https://pypi.org/project/regex/\n",
    "* Java, Kotlin (JVM)\n",
    "  * java.util.regex.Pattern - https://docs.oracle.com/javase/7/docs/api/java/util/regex/Pattern.html\n",
    "* Ruby \n",
    "  * literał `/a.*/` - https://ruby-doc.org/core-2.5.1/Regexp.html\n",
    "* Javascript, Kotlin (JS) \n",
    "  * literał `/a.*/` - https://developer.mozilla.org/en-US/docs/Web/JavaScript/Guide/Regular_Expressions"
   ]
  },
  {
   "cell_type": "markdown",
   "metadata": {
    "slideshow": {
     "slide_type": "slide"
    }
   },
   "source": [
    "# Literatura\n",
    "\n",
    "[Speech and Language Processing. Daniel Jurafsky & James H. Martin, chapter 2](https://web.stanford.edu/~jurafsky/slp3/2.pdf)"
   ]
  }
 ],
 "metadata": {
  "celltoolbar": "Slideshow",
  "kernelspec": {
   "display_name": "Python 3 (ipykernel)",
   "language": "python",
   "name": "python3"
  },
  "language_info": {
   "codemirror_mode": {
    "name": "ipython",
    "version": 3
   },
   "file_extension": ".py",
   "mimetype": "text/x-python",
   "name": "python",
   "nbconvert_exporter": "python",
   "pygments_lexer": "ipython3",
   "version": "3.11.5"
  },
  "toc": {
   "base_numbering": 1,
   "nav_menu": {},
   "number_sections": false,
   "sideBar": false,
   "skip_h1_title": false,
   "title_cell": "Table of Contents",
   "title_sidebar": "Contents",
   "toc_cell": false,
   "toc_position": {},
   "toc_section_display": false,
   "toc_window_display": true
  }
 },
 "nbformat": 4,
 "nbformat_minor": 4
}
