{
 "cells": [
  {
   "cell_type": "markdown",
   "metadata": {
    "slideshow": {
     "slide_type": "slide"
    }
   },
   "source": [
    "# Wprowadzenie do zastosowania sieci neuronowych w PJN\n",
    "\n",
    "<br/>\n",
    "\n",
    "## dr inż. Aleksander Smywiński-Pohl\n",
    "\n",
    "## apohllo@agh.edu.pl\n",
    "\n",
    "## http://apohllo.pl/dydaktyka/nlp"
   ]
  },
  {
   "cell_type": "markdown",
   "metadata": {
    "slideshow": {
     "slide_type": "slide"
    }
   },
   "source": [
    "# Plan\n",
    "\n",
    "* **rodzaje klasyfikacji**\n",
    "* miary poprawności klasyfikacji\n",
    "* klasyfikacja w oparciu o regułę Bayesa\n",
    "* klasyfikacja w oparciu o osadzenia wyrazów\n",
    "* regresja tekstowa"
   ]
  },
  {
   "cell_type": "markdown",
   "metadata": {
    "slideshow": {
     "slide_type": "subslide"
    }
   },
   "source": [
    "## Segmentacja obrazu\n",
    "\n",
    "<center><img src=\"img/segmentation.jpeg\"/></center>"
   ]
  },
  {
   "cell_type": "markdown",
   "metadata": {
    "slideshow": {
     "slide_type": "subslide"
    }
   },
   "source": [
    "## Klasyfikacja tekstu\n",
    "\n",
    "<center><img src=\"img/sentiment-prediction.png\"/></center>"
   ]
  },
  {
   "cell_type": "markdown",
   "metadata": {
    "slideshow": {
     "slide_type": "subslide"
    }
   },
   "source": [
    "## Klasyfikacja binarna\n",
    "\n",
    "&nbsp;\n",
    "\n",
    "<center><img src=\"img/black-white.jpg\"/></center>"
   ]
  },
  {
   "cell_type": "markdown",
   "metadata": {
    "slideshow": {
     "slide_type": "notes"
    }
   },
   "source": [
    "* dwie klasy, np. 0 i 1\n",
    "* obiekt należy zawsze albo do 0 albo do 1\n",
    "* przykład: spam"
   ]
  },
  {
   "cell_type": "markdown",
   "metadata": {
    "slideshow": {
     "slide_type": "subslide"
    }
   },
   "source": [
    "## Przykład klasyfikacji binarnej tekstu\n",
    "\n",
    "### Cyberbullying Detection (Klej benchmark)\n",
    "\n",
    "<span style=\"color: red\">Sekta, cha, cha, cha, obudź się z hipnozy, jesteś bolszewikiem</span>\n",
    "\n",
    "<span style=\"color: green\">Jak powiem, że pierwsze słysze, to będzie kompromitacja czy nie? 😄</span>\n",
    "\n",
    "https://github.com/ptaszynski/cyberbullying-Polish"
   ]
  },
  {
   "cell_type": "markdown",
   "metadata": {
    "slideshow": {
     "slide_type": "notes"
    }
   },
   "source": [
    "Należy wziąć pod uwagę fakt, że w wielu przypadkach klasy nie będą równoliczne, co istotnie w pływa na proces \n",
    "uczenia klasyfikatorów."
   ]
  },
  {
   "cell_type": "markdown",
   "metadata": {
    "slideshow": {
     "slide_type": "subslide"
    }
   },
   "source": [
    "## Klasyfikacja wieloklasowa\n",
    "\n",
    "\n",
    "&nbsp;\n",
    "\n",
    "<center><img src=\"img/animal-groups.png\" width=\"900px\"/></center>"
   ]
  },
  {
   "cell_type": "markdown",
   "metadata": {
    "slideshow": {
     "slide_type": "notes"
    }
   },
   "source": [
    "* wiele klas, np. ssaki, płazy, gady, ptaki, ryby, bezkręgowce (w rzeczywistości podział ten jest dużo bardziej skomplikowany)\n",
    "* obiekt należy zawsze tylko do 1 klasy"
   ]
  },
  {
   "cell_type": "markdown",
   "metadata": {
    "slideshow": {
     "slide_type": "subslide"
    }
   },
   "source": [
    "## Dziobak\n",
    "\n",
    "<center><img src=\"img/dziobak.jpeg\"/></center>"
   ]
  },
  {
   "cell_type": "markdown",
   "metadata": {
    "slideshow": {
     "slide_type": "subslide"
    }
   },
   "source": [
    "## Przykład klasyfikacji wieloklasowej\n",
    "\n",
    "### Zbiór zdań anotowanych ze względu na relację wynikania\n",
    "\n",
    "\n",
    "`s1`: Zawodnik na boisku ze skórzaną rękawicą robi wykrok w przód na piasku.\t\n",
    "\n",
    "`s2`: Wykrok w przód jest robiony na piasku na boisku przez zawodnika ze skórzaną rękawicą.\n",
    "\n",
    "`s1` względem `s2` $\\rightarrow$ <span style=\"color: green\">entailment</span>\n",
    "\n",
    "\n"
   ]
  },
  {
   "cell_type": "markdown",
   "metadata": {
    "slideshow": {
     "slide_type": "fragment"
    }
   },
   "source": [
    "`s1`: Zawodnik na boisku ze skórzaną rękawicą robi wykrok w przód na piasku.\n",
    "\n",
    "`s2`: Mężczyzna w sportowym stroju stoi na ugiętej nodze na boisku, drugą nogę wystawiając do tyłu.\n",
    "\n",
    "`s1` względem `s2` $\\rightarrow$ <span style=\"color: blue\">neutral</span>"
   ]
  },
  {
   "cell_type": "markdown",
   "metadata": {
    "slideshow": {
     "slide_type": "fragment"
    }
   },
   "source": [
    "`s1`: Żaden człowiek nie biegnie na boisku w kierunku lecącej piłki.\n",
    "\n",
    "`s2`: Człowiek w sportowym stroju i kasku biegnie na boisku w kierunku lecącej piłki.\n",
    "\n",
    "`s1` względem `s2` $\\rightarrow$ <span style=\"color: red\">contradiction</span>\n",
    "\n",
    "http://zil.ipipan.waw.pl/Scwad/CDSCorpus"
   ]
  },
  {
   "cell_type": "markdown",
   "metadata": {
    "slideshow": {
     "slide_type": "subslide"
    }
   },
   "source": [
    "## Klasyfikacja wieloetykietowa\n",
    "\n",
    "&nbsp;\n",
    "\n",
    "<center><img src=\"img/ticket-labels.png\"/></center>"
   ]
  },
  {
   "cell_type": "markdown",
   "metadata": {
    "slideshow": {
     "slide_type": "subslide"
    }
   },
   "source": [
    "## Przykład klasyfikacji wieloetykietowej tekstu\n",
    "\n",
    "### Kategorie DBpedii\n",
    "\n",
    "*Liu Chao-shiuan (Chinese: 劉兆玄; pinyin: Liú Zhàoxuán; born May 10, 1943) is a Taiwanese educator and politician. He is a former president of the National Tsing Hua University (1987–1993) and Soochow University (2004–2008) and a former Premier of the Republic of China (2008–2009).*\n",
    "\n",
    "\n",
    "**Klasy**: Agent, Politician, PrimeMinister\n",
    "\n",
    "Źródło: https://www.kaggle.com/danofer/dbpedia-classes"
   ]
  },
  {
   "cell_type": "markdown",
   "metadata": {
    "slideshow": {
     "slide_type": "notes"
    }
   },
   "source": [
    "* dwie lub więcej klas\n",
    "* obiekt może należeć do wielu klas\n",
    "* przykład gatunki filmowe: film science-fiction może być jednocześnie thrillerem (*vide* Obcy, 8 pasażer Nostromo)"
   ]
  },
  {
   "cell_type": "markdown",
   "metadata": {
    "slideshow": {
     "slide_type": "slide"
    }
   },
   "source": [
    "# Plan\n",
    "\n",
    "* rodzaje klasyfikacji\n",
    "* **miary poprawności klasyfikacji**\n",
    "* klasyfikacja w oparciu o regułę Bayesa\n",
    "* klasyfikacja w oparciu o osadzenia wyrazów\n",
    "* regresja tekstowa"
   ]
  },
  {
   "cell_type": "markdown",
   "metadata": {
    "slideshow": {
     "slide_type": "subslide"
    }
   },
   "source": [
    "# Miary poprawności klasyfikacji binarnej\n",
    "\n",
    "&nbsp;\n",
    "\n",
    "<center><img src=\"img/tp-fp.png\" width=\"500px\"/></center>"
   ]
  },
  {
   "cell_type": "markdown",
   "metadata": {
    "slideshow": {
     "slide_type": "fragment"
    }
   },
   "source": [
    "* dokładność (accurracy) \n",
    "$$\n",
    "Acc = \\frac{TP + TN}{TP + TN + FP + FN}\n",
    "$$"
   ]
  },
  {
   "cell_type": "markdown",
   "metadata": {
    "slideshow": {
     "slide_type": "fragment"
    }
   },
   "source": [
    "* czułość (recall)  \n",
    "$$Rc = \\frac{TP}{TP + FN}$$"
   ]
  },
  {
   "cell_type": "markdown",
   "metadata": {
    "slideshow": {
     "slide_type": "fragment"
    }
   },
   "source": [
    "* wartość predykcyjna dodatnia (precision) $$Pr = \\frac{TP}{TP + FP}$$"
   ]
  },
  {
   "cell_type": "markdown",
   "metadata": {
    "slideshow": {
     "slide_type": "fragment"
    }
   },
   "source": [
    "* miara F1 $$\\frac{2 * Rc * Pr}{Rc + Pr}$$"
   ]
  },
  {
   "cell_type": "markdown",
   "metadata": {
    "slideshow": {
     "slide_type": "fragment"
    }
   },
   "source": [
    "* współczynnik korelacji Matthews'a $$MCC = \\frac{TP * TN - FP * FN}{\\sqrt{(TP+FP)(TP+FN)(TN+FP)(TN+FN)}}$$"
   ]
  },
  {
   "cell_type": "markdown",
   "metadata": {
    "slideshow": {
     "slide_type": "subslide"
    }
   },
   "source": [
    "# Miary poprawności klasyfikacji wieloklasowej i wieloetykietowej\n",
    "\n",
    "\n",
    "\n",
    "&nbsp;\n",
    "\n",
    "<center><img src=\"img/multi-tp.png\" width=\"500px\"/></center>"
   ]
  },
  {
   "cell_type": "markdown",
   "metadata": {
    "slideshow": {
     "slide_type": "fragment"
    }
   },
   "source": [
    "* macro $$Pr = \\frac{\\sum_{c \\in C} Pr_{c}}{|C|}$$"
   ]
  },
  {
   "cell_type": "markdown",
   "metadata": {
    "slideshow": {
     "slide_type": "fragment"
    }
   },
   "source": [
    "* macro $$Rc = \\frac{\\sum_{c \\in C} Rc_{c}}{|C|}$$"
   ]
  },
  {
   "cell_type": "markdown",
   "metadata": {
    "slideshow": {
     "slide_type": "fragment"
    }
   },
   "source": [
    "* weighted $$Pr = \\frac{\\sum_{c \\in C} |c| * Pr_{c}}{\\sum |c|}$$"
   ]
  },
  {
   "cell_type": "markdown",
   "metadata": {
    "slideshow": {
     "slide_type": "fragment"
    }
   },
   "source": [
    "* weighted $$Rc = \\frac{\\sum_{c \\in C} |c| * Rc_{c}}{\\sum |c|}$$"
   ]
  },
  {
   "cell_type": "markdown",
   "metadata": {
    "slideshow": {
     "slide_type": "fragment"
    }
   },
   "source": [
    "* micro-F1 = Acc"
   ]
  },
  {
   "cell_type": "markdown",
   "metadata": {
    "slideshow": {
     "slide_type": "slide"
    }
   },
   "source": [
    "# Plan\n",
    "\n",
    "* rodzaje klasyfikacji\n",
    "* miary poprawności klasyfikacji\n",
    "* **klasyfikacja w oparciu o regułę Bayesa**\n",
    "* klasyfikacja w oparciu o osadzenia wyrazów\n",
    "* regresja tekstowa"
   ]
  },
  {
   "cell_type": "markdown",
   "metadata": {
    "slideshow": {
     "slide_type": "subslide"
    }
   },
   "source": [
    "# Algorytm klasyfikacji oparty o regułę Bayesa\n",
    "\n",
    "Reguła Bayesa:\n",
    "\n",
    "$$P(A\\land B) = P(A|B) * P(B) = P(B|A) * P(A)$$\n",
    "\n",
    "z czego:"
   ]
  },
  {
   "cell_type": "markdown",
   "metadata": {
    "slideshow": {
     "slide_type": "fragment"
    }
   },
   "source": [
    "<center><img src=\"img/bayes.jpg\" width=\"800px\" /></center>"
   ]
  },
  {
   "cell_type": "markdown",
   "metadata": {
    "slideshow": {
     "slide_type": "subslide"
    }
   },
   "source": [
    "## Reguła Bayesa\n",
    "\n",
    "$$P(A|B) = \\frac{P(B|A) * P(A)}{P(B)}$$"
   ]
  },
  {
   "cell_type": "markdown",
   "metadata": {
    "slideshow": {
     "slide_type": "fragment"
    }
   },
   "source": [
    "* $A$ - Dokument jest spamem $S$\n",
    "* $B$ - Dokument zawiera wyraz milion $M$"
   ]
  },
  {
   "cell_type": "markdown",
   "metadata": {
    "slideshow": {
     "slide_type": "fragment"
    }
   },
   "source": [
    "$$P(S|M) = \\frac{P(M|S)*P(S)}{P(M)}$$"
   ]
  },
  {
   "cell_type": "markdown",
   "metadata": {
    "slideshow": {
     "slide_type": "fragment"
    }
   },
   "source": [
    "$$P(S|M) \\propto P(M|S)*P(S)$$\n",
    "\n",
    "$$P(S|\\lnot M) \\propto P(\\lnot M|S)*P(S)$$"
   ]
  },
  {
   "cell_type": "markdown",
   "metadata": {
    "slideshow": {
     "slide_type": "fragment"
    }
   },
   "source": [
    "$$P(M|S) \\cong \\frac{c(M \\land S)}{c(S)}$$"
   ]
  },
  {
   "cell_type": "markdown",
   "metadata": {
    "slideshow": {
     "slide_type": "subslide"
    }
   },
   "source": [
    "$D$ - dokument zawierający słowa $w_i \\in D$.\n",
    "\n",
    "$$P(S|D) \\cong \\Pi_{w_i \\in D} P(S|w_i) \\propto P(S) * \\Pi_{w_i \\in D} P(w_i|S)$$"
   ]
  },
  {
   "cell_type": "markdown",
   "metadata": {
    "slideshow": {
     "slide_type": "fragment"
    }
   },
   "source": [
    "$$log P(S|D) \\propto logP(S) + \\sum_{w_i \\in D} logP(w_i|S)$$"
   ]
  },
  {
   "cell_type": "markdown",
   "metadata": {
    "ExecuteTime": {
     "end_time": "2020-12-10T09:39:11.381732Z",
     "start_time": "2020-12-10T09:39:11.378211Z"
    },
    "slideshow": {
     "slide_type": "notes"
    }
   },
   "source": [
    "Przydałoby się tutaj również pokazać word embeddingi - to się później przyda przy klasyfikacji tokenów!"
   ]
  },
  {
   "cell_type": "markdown",
   "metadata": {
    "slideshow": {
     "slide_type": "slide"
    }
   },
   "source": [
    "# Plan\n",
    "\n",
    "* rodzaje klasyfikacji\n",
    "* miary poprawności klasyfikacji\n",
    "* klasyfikacja w oparciu o regułę Bayesa\n",
    "* **klasyfikacja w oparciu o osadzenia wyrazów**\n",
    "* regresja tekstowa"
   ]
  },
  {
   "cell_type": "markdown",
   "metadata": {
    "slideshow": {
     "slide_type": "subslide"
    }
   },
   "source": [
    "# 1-hot encoding\n",
    "\n",
    "| Wyraz | 0 | 1 | 2 | 3 | 4 | 5 | 6 | 7 | 8 | 9 | \n",
    "|-------|---|---|---|---|---|---|---|---|---|---|\n",
    "| kot   | **1** | 0 | 0 | 0 | 0 | 0 | 0 | 0 | 0 | 0 |\n",
    "| pies  | 0 | **1** | 0 | 0 | 0 | 0 | 0 | 0 | 0 | 0 |\n",
    "| szedł | 0 | 0 | **1** | 0 | 0 | 0 | 0 | 0 | 0 | 0 |\n",
    "| koty  | 0 | 0 | 0 | **1** | 0 | 0 | 0 | 0 | 0 | 0 |\n",
    "| Kot   | 0 | 0 | 0 | 0 | **1** | 0 | 0 | 0 | 0 | 0 |\n",
    "| szli  | 0 | 0 | 0 | 0 | 0 | **1** | 0 | 0 | 0 | 0 |\n",
    "| biegli| 0 | 0 | 0 | 0 | 0 | 0 | **1** | 0 | 0 | 0 |\n",
    "| KOT   | 0 | 0 | 0 | 0 | 0 | 0 | 0 | **1** | 0 | 0 |\n",
    "| żółty | 0 | 0 | 0 | 0 | 0 | 0 | 0 | 0 | **1** | 0 |\n",
    "| lub   | 0 | 0 | 0 | 0 | 0 | 0 | 0 | 0 | 0 | **1** |\n",
    "\n",
    "$d(kot, pies) == d(kot, szedł) == d(kot, Kot) == d(kot, koty)$"
   ]
  },
  {
   "cell_type": "markdown",
   "metadata": {
    "ExecuteTime": {
     "end_time": "2021-12-06T16:33:28.276695Z",
     "start_time": "2021-12-06T16:33:28.269262Z"
    },
    "slideshow": {
     "slide_type": "notes"
    }
   },
   "source": [
    "Problem polega na tym, że przy klasyfikacji każda cecha ma taką samą odległość od każdej innej cechy.\n",
    "Dzięki temu można ograniczyć niektóre problemy."
   ]
  },
  {
   "cell_type": "markdown",
   "metadata": {
    "slideshow": {
     "slide_type": "subslide"
    }
   },
   "source": [
    "# Pre-processing\n",
    "\n",
    "* zamiana na małe litery\n",
    "* usuwanie wyrazów na stop-liście\n",
    "* stemming/lematyzacja\n",
    "* wykrywanie jednostek nazewniczych\n",
    "* wykorzystywanie słownika semantycznego, np. WordNetu"
   ]
  },
  {
   "cell_type": "markdown",
   "metadata": {
    "slideshow": {
     "slide_type": "fragment"
    }
   },
   "source": [
    "$ \\rightarrow d(kot, KOT) == d(kot, koty) == d(kot,kot) < d(kot,pies)$"
   ]
  },
  {
   "cell_type": "markdown",
   "metadata": {
    "ExecuteTime": {
     "end_time": "2021-12-06T16:37:00.635695Z",
     "start_time": "2021-12-06T16:37:00.631487Z"
    },
    "slideshow": {
     "slide_type": "fragment"
    }
   },
   "source": [
    "$ \\rightarrow d(kot, pies) < d(kot,żółty)$"
   ]
  },
  {
   "cell_type": "markdown",
   "metadata": {
    "slideshow": {
     "slide_type": "subslide"
    }
   },
   "source": [
    "# Osadzenia wyrazów\n",
    "\n",
    "&nbsp;\n",
    "\n",
    "<center><img src=\"img/embedding.png\"></center>\n",
    "\n",
    "<tiny>https://medium.com/mlearning-ai/word-embeddings-wordpiece-and-language-agnostic-bert-labse-98c7626878c7</tiny>"
   ]
  },
  {
   "cell_type": "markdown",
   "metadata": {
    "slideshow": {
     "slide_type": "fragment"
    }
   },
   "source": [
    "http://epsilon-it.utu.fi/wv_demo/"
   ]
  },
  {
   "cell_type": "markdown",
   "metadata": {
    "ExecuteTime": {
     "end_time": "2021-12-06T16:40:02.839107Z",
     "start_time": "2021-12-06T16:40:02.836023Z"
    },
    "slideshow": {
     "slide_type": "notes"
    }
   },
   "source": [
    "Osadzenia rozwiązują ten problem dzięki przekształceniu przestrzeni wyrazów."
   ]
  },
  {
   "cell_type": "markdown",
   "metadata": {
    "slideshow": {
     "slide_type": "subslide"
    }
   },
   "source": [
    "# Sieć do towrzenia embeddingów\n",
    "\n",
    "&nbsp;\n",
    "\n",
    "<center><img src=\"img/embedding.jpg\"></center>\n",
    "\n",
    "<tiny>https://favpng.com/png_view/bag-of-words-word2vec-word-embedding-natural-language-processing-glove-artificial-neural-network-png/PgxJ2ivb</tiny>"
   ]
  },
  {
   "cell_type": "markdown",
   "metadata": {
    "slideshow": {
     "slide_type": "subslide"
    }
   },
   "source": [
    "# Sposoby treningu sieci\n",
    "\n",
    "&nbsp;\n",
    "\n",
    "<center><img src=\"img/cbow.jpg\"></center>\n",
    "\n",
    "<tiny>https://www.researchgate.net/publication/281812760_TwoToo_Simple_Adaptations_of_Word2Vec_for_Syntax_Problems/figures?lo=1</tiny>"
   ]
  },
  {
   "cell_type": "markdown",
   "metadata": {
    "slideshow": {
     "slide_type": "fragment"
    }
   },
   "source": [
    "$ \\rightarrow d(kot, koty) \\sim d(pies,psy)$"
   ]
  },
  {
   "cell_type": "markdown",
   "metadata": {
    "slideshow": {
     "slide_type": "fragment"
    }
   },
   "source": [
    "$ \\rightarrow d(kot, koty) < d(kot,pies) < d(kot, żółty) $"
   ]
  },
  {
   "attachments": {
    "image.png": {
     "image/png": "[encoded data removed]"
    }
   },
   "cell_type": "markdown",
   "metadata": {
    "slideshow": {
     "slide_type": "subslide"
    }
   },
   "source": [
    "## CNN + embeddings\n",
    "\n",
    "![image.png](attachment:image.png)"
   ]
  },
  {
   "cell_type": "markdown",
   "metadata": {
    "slideshow": {
     "slide_type": "slide"
    }
   },
   "source": [
    "# Plan\n",
    "\n",
    "* rodzaje klasyfikacji\n",
    "* miary poprawności klasyfikacji\n",
    "* klasyfikacja w oparciu o regułę Bayesa\n",
    "* klasyfikacja w oparciu o osadzenia wyrazów\n",
    "* **regresja tekstowa**"
   ]
  },
  {
   "cell_type": "markdown",
   "metadata": {
    "slideshow": {
     "slide_type": "subslide"
    }
   },
   "source": [
    "# Regresja\n",
    "\n",
    "&nbsp;\n",
    "\n",
    "<center><img src=\"img/linear_regression.svg.png\" width=\"500px\"/></center>"
   ]
  },
  {
   "cell_type": "markdown",
   "metadata": {
    "slideshow": {
     "slide_type": "subslide"
    }
   },
   "source": [
    "\n",
    "# Przykłady regresji tekstowej\n",
    "\n",
    "\n",
    "Według mnie statyw na początku był bardzo fajny miał dużo możliwości, ale po drugim dniu chciałem zrobić dobre ujęcie lecz noga od statywu odłamała się a po tygodniu, w podróży odłamała się kolejna. Pózniej okazało się ,że statyw nie jest taki wytrzymały i w konsekwencji straciłem trzecią nogę od statywu. Niestety statyw był bardzo złej jakości. <img src=\"img/Star_rating_1_of_5.png\" width=\"100px\"/>\n",
    "\n",
    "Wykonanie przeciętne . Krajalnicy nie używamy co 10 min. w ciągu dnia więc denerwujące jest rozkładanie krajalnicy i nakładanie wózka krajalnicy bo bez wózka nie można ukroić nawet kromki chleba. Płyta regulacji grubości krojenia niestabilna co powoduje że wędlina jest krojona nierówno. Przyssawki tak mocne że zostają przyssane do blatu i trzeba je odrywać i nakładać na krajalnicę. Urządzenie niczym się nie wyróżnia. Nie polecam ale wybór należy do kupującego. <img src=\"img/Star_rating_3_of_5.png\" width=\"100px\"/>\n",
    "\n",
    "\n",
    "Brak odpowiedniej instrukcji montażu - spasowanie prawie ok - czarna ramka zasłania ok 1 mm ekranu przy idealnym spasowaniu otworów aparatu przedniego. Poza tym patent z czarną ramką jest rewelacyjny - ekran ma zaokrąglane rogi i naklejone szkło zawsze w tym miejscu odstaje i wygląda nieestetycznie -tu tego problemu nie ma bo ramka to zakrywa i wygląda to idealnie.  <img src=\"img/Star_rating_5_of_5.png\" width=\"100px\"/>\n",
    "\n",
    "https://github.com/allegro/klejbenchmark-allegroreviews"
   ]
  },
  {
   "cell_type": "markdown",
   "metadata": {
    "slideshow": {
     "slide_type": "subslide"
    }
   },
   "source": [
    "# Miary poprawności regresji"
   ]
  },
  {
   "cell_type": "markdown",
   "metadata": {
    "slideshow": {
     "slide_type": "fragment"
    }
   },
   "source": [
    "* Współczynnik korelacji Pearson'a $PCC(X,Y) = \\frac{COV(X, Y)}{\\sigma_X\\sigma_Y}$\n",
    "\n",
    "$$\n",
    "COV(X,Y) = \\frac{1}{n} \\sum_{i=1}^{n}\\left((X_i - \\bar{X})(Y_i - \\bar{Y})\\right)\n",
    "$$"
   ]
  },
  {
   "cell_type": "markdown",
   "metadata": {
    "cell_style": "center",
    "slideshow": {
     "slide_type": "fragment"
    }
   },
   "source": [
    "* Współczynnik korelacji Spearmana $SRCC = PCC(rank(X), rank(Y))$"
   ]
  },
  {
   "cell_type": "markdown",
   "metadata": {
    "slideshow": {
     "slide_type": "subslide"
    }
   },
   "source": [
    "## Inne zadania w zakresie regresji\n",
    "\n",
    "* wyszukiwanie\n",
    "* porównywanie zdań"
   ]
  },
  {
   "cell_type": "markdown",
   "metadata": {
    "slideshow": {
     "slide_type": "slide"
    }
   },
   "source": [
    "# Literatura\n",
    "\n",
    "* https://web.stanford.edu/class/cs124/lec/naivebayes.pdf\n",
    "* https://en.wikipedia.org/wiki/Evaluation_measures_(information_retrieval)#Mean_average_precision\n",
    "* [Rozdział nr 4 z SLP](https://web.stanford.edu/~jurafsky/slp3/4.pdf)"
   ]
  },
  {
   "cell_type": "markdown",
   "metadata": {
    "slideshow": {
     "slide_type": "subslide"
    }
   },
   "source": [
    "<center>\n",
    "<img src=\"img/krzeselko-drabinka.jpg\" />\n",
    "</center>\n",
    "\n",
    "https://www.meblesosnowe.eu/Krzeselko-drabinka-4026"
   ]
  }
 ],
 "metadata": {
  "celltoolbar": "Slideshow",
  "kernelspec": {
   "display_name": "Python 3 (ipykernel)",
   "language": "python",
   "name": "python3"
  },
  "language_info": {
   "codemirror_mode": {
    "name": "ipython",
    "version": 3
   },
   "file_extension": ".py",
   "mimetype": "text/x-python",
   "name": "python",
   "nbconvert_exporter": "python",
   "pygments_lexer": "ipython3",
   "version": "3.10.6"
  },
  "toc": {
   "base_numbering": 1,
   "nav_menu": {},
   "number_sections": false,
   "sideBar": true,
   "skip_h1_title": false,
   "title_cell": "Table of Contents",
   "title_sidebar": "Contents",
   "toc_cell": false,
   "toc_position": {},
   "toc_section_display": true,
   "toc_window_display": false
  }
 },
 "nbformat": 4,
 "nbformat_minor": 4
}
