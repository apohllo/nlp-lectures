{
 "cells": [
  {
   "cell_type": "markdown",
   "metadata": {
    "slideshow": {
     "slide_type": "slide"
    }
   },
   "source": [
    "# Wyszukiwanie pełnotekstowe\n",
    "\n",
    "<br/>\n",
    "\n",
    "## dr inż. Aleksander Smywiński-Pohl\n",
    "\n",
    "## apohllo@agh.edu.pl\n",
    "\n",
    "## http://apohllo.pl/dydaktyka/nlp\n",
    "\n",
    "## konsultacje: czw. 16:30-17:30"
   ]
  },
  {
   "cell_type": "markdown",
   "metadata": {
    "slideshow": {
     "slide_type": "slide"
    }
   },
   "source": [
    "# Wyszukiwania pełnotekstowe\n",
    "\n",
    "&nbsp;\n",
    "\n",
    "<center><img src=\"img/google.png\"/></center>"
   ]
  },
  {
   "cell_type": "markdown",
   "metadata": {
    "slideshow": {
     "slide_type": "subslide"
    }
   },
   "source": [
    "# Miary poprawności wyszukiwania pełnotekstowego"
   ]
  },
  {
   "cell_type": "markdown",
   "metadata": {
    "slideshow": {
     "slide_type": "fragment"
    }
   },
   "source": [
    "## Pr@n\n",
    "\n",
    "Miara wartości predykcyjnej dodatniej liczona dla $n$-pierwszych wyników"
   ]
  },
  {
   "cell_type": "markdown",
   "metadata": {
    "slideshow": {
     "slide_type": "fragment"
    }
   },
   "source": [
    "# Mean Reciprocal Rank\n",
    "\n",
    "$$\n",
    "\\textrm{MRR} = \\frac{1}{|Q|} \\sum_{i=1}^{|Q|} \\frac{1}{\\text{rank}_i}\n",
    "$$"
   ]
  },
  {
   "cell_type": "markdown",
   "metadata": {
    "slideshow": {
     "slide_type": "fragment"
    }
   },
   "source": [
    "## Mean Average Precision\n",
    "\n",
    "$$\n",
    "\\textrm{AveP} = \\frac{\\sum_{k=1}^{n}Pr@k \\cdot rel(k)}{n_{\\textrm{relevant}}}\n",
    "$$\n",
    "\n",
    "$$\n",
    "\\textrm{MAP} = \\frac{\\sum_{q=1}^{Q} \\textrm{AveP}(q)}{Q}\n",
    "$$"
   ]
  },
  {
   "cell_type": "markdown",
   "metadata": {
    "slideshow": {
     "slide_type": "notes"
    }
   },
   "source": [
    "rel(k) - czy k-ty dokument jest relewantny"
   ]
  },
  {
   "cell_type": "markdown",
   "metadata": {
    "slideshow": {
     "slide_type": "subslide"
    }
   },
   "source": [
    "## Normalized Discounted Cumulative Gain\n",
    "\n",
    "$$\n",
    "\\textrm{CG@k} = \\sum_{i=1}^{k} rel_{i}\n",
    "$$"
   ]
  },
  {
   "cell_type": "markdown",
   "metadata": {
    "ExecuteTime": {
     "end_time": "2020-12-03T09:34:44.436748Z",
     "start_time": "2020-12-03T09:34:44.429235Z"
    },
    "slideshow": {
     "slide_type": "fragment"
    }
   },
   "source": [
    "$$\n",
    "\\mathrm{DCG@k} = \\sum_{i=1}^{k} \\frac{2^{rel_{i}}-1}{\\log_{2}(i+1)}\n",
    "$$"
   ]
  },
  {
   "cell_type": "markdown",
   "metadata": {
    "ExecuteTime": {
     "end_time": "2020-12-03T09:35:14.724220Z",
     "start_time": "2020-12-03T09:35:14.718287Z"
    },
    "slideshow": {
     "slide_type": "fragment"
    }
   },
   "source": [
    "$$\n",
    "\\mathrm{nDCG@k} = \\frac{\\textrm{DCG@k}}{\\textrm{IDCG@k}}\n",
    "$$"
   ]
  },
  {
   "cell_type": "markdown",
   "metadata": {
    "slideshow": {
     "slide_type": "fragment"
    }
   },
   "source": [
    "$$\n",
    "\\mathrm{IDCG@k} = \\sum_{i=1}^{|{REL}_k|} \\frac{ 2^{rel_{i}} - 1 }{ \\log_{2}(i+1)}\n",
    "$$"
   ]
  },
  {
   "cell_type": "markdown",
   "metadata": {
    "slideshow": {
     "slide_type": "subslide"
    }
   },
   "source": [
    "# Odwrócony indeks\n",
    "\n",
    "&nbsp;\n",
    "\n",
    "<center><img src=\"img/inverted.png\" width=\"800px\"/></center>"
   ]
  },
  {
   "cell_type": "markdown",
   "metadata": {
    "slideshow": {
     "slide_type": "subslide"
    }
   },
   "source": [
    "# Wyszukiwanie Boolowskie\n",
    "\n",
    "* $A \\land B \\land C$\n",
    "* $A \\lor B \\lor C$"
   ]
  },
  {
   "cell_type": "markdown",
   "metadata": {
    "slideshow": {
     "slide_type": "subslide"
    }
   },
   "source": [
    "# Wagowanie TF*IDF\n",
    "\n"
   ]
  },
  {
   "cell_type": "markdown",
   "metadata": {
    "slideshow": {
     "slide_type": "fragment"
    }
   },
   "source": [
    "$$\\textrm{TF}(w_i,D) = \\frac{f(w_i,D)}{max\\{f(w_i',D):w_i' \\in D\\}}$$"
   ]
  },
  {
   "cell_type": "markdown",
   "metadata": {
    "slideshow": {
     "slide_type": "fragment"
    }
   },
   "source": [
    "$$\\textrm{IDF}(w_i,C) = \\textrm{ln}\\frac{|C|}{|\\{D \\in C: w_i \\in D\\}|}$$"
   ]
  },
  {
   "cell_type": "markdown",
   "metadata": {
    "slideshow": {
     "slide_type": "subslide"
    }
   },
   "source": [
    "# Okapi BM25 (best matching)"
   ]
  },
  {
   "cell_type": "markdown",
   "metadata": {
    "ExecuteTime": {
     "end_time": "2020-12-02T16:41:09.331130Z",
     "start_time": "2020-12-02T16:41:09.321955Z"
    },
    "slideshow": {
     "slide_type": "fragment"
    }
   },
   "source": [
    "$$\\textrm{BM25}(Q,D) = \\sum_{i=1}^{n} \\textrm{IDF}(w_i) \\cdot \\frac{f(w_i, D) \\cdot (k_1 + 1)}{f(w_i, D) + k_1 \\cdot \\left(1 + b \\cdot \\left(\\frac{|D|}{\\text{avgdl}} - 1 \\right)\\right)}$$"
   ]
  },
  {
   "cell_type": "markdown",
   "metadata": {
    "slideshow": {
     "slide_type": "fragment"
    }
   },
   "source": [
    "$$\\textrm{IDF}(w_i) = \\ln \\left(\\frac{N - n(w_i) + 0.5}{n(w_i) + 0.5}+1\\right)$$"
   ]
  },
  {
   "cell_type": "markdown",
   "metadata": {
    "slideshow": {
     "slide_type": "fragment"
    }
   },
   "source": [
    "$$k_1 \\in [1.2, 2.0]\\; b = 0.75$$"
   ]
  },
  {
   "cell_type": "markdown",
   "metadata": {
    "slideshow": {
     "slide_type": "subslide"
    }
   },
   "source": [
    "# PageRank\n",
    "\n",
    "Algorytm PageRrank określa prawdopodobieństwo, że osoba przypadkowo klikająca na odnośniki (staratując z dowolnej strony internetowej) trafi na stronę internetową, dla której prawdopodobieństwo chcemy określić."
   ]
  },
  {
   "cell_type": "markdown",
   "metadata": {
    "slideshow": {
     "slide_type": "fragment"
    }
   },
   "source": [
    "$$\n",
    "\\textrm{PR}^{n+1}(u) = \\frac{1-d}{N} + d \\sum_{v \\in B_u} \\frac{\\textrm{PR}^n(v)}{L(v)}\n",
    "$$"
   ]
  },
  {
   "cell_type": "markdown",
   "metadata": {
    "slideshow": {
     "slide_type": "notes"
    }
   },
   "source": [
    "d - damping factor, ustawiony na 0.85"
   ]
  },
  {
   "cell_type": "markdown",
   "metadata": {
    "slideshow": {
     "slide_type": "fragment"
    }
   },
   "source": [
    "$$\n",
    "\\mathbf{R}(t+1) = d \\mathcal{M}\\mathbf{R}(t) + \\frac{1-d}{N} \\mathbf{1}\n",
    "$$"
   ]
  },
  {
   "cell_type": "markdown",
   "metadata": {
    "slideshow": {
     "slide_type": "fragment"
    }
   },
   "source": [
    "$$\n",
    "\\mathcal{M}_{ij} = \\begin{cases} 1 /L(p_j) , & \\text{jeśli j linkuje do i}\\ \\\\ 0, & \\text{w przeciwnym razie} \\end{cases}\n",
    "$$"
   ]
  },
  {
   "cell_type": "markdown",
   "metadata": {},
   "source": []
  },
  {
   "cell_type": "markdown",
   "metadata": {
    "slideshow": {
     "slide_type": "slide"
    }
   },
   "source": [
    "# Literatura\n",
    "\n",
    "* https://nlp.stanford.edu/IR-book/information-retrieval-book.html"
   ]
  },
  {
   "cell_type": "markdown",
   "metadata": {
    "slideshow": {
     "slide_type": "fragment"
    }
   },
   "source": [
    "<img src=\"img/pagerank.png\" />"
   ]
  }
 ],
 "metadata": {
  "celltoolbar": "Slideshow",
  "kernelspec": {
   "display_name": "Python 3 (ipykernel)",
   "language": "python",
   "name": "python3"
  },
  "language_info": {
   "codemirror_mode": {
    "name": "ipython",
    "version": 3
   },
   "file_extension": ".py",
   "mimetype": "text/x-python",
   "name": "python",
   "nbconvert_exporter": "python",
   "pygments_lexer": "ipython3",
   "version": "3.10.6"
  },
  "toc": {
   "base_numbering": 1,
   "nav_menu": {},
   "number_sections": false,
   "sideBar": true,
   "skip_h1_title": false,
   "title_cell": "Table of Contents",
   "title_sidebar": "Contents",
   "toc_cell": false,
   "toc_position": {},
   "toc_section_display": true,
   "toc_window_display": false
  }
 },
 "nbformat": 4,
 "nbformat_minor": 4
}
