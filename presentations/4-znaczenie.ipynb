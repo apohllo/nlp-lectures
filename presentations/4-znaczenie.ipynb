{
 "cells": [
  {
   "cell_type": "markdown",
   "metadata": {
    "editable": true,
    "slideshow": {
     "slide_type": "slide"
    },
    "tags": []
   },
   "source": [
    "# Reprezentacja i ujednoznacznianie sensu\n",
    "\n",
    "<br/>\n",
    "\n",
    "## dr inż. Aleksander Smywiński-Pohl\n",
    "\n",
    "## apohllo@agh.edu.pl\n",
    "\n",
    "## http://apohllo.pl/dydaktyka/nlp"
   ]
  },
  {
   "cell_type": "markdown",
   "metadata": {
    "slideshow": {
     "slide_type": "slide"
    }
   },
   "source": [
    "# Plan\n",
    "\n",
    "* **opis znaczenia**\n",
    "* relacje semantyczne\n",
    "* Wikipedia jako leksykon\n",
    "* algorytmy ujednoznaczniania sensu\n",
    "* ujednoznacznianie wyrażeń względem Wikipedii"
   ]
  },
  {
   "cell_type": "markdown",
   "metadata": {
    "editable": true,
    "slideshow": {
     "slide_type": "subslide"
    },
    "tags": []
   },
   "source": [
    "# Trójkąt semantyczny\n",
    "\n",
    "&nbsp;\n",
    "\n",
    "<center><img src=\"img/semiotic-triangle.png\" width=\"700px\"/></center>"
   ]
  },
  {
   "cell_type": "markdown",
   "metadata": {
    "cell_style": "split",
    "slideshow": {
     "slide_type": "subslide"
    }
   },
   "source": [
    "# Wieloznaczność wyrazu \"zamek\"\n",
    "\n",
    "&nbsp;\n",
    "\n",
    "<center><img src=\"img/zamek-1.jpg\"/></center>\n",
    "\n",
    "(ang. castle)"
   ]
  },
  {
   "cell_type": "markdown",
   "metadata": {
    "cell_style": "split",
    "slideshow": {
     "slide_type": "fragment"
    }
   },
   "source": [
    "# &nbsp;\n",
    "# &nbsp;\n",
    "\n",
    "&nbsp;\n",
    "\n",
    "<center><img src=\"img/zamek-2.jpeg\"/></center>\n",
    "\n",
    "(ang. lock)"
   ]
  },
  {
   "cell_type": "markdown",
   "metadata": {
    "slideshow": {
     "slide_type": "slide"
    }
   },
   "source": [
    "# Wielki Słownik Języka Polskiego\n",
    "\n",
    "&nbsp;\n",
    "\n",
    "<center><img src=\"img/wsjp-gol.png\"/></center>\n",
    "\n",
    "https://www.wsjp.pl/index.php?szukaj=gol&pwh=0"
   ]
  },
  {
   "cell_type": "markdown",
   "metadata": {
    "slideshow": {
     "slide_type": "subslide"
    }
   },
   "source": [
    "# WSJP - znaczenia wyrażenia \"gol\"\n",
    "\n",
    "&nbsp;\n",
    "\n",
    "<center><img src=\"img/wsjp-gol-znaczenia.png\"/></center>"
   ]
  },
  {
   "cell_type": "markdown",
   "metadata": {
    "slideshow": {
     "slide_type": "subslide"
    }
   },
   "source": [
    "# WSJP - definicja wyrazu \"gol\"\n",
    "\n",
    "&nbsp;\n",
    "\n",
    "<center><img src=\"img/wsjp-gol-1.png\"/></center>"
   ]
  },
  {
   "cell_type": "markdown",
   "metadata": {
    "slideshow": {
     "slide_type": "subslide"
    }
   },
   "source": [
    "# WSJP relacje semantyczne wyrazu \"gol\"\n",
    "\n",
    "&nbsp;\n",
    "\n",
    "<center><img src=\"img/wsjp-gol-relacje.png\"/></center>"
   ]
  },
  {
   "cell_type": "markdown",
   "metadata": {
    "slideshow": {
     "slide_type": "slide"
    }
   },
   "source": [
    "# WordNet\n",
    "\n",
    "* prace rozpoczęto w 1985 na Uniwersytecie w Princeton\n",
    "* pierwszy WordNet powstał dla języka angielskiego\n",
    "* obecnie istnieje szereg WordNetów (w tym 2 dla j. polskiego), twórcy są zrzeszeni w ramach Global WordNet Association\n",
    "* na początku XXI wieku WordNet stanowił podstawowy zasób służący do reprezentacji sensu"
   ]
  },
  {
   "cell_type": "markdown",
   "metadata": {
    "slideshow": {
     "slide_type": "subslide"
    }
   },
   "source": [
    "# Interfejs wyszukiwawczy WordNetu\n",
    "\n",
    "&nbsp;\n",
    "\n",
    "<center><img src=\"img/wordnet-wordnet.png\" width=\"900px\"></center>"
   ]
  },
  {
   "cell_type": "markdown",
   "metadata": {
    "slideshow": {
     "slide_type": "subslide"
    }
   },
   "source": [
    "# WordNet \"bank\" jako rzeczownik\n",
    "\n",
    "&nbsp;\n",
    "<center><img src=\"img/wordnet-bank-n.png\" width=\"800px\"/></center>"
   ]
  },
  {
   "cell_type": "markdown",
   "metadata": {
    "slideshow": {
     "slide_type": "subslide"
    }
   },
   "source": [
    "# WordNet \"bank\" jako czasownik\n",
    "\n",
    "&nbsp;\n",
    "<center><img src=\"img/wordnet-bank-v.png\" width=\"850px\"/></center>"
   ]
  },
  {
   "cell_type": "markdown",
   "metadata": {
    "slideshow": {
     "slide_type": "subslide"
    }
   },
   "source": [
    "# WordNet \"bank\" i pojęcia nadrzędne\n",
    "\n",
    "&nbsp;\n",
    "<center><img src=\"img/wordnet-hierarchy.png\" width=\"850px\"/></center>"
   ]
  },
  {
   "cell_type": "markdown",
   "metadata": {
    "slideshow": {
     "slide_type": "subslide"
    }
   },
   "source": [
    "# Synset - definicja w WordNecie\n",
    "\n",
    "&nbsp;\n",
    "\n",
    "<center><img src=\"img/wordnet-synset.png\" width=\"850px\"/></center>"
   ]
  },
  {
   "cell_type": "markdown",
   "metadata": {
    "cell_style": "split",
    "slideshow": {
     "slide_type": "subslide"
    }
   },
   "source": [
    "# Synonimia\n",
    "\n",
    "zastępowalność w tym samym kontekście\n",
    " * Widziałem jak jakiś **gliniarz** pałował demonstrantów.\n",
    " * Widziałem jak jakiś **pies** pałował demonstrantów."
   ]
  },
  {
   "cell_type": "markdown",
   "metadata": {
    "cell_style": "split",
    "slideshow": {
     "slide_type": "fragment"
    }
   },
   "source": [
    "# &nbsp;\n",
    "\n",
    "wzajemność relacji \"bycia rodzajem\"\n",
    " * **pies** jest rodzajem **gliniarza**\n",
    " * **gliniarz** jest rodzajem **psa**"
   ]
  },
  {
   "cell_type": "markdown",
   "metadata": {
    "slideshow": {
     "slide_type": "subslide"
    }
   },
   "source": [
    "# Synset - definicja w Słowosieci\n",
    "\n",
    "&nbsp;\n",
    "\n",
    "<i>\n",
    "    We put a given LU (=linguistic unit) into a synset because of all lexico-semantic <b>relations</b> of this\n",
    "LU with other units in the network\n",
    "</i>\n",
    "\n",
    "A WordNet from the Groud Up, Maciej Piasecki, Stanisław Szpakowicz, Bartosz Broda, 2009"
   ]
  },
  {
   "cell_type": "markdown",
   "metadata": {
    "slideshow": {
     "slide_type": "slide"
    }
   },
   "source": [
    "# Plan\n",
    "\n",
    "* opis znaczenia\n",
    "* **relacje semantyczne**\n",
    "* Wikipedia jako leksykon\n",
    "* algorytmy ujednoznaczniania sensu\n",
    "* ujednoznacznianie wyrażeń względem Wikipedii"
   ]
  },
  {
   "cell_type": "markdown",
   "metadata": {
    "slideshow": {
     "slide_type": "subslide"
    }
   },
   "source": [
    "# Relacje semantyczne w Słowosieci\n",
    "\n",
    "* synonimia\n",
    "* hiperonimia/hiponimia\n",
    "* holonimia/meronimia\n",
    "* anotnimia\n",
    "* konwersja\n",
    "* holonimia/meronimia czasownikowa\n",
    "* bliskoznaczność\n",
    "* ...\n",
    "\n",
    "Aktualnie w Słowosieci wyróżnia się 41 relacji (oraz wiele podtypów relacji głównych)."
   ]
  },
  {
   "cell_type": "markdown",
   "metadata": {
    "slideshow": {
     "slide_type": "slide"
    }
   },
   "source": [
    "# Tabela najważniejszych relacji\n",
    "\n",
    "&nbsp;\n",
    "\n",
    "| relacja    | test | klasy syntaktyczne | przykład    |\n",
    "|:-----------|:-----|:-------------------|:------------|\n",
    "| hiponimia/ <br/> hiperonimia | X ma węższe <br/>znaczenie, niż Y | N-N, Adj-Adj, <br/> Adv-Adv, V-V | jabłko $\\rightarrow$ owoc |\n",
    "| meronimia/ <br/> holonimia | X jest częścią Y | N-N | szprycha $\\rightarrow$ koło |\n",
    "| antonimia  | X i Y mają <br/> przeciwne znaczenia | N-N, Adj-Adj, <br/> Adv-Adv, V-V | martwy $\\leftrightarrow$ żywy |\n",
    "| konwersja  | X i Y w układzie <br/> odniesienia  są tym samym,  <br/> ale postrzeganym z różnych <br/> punktów widzenia | N-N, Adj-Adj, <br/> Adv-Adv, V-V | mąż $\\leftrightarrow$ żona |\n",
    "| meronimia/ <br/> holonimia <br/> czasownikowa | X towarszyszy Y | V-V | chrapać $\\rightarrow$ spać |\n",
    "&nbsp;\n",
    "\n",
    "http://www.nlp.pwr.wroc.pl/2-uncategorised/81-relacje-w-slowosieci"
   ]
  },
  {
   "cell_type": "markdown",
   "metadata": {
    "slideshow": {
     "slide_type": "notes"
    }
   },
   "source": [
    "* TODO strukturalna polisemia, z przykładem metonimi: bank/bank, uniwersytet/uniwersytet, etc.\n",
    "* TODO kwestia korzeni kategorii"
   ]
  },
  {
   "cell_type": "markdown",
   "metadata": {
    "slideshow": {
     "slide_type": "subslide"
    }
   },
   "source": [
    "# Jak interpretować hiperonimię?\n",
    "\n",
    "&nbsp;\n",
    "\n",
    "<span style=\"font-size: 1.5em\">\n",
    "X jest rodzajem Y (?)\n",
    "</span>"
   ]
  },
  {
   "cell_type": "markdown",
   "metadata": {
    "slideshow": {
     "slide_type": "fragment"
    }
   },
   "source": [
    "* *Jabłoń* jest rodzajem *drzewa*"
   ]
  },
  {
   "cell_type": "markdown",
   "metadata": {
    "slideshow": {
     "slide_type": "fragment"
    }
   },
   "source": [
    "* *Drzewo* jest rodzajem *rośliny*"
   ]
  },
  {
   "cell_type": "markdown",
   "metadata": {
    "slideshow": {
     "slide_type": "fragment"
    }
   },
   "source": [
    "* $\\rightarrow$ *Jabłoń* jest rodzajem *rośliny*"
   ]
  },
  {
   "cell_type": "markdown",
   "metadata": {
    "slideshow": {
     "slide_type": "fragment"
    }
   },
   "source": [
    "* *Anna* jest (rodzajem) *programistką*"
   ]
  },
  {
   "cell_type": "markdown",
   "metadata": {
    "slideshow": {
     "slide_type": "fragment"
    }
   },
   "source": [
    "* *Programistka* jest rodzajem *zawodu*"
   ]
  },
  {
   "cell_type": "markdown",
   "metadata": {
    "slideshow": {
     "slide_type": "fragment"
    }
   },
   "source": [
    "* $\\nrightarrow$ *Anna* jest (rodzajem) *zawodem*"
   ]
  },
  {
   "cell_type": "markdown",
   "metadata": {
    "slideshow": {
     "slide_type": "subslide"
    }
   },
   "source": [
    "# Ujęcie teoriomnogościowe\n",
    "\n",
    "* odróżnienie należenia do zbioru $\\in$ od zawierania zbiorów $\\subset$."
   ]
  },
  {
   "cell_type": "markdown",
   "metadata": {
    "slideshow": {
     "slide_type": "fragment"
    }
   },
   "source": [
    "* $\\textrm{JABŁOŃ} \\subset \\textrm{DRZEWO} \\hspace{2cm} \\forall x : \\textrm{JABŁOŃ}(x) \\rightarrow \\textrm{DRZEWO}(x)$"
   ]
  },
  {
   "cell_type": "markdown",
   "metadata": {
    "slideshow": {
     "slide_type": "fragment"
    }
   },
   "source": [
    "* $\\textrm{DRZEWO} \\subset \\textrm{ROŚLINA}$"
   ]
  },
  {
   "cell_type": "markdown",
   "metadata": {
    "slideshow": {
     "slide_type": "fragment"
    }
   },
   "source": [
    "* $\\textrm{JABŁOŃ} \\subset \\textrm{ROŚLINA}$"
   ]
  },
  {
   "cell_type": "markdown",
   "metadata": {
    "slideshow": {
     "slide_type": "fragment"
    }
   },
   "source": [
    "* $\\textrm{ANNA} \\in \\textrm{PROGRAMISTKA}$"
   ]
  },
  {
   "cell_type": "markdown",
   "metadata": {
    "slideshow": {
     "slide_type": "fragment"
    }
   },
   "source": [
    "* $\\textrm{PROGRAMISTKA} \\in \\textrm{ZAWÓD}$"
   ]
  },
  {
   "cell_type": "markdown",
   "metadata": {
    "slideshow": {
     "slide_type": "fragment"
    }
   },
   "source": [
    "* $\\textrm{ANNA} \\notin \\textrm{ZAWÓD}$"
   ]
  },
  {
   "cell_type": "markdown",
   "metadata": {
    "slideshow": {
     "slide_type": "subslide"
    }
   },
   "source": [
    "# \"Gol\" w znaczeniu \"oceny\" w WSJP\n",
    "\n",
    "&nbsp;\n",
    "\n",
    "<center><img src=\"img/gol-ocena.png\" width=\"700px\"/></center>"
   ]
  },
  {
   "cell_type": "markdown",
   "metadata": {
    "slideshow": {
     "slide_type": "subslide"
    }
   },
   "source": [
    "# Test zastępowalności\n",
    "\n",
    "* Na placu stoi jakaś *jabłoń*\n",
    "* Na placu stoi jakieś *drzewo*\n",
    "* Na placu stoi jakaś *roślina*"
   ]
  },
  {
   "cell_type": "markdown",
   "metadata": {
    "slideshow": {
     "slide_type": "fragment"
    }
   },
   "source": [
    "* W dzienniku mam jakąś *ocenę*\n",
    "* W dzienniku mam jakąś *jedynkę* (?)\n",
    "* W dzienniku mam jakiś *gol* (?)"
   ]
  },
  {
   "cell_type": "markdown",
   "metadata": {
    "slideshow": {
     "slide_type": "fragment"
    }
   },
   "source": [
    "* $\\textrm{JEDYNKA} \\subset \\textrm{OCENA} \\hspace{2cm} \\forall x : \\textrm{JEDYNKA}(x) \\rightarrow \\textrm{OCENA}(x)$ ?\n",
    "\n",
    "czy\n",
    "\n",
    "* $\\textrm{JEDYNKA} \\in \\textrm{OCENA}$"
   ]
  },
  {
   "cell_type": "markdown",
   "metadata": {
    "slideshow": {
     "slide_type": "subslide"
    }
   },
   "source": [
    "# \"Poniedziałek\" w WSJP\n",
    "\n",
    "&nbsp;\n",
    "\n",
    "<center><img src=\"img/poniedzialek.png\" width=\"700px\"/></center>"
   ]
  },
  {
   "cell_type": "markdown",
   "metadata": {
    "slideshow": {
     "slide_type": "subslide"
    }
   },
   "source": [
    "# Słowosieć - znaczenie wyrażenia \"gol\"\n",
    "\n",
    "&nbsp;\n",
    "\n",
    "<center><img src=\"img/slowosiec-gol.png\" width=\"700px\"/></center>"
   ]
  },
  {
   "cell_type": "markdown",
   "metadata": {
    "cell_style": "split",
    "slideshow": {
     "slide_type": "subslide"
    }
   },
   "source": [
    "# Słowosieć - relacje wyrazu \"gol\"\n",
    "\n",
    "&nbsp;\n",
    "\n",
    "<center><img src=\"img/slowosiec-gol-relacje-1.png\" width=\"500px\"/></center>"
   ]
  },
  {
   "cell_type": "markdown",
   "metadata": {
    "cell_style": "split",
    "slideshow": {
     "slide_type": "fragment"
    }
   },
   "source": [
    "# &nbsp;\n",
    "\n",
    "&nbsp;\n",
    "\n",
    "<center><img src=\"img/slowosiec-gol-relacje-2.png\" width=\"400px\"/></center>"
   ]
  },
  {
   "cell_type": "markdown",
   "metadata": {
    "cell_style": "split",
    "slideshow": {
     "slide_type": "subslide"
    }
   },
   "source": [
    "# Słowosieć - relacje wyrazu \"gol\"\n",
    "\n",
    "&nbsp;\n",
    "\n",
    "<center><img src=\"img/slowosiec-gol-relacje-3.png\" width=\"450px\"/></center>"
   ]
  },
  {
   "cell_type": "markdown",
   "metadata": {
    "cell_style": "split",
    "slideshow": {
     "slide_type": "fragment"
    }
   },
   "source": [
    "# &nbsp;\n",
    "\n",
    "&nbsp;\n",
    "\n",
    "<center><img src=\"img/slowosiec-gol-kategorie.png\" width=\"400px\"/></center>"
   ]
  },
  {
   "cell_type": "markdown",
   "metadata": {
    "slideshow": {
     "slide_type": "subslide"
    }
   },
   "source": [
    "# Słowosieć - relacje wyrazu \"gol\"\n",
    "\n",
    "&nbsp;\n",
    "\n",
    "<center><img src=\"img/slowosiec-gol-graf.png\"/></center>"
   ]
  },
  {
   "cell_type": "markdown",
   "metadata": {
    "slideshow": {
     "slide_type": "subslide"
    }
   },
   "source": [
    "# Statystyki polskiego WordNetu\n",
    "\n",
    "&nbsp;\n",
    "\n",
    "<center><img src=\"img/pl-wordnet-stats.png\"/></center>"
   ]
  },
  {
   "cell_type": "markdown",
   "metadata": {
    "slideshow": {
     "slide_type": "slide"
    }
   },
   "source": [
    "# Plan\n",
    "\n",
    "* opis znaczenia\n",
    "* relacje semantyczne\n",
    "* **Wikipedia jako leksykon**\n",
    "* algorytmy ujednoznaczniania sensu\n",
    "* ujednoznacznianie wyrażeń względem Wikipedii"
   ]
  },
  {
   "cell_type": "markdown",
   "metadata": {
    "slideshow": {
     "slide_type": "subslide"
    }
   },
   "source": [
    "# Wikipedia jako leksykon\n",
    "\n",
    "&nbsp;\n",
    "\n",
    "<center><img src=\"img/wikipedia-zamek.png\"/></center>"
   ]
  },
  {
   "cell_type": "markdown",
   "metadata": {
    "slideshow": {
     "slide_type": "subslide"
    }
   },
   "source": [
    "# Zamek (budowla) w Wikipedii\n",
    "\n",
    "&nbsp;\n",
    "\n",
    "<center><img src=\"img/wikipedia-zamek-1.png\"/></center>"
   ]
  },
  {
   "cell_type": "markdown",
   "metadata": {
    "slideshow": {
     "slide_type": "subslide"
    }
   },
   "source": [
    "# Odnośniki wewnętrzne w Wikipedii\n",
    "\n",
    "&nbsp;\n",
    "\n",
    "<center><img src=\"img/wikipedia-zamek-relacja.png\"/></center>"
   ]
  },
  {
   "cell_type": "markdown",
   "metadata": {
    "slideshow": {
     "slide_type": "subslide"
    }
   },
   "source": [
    "# Strukturalne dane w Wikipedii\n",
    "\n",
    "&nbsp;\n",
    "\n",
    "<center><img src=\"img/wikipedia-zamek-2.png\"/></center>"
   ]
  },
  {
   "cell_type": "markdown",
   "metadata": {
    "cell_style": "split",
    "slideshow": {
     "slide_type": "subslide"
    }
   },
   "source": [
    "# Powiązanie Wikipedii i Wikidanych\n",
    "\n",
    "&nbsp;\n",
    "\n",
    "<center><img src=\"img/link-do-danych.png\"/></center>"
   ]
  },
  {
   "cell_type": "markdown",
   "metadata": {
    "cell_style": "split",
    "slideshow": {
     "slide_type": "fragment"
    }
   },
   "source": [
    "&nbsp;\n",
    "\n",
    "<center><img src=\"img/wikidata-zamek-1.png\" width=\"800px\"/></center>"
   ]
  },
  {
   "cell_type": "markdown",
   "metadata": {
    "slideshow": {
     "slide_type": "subslide"
    }
   },
   "source": [
    "# Powiązanie Wikidanych i WordNetu\n",
    "\n",
    "&nbsp;\n",
    "\n",
    "<center><img src=\"img/wikidata-wordnet.png\" width=\"800px\"/></center>"
   ]
  },
  {
   "cell_type": "markdown",
   "metadata": {
    "slideshow": {
     "slide_type": "slide"
    }
   },
   "source": [
    "# Plan\n",
    "\n",
    "* opis znaczenia\n",
    "* relacje semantyczne\n",
    "* Wikipedia jako leksykon\n",
    "* **algorytmy ujednoznaczniania sensu**\n",
    "* ujednoznacznianie wyrażeń względem Wikipedii"
   ]
  },
  {
   "cell_type": "markdown",
   "metadata": {
    "slideshow": {
     "slide_type": "subslide"
    }
   },
   "source": [
    "# Ujednoznacznianie sensu\n",
    "\n",
    "* wybranie sensu wyrażenia, które psuje do danego kontekstu\n",
    "  * *Zamek* na Wawelu jest piękny.\n",
    "  * *Zamek* wymaga naoliwienia."
   ]
  },
  {
   "cell_type": "markdown",
   "metadata": {
    "slideshow": {
     "slide_type": "subslide"
    }
   },
   "source": [
    "# Rodzaje dezambiguacji\n",
    "\n",
    "* dezambiguacja *wybranej grupy* wyrazów\n",
    "* dezambiguacja *wszystkich wyrazów* należacych do kategorii: rzeczownik, czasownik, przymiotnik, przysłówek"
   ]
  },
  {
   "cell_type": "markdown",
   "metadata": {
    "slideshow": {
     "slide_type": "fragment"
    }
   },
   "source": [
    "<center><img src=\"img/all-word-dsmb.png\"/></center>"
   ]
  },
  {
   "cell_type": "markdown",
   "metadata": {
    "slideshow": {
     "slide_type": "subslide"
    }
   },
   "source": [
    "# Rodzaje algorytmów\n",
    "\n",
    "* nienadzorowane - wykorzystują tylko słownik oraz inne zasoby językowe\n",
    "* nadzorowane - wykorzystują otagowany korpus"
   ]
  },
  {
   "cell_type": "markdown",
   "metadata": {
    "slideshow": {
     "slide_type": "fragment"
    }
   },
   "source": [
    "## Algorytmy bazowe\n",
    "\n",
    "* wybranie najczęstszego sensu (Most Frequent Sense - MFS), pierwszy wpis w WordNecie\n",
    "* jeden sens w jednym dokumencie"
   ]
  },
  {
   "cell_type": "markdown",
   "metadata": {
    "slideshow": {
     "slide_type": "fragment"
    }
   },
   "source": [
    "## Anotowane korpusy\n",
    "\n",
    "* SemCor (EN)\n",
    "* Składnica (PL)\n",
    "* PolEval 2020 (PL)"
   ]
  },
  {
   "cell_type": "markdown",
   "metadata": {
    "slideshow": {
     "slide_type": "subslide"
    }
   },
   "source": [
    "# Uproszczony algorytm Leska (nienadzorowany)\n",
    "\n",
    "&nbsp;\n",
    "\n",
    "<center><img src=\"img/lesk.png\" width=\"700px\"/></center>"
   ]
  },
  {
   "cell_type": "markdown",
   "metadata": {
    "slideshow": {
     "slide_type": "fragment"
    }
   },
   "source": [
    "Precyzja: 58% na danych Senseval."
   ]
  },
  {
   "cell_type": "markdown",
   "metadata": {
    "slideshow": {
     "slide_type": "subslide"
    }
   },
   "source": [
    "# Algorytm Loureiro & Jorge (nadzorowany)\n",
    "\n",
    "&nbsp;\n",
    "\n",
    "<center><img src=\"img/loureiro.png\" width=\"700px\"/></center>"
   ]
  },
  {
   "cell_type": "markdown",
   "metadata": {
    "slideshow": {
     "slide_type": "subslide"
    }
   },
   "source": [
    "# Oznaczenia\n",
    "\n",
    "* $c$ - para `<jednostka leksykalna>` - `<synset>`, np. `find` - `1. (159) find, happen, chance, bump, encounter`, zwana sensem,\n",
    "* $c_i$ - $i$-ty token, otagowany w korpusie jako należący do określonego $c$,\n",
    "* $S_{\\hat{S}}$ - zbiór osadzeń pozostałych sensów, w ramach danego synsetu, np. `happen` - `1. (159) find, happen, chance, bump, encounter`,\n",
    "* $H_{\\hat{S}}$ - zbiór osadzeń dla hiperonimów synsetu, do którego należy dany sens, np. `2. detect, observe, find, discover, notice` $\\rightarrow$ `spy, sight`\n",
    "* $L_{\\hat{S}}$ - zbiór osadzeń dla super-sensu (pojęcia stojącego na początku hierarchii synsetów)"
   ]
  },
  {
   "cell_type": "markdown",
   "metadata": {
    "slideshow": {
     "slide_type": "fragment"
    }
   },
   "source": [
    "<center><img src=\"img/loureiro-math.png\" width=\"400px\"/></center>"
   ]
  },
  {
   "cell_type": "markdown",
   "metadata": {
    "slideshow": {
     "slide_type": "subslide"
    }
   },
   "source": [
    "# Wyniki\n",
    "\n",
    "&nbsp;\n",
    "\n",
    "<center><img src=\"img/loureiro-results.png\"/></center>"
   ]
  },
  {
   "cell_type": "markdown",
   "metadata": {
    "slideshow": {
     "slide_type": "slide"
    }
   },
   "source": [
    "# Plan\n",
    "\n",
    "* opis znaczenia\n",
    "* relacje semantyczne\n",
    "* Wikipedia jako leksykon\n",
    "* algorytmy ujednoznaczniania sensu\n",
    "* **ujednoznacznianie wyrażeń względem Wikipedii**"
   ]
  },
  {
   "cell_type": "markdown",
   "metadata": {
    "slideshow": {
     "slide_type": "subslide"
    }
   },
   "source": [
    "# Ujednoznacznianie encji na podstawie Wikipedii\n",
    "\n",
    "\n",
    "&nbsp;\n",
    "\n",
    "<center><img src=\"img/zamek-sensy.png\" width=\"700px\"/></center>"
   ]
  },
  {
   "cell_type": "markdown",
   "metadata": {
    "slideshow": {
     "slide_type": "subslide"
    }
   },
   "source": [
    "# Cechy ujednoznaczniające\n",
    "\n",
    "* prawdopodobieństwo sensu $P_{sense}(s_i, \\sigma_j) = \\frac{c(s_i, \\sigma_j)}{c(s_i)}$\n",
    "* prawdopodobieństwo odnośnika $P_{link}(s_i) = \\frac{c_{link}(s_i)}{c_{total}(s_i)}$\n",
    "* średnie pokrewieństwo semantyczne $\\overline{SR}(\\sigma_i) = \\frac{1}{n-1}\\sum_{j=1,j\\neq i}^{n}SR_J(\\sigma_i, \\sigma_j)$\n",
    "* waga wyrażenia $W(\\sigma_i) = \\frac{\\overline{SR}(\\sigma_i)+P_{link}(\\sigma_i)}{2}$\n",
    "* jakość kontekstu $G(V) = \\sum_{i=1}^{n}W(\\sigma_i)$"
   ]
  },
  {
   "cell_type": "markdown",
   "metadata": {
    "cell_style": "split",
    "slideshow": {
     "slide_type": "subslide"
    }
   },
   "source": [
    "# Pokrewieństwo semantyczne\n",
    "\n",
    "* $A$ - zbiór stron linkujących do strony $a$\n",
    "* $B$ - zbiór stron linkujących do strony $b$\n",
    "\n",
    "\n",
    "$$\n",
    "SR_{J}(\\sigma_a,\\sigma_b) = \\left\\{\\begin{array}{ll}\n",
    "    \\frac{1}{1 - log\\left(\\frac{|\\boldsymbol{A} \\cap\n",
    "    \\boldsymbol{B}|}{|\\boldsymbol{A} \\cup \\boldsymbol{B}|}\\right)} &\n",
    "          |\\boldsymbol{A} \\cap \\boldsymbol{B}| > 0 \\\\\n",
    "          0  &  |\\boldsymbol{A} \\cap \\boldsymbol{B}| = 0 \\land a \\neq b \\\\\n",
    "          1  &  |\\boldsymbol{A} \\cap \\boldsymbol{B}| = 0 \\land a = b \\\\\n",
    "\\end{array} \\right.\n",
    "$$"
   ]
  },
  {
   "cell_type": "markdown",
   "metadata": {
    "cell_style": "split",
    "slideshow": {
     "slide_type": "fragment"
    }
   },
   "source": [
    "# Pokrewieństwo \"Warszawy\" &nbsp;\n",
    "\n",
    "&nbsp;\n",
    "\n",
    "<center><img src=\"img/warszawa-podobne.png\" width=\"400px\"/></center>"
   ]
  },
  {
   "cell_type": "markdown",
   "metadata": {
    "slideshow": {
     "slide_type": "subslide"
    }
   },
   "source": [
    "# Wektor ujednoznaczniający dla frazy \"Burowie\"\n",
    "\n",
    "&nbsp;\n",
    "\n",
    "<center><img src=\"img/semantic-vector.png\"/></center>"
   ]
  },
  {
   "cell_type": "markdown",
   "metadata": {
    "slideshow": {
     "slide_type": "subslide"
    }
   },
   "source": [
    "# Wyniki ujednoznaczniania\n",
    "\n",
    "&nbsp;\n",
    "\n",
    "<center><img src=\"img/wyniki-wikipedia-1.png\" width=\"800px\"/></center>"
   ]
  },
  {
   "cell_type": "markdown",
   "metadata": {
    "slideshow": {
     "slide_type": "fragment"
    }
   },
   "source": [
    "&nbsp;\n",
    "\n",
    "<center><img src=\"img/wyniki-wikipedia-2.png\" width=\"800px\"/></center>"
   ]
  },
  {
   "cell_type": "markdown",
   "metadata": {
    "slideshow": {
     "slide_type": "slide"
    }
   },
   "source": [
    "# Literatury\n",
    "\n",
    "* [Speech and Language Processing. Daniel Jurafsky & James H. Martin, chapter 19](https://web.stanford.edu/~jurafsky/slp3/19.pdf)\n",
    "* [Improving the Wikipedia Miner Word Sense Disambiguation Algorithm, A. Pohl](https://pdfs.semanticscholar.org/6eb9/7f6fcd4f5a980f8902a661bbbb392b87713f.pdf)\n",
    "* [Automatyczna ekstrakcja relacji semantycznych z tekstów w języku polskim, A. Smywiński-Pohl](http://doktoraty.iet.agh.edu.pl/2015:asp:start)"
   ]
  },
  {
   "cell_type": "markdown",
   "metadata": {
    "slideshow": {
     "slide_type": "slide"
    }
   },
   "source": [
    "<center><img src=\"img/robot-vision.jpg\" width=\"600px\"/></center>"
   ]
  }
 ],
 "metadata": {
  "celltoolbar": "Slideshow",
  "kernelspec": {
   "display_name": "Python 3 (ipykernel)",
   "language": "python",
   "name": "python3"
  },
  "language_info": {
   "codemirror_mode": {
    "name": "ipython",
    "version": 3
   },
   "file_extension": ".py",
   "mimetype": "text/x-python",
   "name": "python",
   "nbconvert_exporter": "python",
   "pygments_lexer": "ipython3",
   "version": "3.11.5"
  },
  "toc": {
   "base_numbering": 1,
   "nav_menu": {},
   "number_sections": false,
   "sideBar": true,
   "skip_h1_title": false,
   "title_cell": "Table of Contents",
   "title_sidebar": "Contents",
   "toc_cell": false,
   "toc_position": {},
   "toc_section_display": true,
   "toc_window_display": false
  }
 },
 "nbformat": 4,
 "nbformat_minor": 4
}
